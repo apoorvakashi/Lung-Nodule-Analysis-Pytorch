{
 "cells": [
  {
   "cell_type": "code",
   "execution_count": 1,
   "metadata": {},
   "outputs": [],
   "source": [
    "from segmentation.model import *\n",
    "from segmentation.prepcache import *\n",
    "\n",
    "import datetime\n",
    "\n",
    "from utill.util import importstr\n",
    "from utill.logconf import logging\n",
    "\n",
    "\n",
    "log = logging.getLogger('nb')"
   ]
  },
  {
   "cell_type": "code",
   "execution_count": 2,
   "metadata": {},
   "outputs": [],
   "source": [
    "def run(app, *argv):\n",
    "    argv = list(argv)\n",
    "    argv.insert(0, '--num-workers=4')  # <1>\n",
    "    log.info(\"Running: {}({!r}).main()\".format(app, argv))\n",
    "    \n",
    "    app_cls = importstr(*app.rsplit('.', 1))  # <2>\n",
    "    app_cls(argv).main()\n",
    "    \n",
    "    log.info(\"Finished: {}.{!r}).main()\".format(app, argv))"
   ]
  },
  {
   "cell_type": "code",
   "execution_count": 3,
   "metadata": {},
   "outputs": [
    {
     "name": "stderr",
     "output_type": "stream",
     "text": [
      "2022-05-25 09:41:57,687 INFO     pid:1040 nb:004:run Running: segmentation.prepcache.LunaPrepCacheApp(['--num-workers=4']).main()\n",
      "2022-05-25 09:41:57,688 INFO     pid:1040 segmentation.prepcache:042:main Starting LunaPrepCacheApp, Namespace(batch_size=1024, num_workers=4)\n",
      "2022-05-25 09:41:59,512 WARNING  pid:1040 utill.util:126:enumerateWithEstimate Stuffing cache ----/56, starting\n",
      "2022-05-25 09:47:50,070 INFO     pid:1040 utill.util:146:enumerateWithEstimate Stuffing cache    8/56, done at 2022-05-25 10:30:07, 0:46:47\n",
      "2022-05-25 09:52:19,378 INFO     pid:1040 utill.util:146:enumerateWithEstimate Stuffing cache   16/56, done at 2022-05-25 10:19:17, 0:35:56\n",
      "2022-05-25 10:03:35,184 INFO     pid:1040 utill.util:146:enumerateWithEstimate Stuffing cache   32/56, done at 2022-05-25 10:19:38, 0:36:18\n",
      "2022-05-25 10:34:11,955 WARNING  pid:1040 utill.util:159:enumerateWithEstimate Stuffing cache ----/56, done at 2022-05-25 10:34:11\n",
      "2022-05-25 10:34:11,956 INFO     pid:1040 nb:009:run Finished: segmentation.prepcache.LunaPrepCacheApp.['--num-workers=4']).main()\n"
     ]
    }
   ],
   "source": [
    "run('segmentation.prepcache.LunaPrepCacheApp')"
   ]
  },
  {
   "cell_type": "code",
   "execution_count": 3,
   "metadata": {},
   "outputs": [
    {
     "name": "stderr",
     "output_type": "stream",
     "text": [
      "2022-05-25 11:11:48,270 INFO     pid:25468 nb:004:run Running: segmentation.training.SegmentationTrainingApp(['--num-workers=4', '--epochs=5', '--augmented']).main()\n",
      "2022-05-25 11:11:48,449 INFO     pid:25468 segmentation.training:148:initModel Using CUDA; 1 devices.\n",
      "2022-05-25 11:11:48,532 INFO     pid:25468 segmentation.training:260:main Starting SegmentationTrainingApp, Namespace(batch_size=16, num_workers=4, epochs=5, augmented=True, augment_flip=False, augment_offset=False, augment_scale=False, augment_rotate=False, augment_noise=False, tb_prefix='segmentation', comment='none')\n",
      "2022-05-25 11:11:51,977 INFO     pid:25468 combining_data.segm_data:293:__init__ <combining_data.segm_data.TrainingLuna2dSegmentationDataset object at 0x0000029A0B226C40>: 80 training series, 890 slices, 101 nodules\n",
      "2022-05-25 11:11:51,985 INFO     pid:25468 combining_data.segm_data:293:__init__ <combining_data.segm_data.Luna2dSegmentationDataset object at 0x0000029A0B4E2B20>: 9 validation series, 81 slices, 11 nodules\n",
      "2022-05-25 11:11:51,986 INFO     pid:25468 segmentation.training:268:main Epoch 1 of 5, 3125/6 batches of size 16*1\n",
      "2022-05-25 11:11:52,920 WARNING  pid:25468 utill.util:126:enumerateWithEstimate E1 Training ----/3125, starting\n",
      "2022-05-25 11:12:36,614 INFO     pid:25468 utill.util:146:enumerateWithEstimate E1 Training   16/3125, done at 2022-05-25 11:14:00, 0:01:23\n",
      "2022-05-25 11:12:37,945 INFO     pid:25468 utill.util:146:enumerateWithEstimate E1 Training   64/3125, done at 2022-05-25 11:14:02, 0:01:25\n",
      "2022-05-25 11:12:43,109 INFO     pid:25468 utill.util:146:enumerateWithEstimate E1 Training  256/3125, done at 2022-05-25 11:14:00, 0:01:24\n",
      "2022-05-25 11:13:03,748 INFO     pid:25468 utill.util:146:enumerateWithEstimate E1 Training 1024/3125, done at 2022-05-25 11:14:00, 0:01:24\n",
      "2022-05-25 11:14:00,749 WARNING  pid:25468 utill.util:159:enumerateWithEstimate E1 Training ----/3125, done at 2022-05-25 11:14:00\n",
      "2022-05-25 11:14:00,752 INFO     pid:25468 segmentation.training:400:logMetrics E1 SegmentationTrainingApp\n",
      "2022-05-25 11:14:00,773 INFO     pid:25468 segmentation.training:430:logMetrics E1 trn      0.6476 loss, 0.1805 precision, 0.9573 recall, 0.3037 f1 score\n",
      "2022-05-25 11:14:00,774 INFO     pid:25468 segmentation.training:440:logMetrics E1 trn_all  0.6476 loss,  95.7% tp,   4.3% fn,     434.7% fp\n",
      "2022-05-25 11:14:00,795 WARNING  pid:25468 utill.util:126:enumerateWithEstimate E1 Validation  ----/6, starting\n",
      "2022-05-25 11:14:41,146 WARNING  pid:25468 utill.util:159:enumerateWithEstimate E1 Validation  ----/6, done at 2022-05-25 11:14:41\n",
      "2022-05-25 11:14:41,148 INFO     pid:25468 segmentation.training:400:logMetrics E1 SegmentationTrainingApp\n",
      "2022-05-25 11:14:41,149 INFO     pid:25468 segmentation.training:430:logMetrics E1 val      0.9660 loss, 0.0111 precision, 0.8572 recall, 0.0219 f1 score\n",
      "2022-05-25 11:14:41,149 INFO     pid:25468 segmentation.training:440:logMetrics E1 val_all  0.9660 loss,  85.7% tp,  14.3% fn,    7631.8% fp\n",
      "2022-05-25 11:14:41,453 INFO     pid:25468 segmentation.training:495:saveModel Saved model params to data\\models\\segmentation\\seg_2022-05-25_11.11.48_none.50000.state\n",
      "2022-05-25 11:14:41,455 INFO     pid:25468 segmentation.training:504:saveModel Saved model params to data\\models\\segmentation\\seg_2022-05-25_11.11.48_none.best.state\n",
      "2022-05-25 11:14:41,472 INFO     pid:25468 segmentation.training:507:saveModel SHA1: bc4f699348bb4d8ffa0be22c93613f52ebe6cc01\n",
      "2022-05-25 11:17:49,053 INFO     pid:25468 segmentation.training:268:main Epoch 2 of 5, 3125/6 batches of size 16*1\n",
      "2022-05-25 11:17:49,083 WARNING  pid:25468 utill.util:126:enumerateWithEstimate E2 Training ----/3125, starting\n",
      "2022-05-25 11:22:24,669 INFO     pid:25468 utill.util:146:enumerateWithEstimate E2 Training   16/3125, done at 2022-05-25 12:15:18, 0:53:06\n",
      "2022-05-25 11:22:25,953 INFO     pid:25468 utill.util:146:enumerateWithEstimate E2 Training   64/3125, done at 2022-05-25 11:34:36, 0:12:24\n",
      "2022-05-25 11:22:31,081 INFO     pid:25468 utill.util:146:enumerateWithEstimate E2 Training  256/3125, done at 2022-05-25 11:26:14, 0:04:02\n",
      "2022-05-25 11:22:51,661 INFO     pid:25468 utill.util:146:enumerateWithEstimate E2 Training 1024/3125, done at 2022-05-25 11:24:14, 0:02:03\n",
      "2022-05-25 11:24:02,362 WARNING  pid:25468 utill.util:159:enumerateWithEstimate E2 Training ----/3125, done at 2022-05-25 11:24:02\n",
      "2022-05-25 11:24:02,366 INFO     pid:25468 segmentation.training:400:logMetrics E2 SegmentationTrainingApp\n",
      "2022-05-25 11:24:02,368 INFO     pid:25468 segmentation.training:430:logMetrics E2 trn      0.4087 loss, 0.3494 precision, 0.9262 recall, 0.5074 f1 score\n",
      "2022-05-25 11:24:02,369 INFO     pid:25468 segmentation.training:440:logMetrics E2 trn_all  0.4087 loss,  92.6% tp,   7.4% fn,     172.5% fp\n",
      "2022-05-25 11:24:02,371 INFO     pid:25468 segmentation.training:268:main Epoch 3 of 5, 3125/6 batches of size 16*1\n",
      "2022-05-25 11:24:02,399 WARNING  pid:25468 utill.util:126:enumerateWithEstimate E3 Training ----/3125, starting\n",
      "2022-05-25 11:24:07,694 INFO     pid:25468 utill.util:146:enumerateWithEstimate E3 Training   16/3125, done at 2022-05-25 11:25:30, 0:01:23\n",
      "2022-05-25 11:24:08,981 INFO     pid:25468 utill.util:146:enumerateWithEstimate E3 Training   64/3125, done at 2022-05-25 11:25:30, 0:01:23\n",
      "2022-05-25 11:24:14,127 INFO     pid:25468 utill.util:146:enumerateWithEstimate E3 Training  256/3125, done at 2022-05-25 11:25:30, 0:01:23\n",
      "2022-05-25 11:24:34,718 INFO     pid:25468 utill.util:146:enumerateWithEstimate E3 Training 1024/3125, done at 2022-05-25 11:25:31, 0:01:23\n",
      "2022-05-25 11:25:31,383 WARNING  pid:25468 utill.util:159:enumerateWithEstimate E3 Training ----/3125, done at 2022-05-25 11:25:31\n",
      "2022-05-25 11:25:31,385 INFO     pid:25468 segmentation.training:400:logMetrics E3 SegmentationTrainingApp\n",
      "2022-05-25 11:25:31,387 INFO     pid:25468 segmentation.training:430:logMetrics E3 trn      0.3287 loss, 0.4404 precision, 0.9289 recall, 0.5975 f1 score\n",
      "2022-05-25 11:25:31,387 INFO     pid:25468 segmentation.training:440:logMetrics E3 trn_all  0.3287 loss,  92.9% tp,   7.1% fn,     118.0% fp\n",
      "2022-05-25 11:25:31,390 INFO     pid:25468 segmentation.training:268:main Epoch 4 of 5, 3125/6 batches of size 16*1\n",
      "2022-05-25 11:25:31,414 WARNING  pid:25468 utill.util:126:enumerateWithEstimate E4 Training ----/3125, starting\n",
      "2022-05-25 11:25:36,597 INFO     pid:25468 utill.util:146:enumerateWithEstimate E4 Training   16/3125, done at 2022-05-25 11:27:00, 0:01:24\n",
      "2022-05-25 11:25:37,886 INFO     pid:25468 utill.util:146:enumerateWithEstimate E4 Training   64/3125, done at 2022-05-25 11:27:00, 0:01:23\n",
      "2022-05-25 11:25:43,039 INFO     pid:25468 utill.util:146:enumerateWithEstimate E4 Training  256/3125, done at 2022-05-25 11:27:00, 0:01:23\n",
      "2022-05-25 11:26:03,678 INFO     pid:25468 utill.util:146:enumerateWithEstimate E4 Training 1024/3125, done at 2022-05-25 11:27:00, 0:01:23\n",
      "2022-05-25 11:27:00,397 WARNING  pid:25468 utill.util:159:enumerateWithEstimate E4 Training ----/3125, done at 2022-05-25 11:27:00\n",
      "2022-05-25 11:27:00,398 INFO     pid:25468 segmentation.training:400:logMetrics E4 SegmentationTrainingApp\n",
      "2022-05-25 11:27:00,400 INFO     pid:25468 segmentation.training:430:logMetrics E4 trn      0.3014 loss, 0.4608 precision, 0.9385 recall, 0.6181 f1 score\n",
      "2022-05-25 11:27:00,400 INFO     pid:25468 segmentation.training:440:logMetrics E4 trn_all  0.3014 loss,  93.9% tp,   6.1% fn,     109.8% fp\n",
      "2022-05-25 11:27:00,403 INFO     pid:25468 segmentation.training:268:main Epoch 5 of 5, 3125/6 batches of size 16*1\n",
      "2022-05-25 11:27:00,431 WARNING  pid:25468 utill.util:126:enumerateWithEstimate E5 Training ----/3125, starting\n",
      "2022-05-25 11:27:05,682 INFO     pid:25468 utill.util:146:enumerateWithEstimate E5 Training   16/3125, done at 2022-05-25 11:28:29, 0:01:24\n",
      "2022-05-25 11:27:06,972 INFO     pid:25468 utill.util:146:enumerateWithEstimate E5 Training   64/3125, done at 2022-05-25 11:28:29, 0:01:23\n",
      "2022-05-25 11:27:12,131 INFO     pid:25468 utill.util:146:enumerateWithEstimate E5 Training  256/3125, done at 2022-05-25 11:28:29, 0:01:23\n",
      "2022-05-25 11:27:32,735 INFO     pid:25468 utill.util:146:enumerateWithEstimate E5 Training 1024/3125, done at 2022-05-25 11:28:29, 0:01:23\n",
      "2022-05-25 11:28:29,407 WARNING  pid:25468 utill.util:159:enumerateWithEstimate E5 Training ----/3125, done at 2022-05-25 11:28:29\n",
      "2022-05-25 11:28:29,409 INFO     pid:25468 segmentation.training:400:logMetrics E5 SegmentationTrainingApp\n",
      "2022-05-25 11:28:29,411 INFO     pid:25468 segmentation.training:430:logMetrics E5 trn      0.2671 loss, 0.5339 precision, 0.9373 recall, 0.6803 f1 score\n",
      "2022-05-25 11:28:29,411 INFO     pid:25468 segmentation.training:440:logMetrics E5 trn_all  0.2671 loss,  93.7% tp,   6.3% fn,      81.8% fp\n",
      "2022-05-25 11:28:29,414 WARNING  pid:25468 utill.util:126:enumerateWithEstimate E5 Validation  ----/6, starting\n",
      "2022-05-25 11:28:44,330 WARNING  pid:25468 utill.util:159:enumerateWithEstimate E5 Validation  ----/6, done at 2022-05-25 11:28:44\n",
      "2022-05-25 11:28:44,331 INFO     pid:25468 segmentation.training:400:logMetrics E5 SegmentationTrainingApp\n",
      "2022-05-25 11:28:44,332 INFO     pid:25468 segmentation.training:430:logMetrics E5 val      0.9578 loss, 0.0148 precision, 0.6862 recall, 0.0290 f1 score\n",
      "2022-05-25 11:28:44,332 INFO     pid:25468 segmentation.training:440:logMetrics E5 val_all  0.9578 loss,  68.6% tp,  31.4% fn,    4556.6% fp\n",
      "2022-05-25 11:28:44,662 INFO     pid:25468 segmentation.training:495:saveModel Saved model params to data\\models\\segmentation\\seg_2022-05-25_11.11.48_none.250000.state\n",
      "2022-05-25 11:28:44,665 INFO     pid:25468 segmentation.training:507:saveModel SHA1: c6898ccf0a85a0ab24cb42c9bd6afce105069308\n",
      "2022-05-25 11:29:38,119 INFO     pid:25468 nb:009:run Finished: segmentation.training.SegmentationTrainingApp.['--num-workers=4', '--epochs=5', '--augmented']).main()\n"
     ]
    }
   ],
   "source": [
    "run('segmentation.training.SegmentationTrainingApp', '--epochs=5', '--augmented')"
   ]
  },
  {
   "cell_type": "code",
   "execution_count": null,
   "metadata": {},
   "outputs": [],
   "source": []
  }
 ],
 "metadata": {
  "interpreter": {
   "hash": "f3904b11df65f49a712f96f2b92dd3016842e7104d4970a6db409b3c05b202a0"
  },
  "kernelspec": {
   "display_name": "Python 3.9.7 ('TorchGPU')",
   "language": "python",
   "name": "python3"
  },
  "language_info": {
   "codemirror_mode": {
    "name": "ipython",
    "version": 3
   },
   "file_extension": ".py",
   "mimetype": "text/x-python",
   "name": "python",
   "nbconvert_exporter": "python",
   "pygments_lexer": "ipython3",
   "version": "3.9.7"
  },
  "orig_nbformat": 4
 },
 "nbformat": 4,
 "nbformat_minor": 2
}
