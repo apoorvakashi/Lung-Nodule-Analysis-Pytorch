{
 "cells": [
  {
   "cell_type": "code",
   "execution_count": 1,
   "metadata": {},
   "outputs": [],
   "source": [
    "from noduleAnalysis.model import *\n",
    "from noduleAnalysis.prepcache import *\n",
    "\n",
    "import datetime\n",
    "\n",
    "from utill.util import importstr\n",
    "from utill.logconf import logging\n",
    "\n",
    "\n",
    "log = logging.getLogger('nb')"
   ]
  },
  {
   "cell_type": "code",
   "execution_count": 2,
   "metadata": {},
   "outputs": [],
   "source": [
    "def run(app, *argv):\n",
    "    argv = list(argv)\n",
    "    argv.insert(0, '--num-workers=4')  # <1>\n",
    "    log.info(\"Running: {}({!r}).main()\".format(app, argv))\n",
    "    \n",
    "    app_cls = importstr(*app.rsplit('.', 1))  # <2>\n",
    "    app_cls(argv).main()\n",
    "    \n",
    "    log.info(\"Finished: {}.{!r}).main()\".format(app, argv))"
   ]
  },
  {
   "cell_type": "code",
   "execution_count": 3,
   "metadata": {},
   "outputs": [
    {
     "name": "stderr",
     "output_type": "stream",
     "text": [
      "2022-06-02 18:35:15,926 INFO     pid:5216 nb:004:run Running: noduleAnalysis.prepcache.LunaPrepCacheApp(['--num-workers=4']).main()\n",
      "2022-06-02 18:35:15,927 INFO     pid:5216 noduleAnalysis.prepcache:048:main Starting LunaPrepCacheApp, Namespace(batch_size=1024, num_workers=4)\n",
      "2022-06-02 18:35:17,746 INFO     pid:5216 combining_data.analysis_data:308:__init__ <combining_data.analysis_data.LunaDataset object at 0x0000021631935F40>: 56928 training samples, 56816 neg, 112 pos, unbalanced ratio\n",
      "2022-06-02 18:35:17,746 WARNING  pid:5216 utill.util:126:enumerateWithEstimate Stuffing cache ----/56, starting\n"
     ]
    }
   ],
   "source": [
    "run('noduleAnalysis.prepcache.LunaPrepCacheApp')"
   ]
  },
  {
   "cell_type": "code",
   "execution_count": null,
   "metadata": {},
   "outputs": [],
   "source": []
  },
  {
   "cell_type": "code",
   "execution_count": null,
   "metadata": {},
   "outputs": [],
   "source": []
  }
 ],
 "metadata": {
  "interpreter": {
   "hash": "f3904b11df65f49a712f96f2b92dd3016842e7104d4970a6db409b3c05b202a0"
  },
  "kernelspec": {
   "display_name": "Python 3 (ipykernel)",
   "language": "python",
   "name": "python3"
  },
  "language_info": {
   "codemirror_mode": {
    "name": "ipython",
    "version": 3
   },
   "file_extension": ".py",
   "mimetype": "text/x-python",
   "name": "python",
   "nbconvert_exporter": "python",
   "pygments_lexer": "ipython3",
   "version": "3.9.7"
  }
 },
 "nbformat": 4,
 "nbformat_minor": 2
}
