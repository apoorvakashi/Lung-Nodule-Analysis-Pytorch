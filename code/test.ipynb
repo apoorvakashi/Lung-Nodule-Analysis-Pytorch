{
 "cells": [
  {
   "cell_type": "code",
   "execution_count": 2,
   "metadata": {},
   "outputs": [],
   "source": [
    "from classification.model import *\n",
    "from classification.prepcache import *"
   ]
  },
  {
   "cell_type": "code",
   "execution_count": 3,
   "metadata": {},
   "outputs": [],
   "source": [
    "test_model = LunaModel()"
   ]
  },
  {
   "cell_type": "code",
   "execution_count": 4,
   "metadata": {},
   "outputs": [
    {
     "data": {
      "text/plain": [
       "LunaModel(\n",
       "  (tail_batchnorm): BatchNorm3d(1, eps=1e-05, momentum=0.1, affine=True, track_running_stats=True)\n",
       "  (block1): LunaBlock(\n",
       "    (conv1): Conv3d(1, 8, kernel_size=(3, 3, 3), stride=(1, 1, 1), padding=(1, 1, 1))\n",
       "    (relu1): ReLU(inplace=True)\n",
       "    (conv2): Conv3d(8, 8, kernel_size=(3, 3, 3), stride=(1, 1, 1), padding=(1, 1, 1))\n",
       "    (relu2): ReLU(inplace=True)\n",
       "    (maxpool): MaxPool3d(kernel_size=2, stride=2, padding=0, dilation=1, ceil_mode=False)\n",
       "  )\n",
       "  (block2): LunaBlock(\n",
       "    (conv1): Conv3d(8, 16, kernel_size=(3, 3, 3), stride=(1, 1, 1), padding=(1, 1, 1))\n",
       "    (relu1): ReLU(inplace=True)\n",
       "    (conv2): Conv3d(16, 16, kernel_size=(3, 3, 3), stride=(1, 1, 1), padding=(1, 1, 1))\n",
       "    (relu2): ReLU(inplace=True)\n",
       "    (maxpool): MaxPool3d(kernel_size=2, stride=2, padding=0, dilation=1, ceil_mode=False)\n",
       "  )\n",
       "  (block3): LunaBlock(\n",
       "    (conv1): Conv3d(16, 32, kernel_size=(3, 3, 3), stride=(1, 1, 1), padding=(1, 1, 1))\n",
       "    (relu1): ReLU(inplace=True)\n",
       "    (conv2): Conv3d(32, 32, kernel_size=(3, 3, 3), stride=(1, 1, 1), padding=(1, 1, 1))\n",
       "    (relu2): ReLU(inplace=True)\n",
       "    (maxpool): MaxPool3d(kernel_size=2, stride=2, padding=0, dilation=1, ceil_mode=False)\n",
       "  )\n",
       "  (block4): LunaBlock(\n",
       "    (conv1): Conv3d(32, 64, kernel_size=(3, 3, 3), stride=(1, 1, 1), padding=(1, 1, 1))\n",
       "    (relu1): ReLU(inplace=True)\n",
       "    (conv2): Conv3d(64, 64, kernel_size=(3, 3, 3), stride=(1, 1, 1), padding=(1, 1, 1))\n",
       "    (relu2): ReLU(inplace=True)\n",
       "    (maxpool): MaxPool3d(kernel_size=2, stride=2, padding=0, dilation=1, ceil_mode=False)\n",
       "  )\n",
       "  (head_linear): Linear(in_features=1152, out_features=2, bias=True)\n",
       "  (head_softmax): Softmax(dim=1)\n",
       ")"
      ]
     },
     "execution_count": 4,
     "metadata": {},
     "output_type": "execute_result"
    }
   ],
   "source": [
    "test_model"
   ]
  },
  {
   "cell_type": "code",
   "execution_count": 5,
   "metadata": {},
   "outputs": [],
   "source": [
    "import datetime\n",
    "\n",
    "from utill.util import importstr\n",
    "from utill.logconf import logging\n",
    "\n",
    "log = logging.getLogger('nb')"
   ]
  },
  {
   "cell_type": "code",
   "execution_count": 6,
   "metadata": {},
   "outputs": [],
   "source": [
    "def run(app, *argv):\n",
    "    argv = list(argv)\n",
    "    argv.insert(0, '--num-workers=4')  # <1>\n",
    "    log.info(\"Running: {}({!r}).main()\".format(app, argv))\n",
    "    \n",
    "    app_cls = importstr(*app.rsplit('.', 1))  # <2>\n",
    "    app_cls(argv).main()\n",
    "    \n",
    "    log.info(\"Finished: {}.{!r}).main()\".format(app, argv))"
   ]
  },
  {
   "cell_type": "code",
   "execution_count": 7,
   "metadata": {},
   "outputs": [],
   "source": [
    "import os\n",
    "import shutil\n",
    "\n",
    "# clean up any old data that might be around.\n",
    "# We don't call this by default because it's destructive, \n",
    "# and would waste a lot of time if it ran when nothing \n",
    "# on the application side had changed.\n",
    "\n",
    "def cleanCache():\n",
    "    shutil.rmtree('data/cache')\n",
    "    os.mkdir('data/cache')\n",
    "\n",
    "\n",
    "# cleanCache()"
   ]
  },
  {
   "cell_type": "code",
   "execution_count": 7,
   "metadata": {},
   "outputs": [
    {
     "name": "stderr",
     "output_type": "stream",
     "text": [
      "2022-04-21 21:00:14,603 INFO     pid:13788 nb:004:run Running: classification.prepcache.LunaPrepCacheApp(['--num-workers=4']).main()\n",
      "2022-04-21 21:00:14,604 INFO     pid:13788 classification.prepcache:043:main Starting LunaPrepCacheApp, Namespace(batch_size=1024, num_workers=4)\n",
      "2022-04-21 21:00:16,862 INFO     pid:13788 combining_data.combining_data:175:__init__ <combining_data.combining_data.LunaDataset object at 0x000002C44B3EAE80>: 56938 training samples\n",
      "2022-04-21 21:00:16,891 WARNING  pid:13788 utill.util:126:enumerateWithEstimate Stuffing cache ----/56, starting\n",
      "2022-04-21 21:04:39,599 INFO     pid:13788 utill.util:146:enumerateWithEstimate Stuffing cache    8/56, done at 2022-04-21 21:38:42, 0:37:40\n",
      "2022-04-21 21:10:45,297 INFO     pid:13788 utill.util:146:enumerateWithEstimate Stuffing cache   16/56, done at 2022-04-21 21:39:54, 0:38:52\n",
      "2022-04-21 21:28:28,579 INFO     pid:13788 utill.util:146:enumerateWithEstimate Stuffing cache   32/56, done at 2022-04-21 21:50:14, 0:49:12\n",
      "2022-04-21 21:47:58,122 WARNING  pid:13788 utill.util:159:enumerateWithEstimate Stuffing cache ----/56, done at 2022-04-21 21:47:58\n",
      "2022-04-21 21:47:58,156 INFO     pid:13788 nb:009:run Finished: classification.prepcache.LunaPrepCacheApp.['--num-workers=4']).main()\n"
     ]
    }
   ],
   "source": [
    "run('classification.prepcache.LunaPrepCacheApp')"
   ]
  },
  {
   "cell_type": "code",
   "execution_count": 8,
   "metadata": {},
   "outputs": [
    {
     "name": "stderr",
     "output_type": "stream",
     "text": [
      "2022-04-21 23:38:11,615 INFO     pid:22756 nb:004:run Running: classification.training.LunaTrainingApp(['--num-workers=4', '--epochs=1']).main()\n",
      "2022-04-21 23:38:14,247 INFO     pid:22756 classification.training:087:initModel Using CUDA. 1 devices\n",
      "2022-04-21 23:38:14,355 INFO     pid:22756 classification.training:153:main Starting LunaTrainingApp, Namespace(num_workers=4, batch_size=32, epochs=1, tb_prefix='classification', comment='lcd-pt')\n",
      "2022-04-21 23:38:18,184 INFO     pid:22756 combining_data.combining_data:175:__init__ <combining_data.combining_data.LunaDataset object at 0x000001CFC6570850>: 51244 training samples\n",
      "2022-04-21 23:38:18,190 INFO     pid:22756 combining_data.combining_data:175:__init__ <combining_data.combining_data.LunaDataset object at 0x000001CFCE49C460>: 5694 validation samples\n",
      "2022-04-21 23:38:18,192 INFO     pid:22756 classification.training:159:main Epoch 1 of 1, 1602/178 batches of size 32*1\n",
      "2022-04-21 23:38:19,565 WARNING  pid:22756 utill.util:126:enumerateWithEstimate E1 training ----/1602, starting\n",
      "2022-04-21 23:38:48,534 INFO     pid:22756 utill.util:146:enumerateWithEstimate E1 training   16/1602, done at 2022-04-21 23:52:08, 0:13:26\n",
      "2022-04-21 23:39:25,969 INFO     pid:22756 utill.util:146:enumerateWithEstimate E1 training   64/1602, done at 2022-04-21 23:57:54, 0:19:12\n",
      "2022-04-21 23:41:58,303 INFO     pid:22756 utill.util:146:enumerateWithEstimate E1 training  256/1602, done at 2022-04-21 23:59:22, 0:20:40\n",
      "2022-04-21 23:53:25,618 INFO     pid:22756 utill.util:146:enumerateWithEstimate E1 training 1024/1602, done at 2022-04-22 00:01:44, 0:23:03\n",
      "2022-04-22 00:02:52,055 WARNING  pid:22756 utill.util:159:enumerateWithEstimate E1 training ----/1602, done at 2022-04-22 00:02:52\n",
      "2022-04-22 00:02:52,102 INFO     pid:22756 classification.training:277:logMetrics E1 LunaTrainingApp\n",
      "2022-04-22 00:02:52,366 INFO     pid:22756 classification.training:308:logMetrics E1 train    0.0181 loss,  99.8% correct, \n",
      "2022-04-22 00:02:52,367 INFO     pid:22756 classification.training:317:logMetrics E1 train_neg 0.0024 loss, 100.0% correct (51134 of 51135)\n",
      "2022-04-22 00:02:52,367 INFO     pid:22756 classification.training:328:logMetrics E1 train_pos 7.3977 loss,   0.0% correct (0 of 109)\n",
      "2022-04-22 00:02:54,324 WARNING  pid:22756 utill.util:126:enumerateWithEstimate E1 Validation  ----/178, starting\n",
      "2022-04-22 00:06:54,351 INFO     pid:22756 utill.util:146:enumerateWithEstimate E1 Validation    16/178, done at 2022-04-22 00:09:35, 0:02:54\n",
      "2022-04-22 00:07:43,532 INFO     pid:22756 utill.util:146:enumerateWithEstimate E1 Validation    64/178, done at 2022-04-22 00:09:38, 0:02:57\n",
      "2022-04-22 00:10:05,776 WARNING  pid:22756 utill.util:159:enumerateWithEstimate E1 Validation  ----/178, done at 2022-04-22 00:10:05\n",
      "2022-04-22 00:10:05,778 INFO     pid:22756 classification.training:277:logMetrics E1 LunaTrainingApp\n",
      "2022-04-22 00:10:05,780 INFO     pid:22756 classification.training:308:logMetrics E1 val      0.0175 loss,  99.8% correct, \n",
      "2022-04-22 00:10:05,780 INFO     pid:22756 classification.training:317:logMetrics E1 val_neg  0.0057 loss, 100.0% correct (5681 of 5681)\n",
      "2022-04-22 00:10:05,781 INFO     pid:22756 classification.training:328:logMetrics E1 val_pos  5.1742 loss,   0.0% correct (0 of 13)\n",
      "2022-04-22 00:10:05,789 INFO     pid:22756 nb:009:run Finished: classification.training.LunaTrainingApp.['--num-workers=4', '--epochs=1']).main()\n"
     ]
    }
   ],
   "source": [
    "run('classification.training.LunaTrainingApp', '--epochs=1')"
   ]
  },
  {
   "cell_type": "code",
   "execution_count": null,
   "metadata": {},
   "outputs": [],
   "source": []
  }
 ],
 "metadata": {
  "interpreter": {
   "hash": "f3904b11df65f49a712f96f2b92dd3016842e7104d4970a6db409b3c05b202a0"
  },
  "kernelspec": {
   "display_name": "Python 3.9.7 ('TorchGPU')",
   "language": "python",
   "name": "python3"
  },
  "language_info": {
   "codemirror_mode": {
    "name": "ipython",
    "version": 3
   },
   "file_extension": ".py",
   "mimetype": "text/x-python",
   "name": "python",
   "nbconvert_exporter": "python",
   "pygments_lexer": "ipython3",
   "version": "3.9.7"
  },
  "orig_nbformat": 4
 },
 "nbformat": 4,
 "nbformat_minor": 2
}
