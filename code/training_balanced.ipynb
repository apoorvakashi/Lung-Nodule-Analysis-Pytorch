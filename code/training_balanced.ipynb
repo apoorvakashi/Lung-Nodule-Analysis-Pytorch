{
 "cells": [
  {
   "cell_type": "code",
   "execution_count": 1,
   "metadata": {},
   "outputs": [],
   "source": [
    "from classification.model import *\n",
    "from classification.prepcache import *\n",
    "\n",
    "import datetime\n",
    "\n",
    "from utill.util import importstr\n",
    "from utill.logconf import logging\n",
    "\n",
    "\n",
    "log = logging.getLogger('nb')"
   ]
  },
  {
   "cell_type": "code",
   "execution_count": 2,
   "metadata": {},
   "outputs": [],
   "source": [
    "def run(app, *argv):\n",
    "    argv = list(argv)\n",
    "    argv.insert(0, '--num-workers=4')  # <1>\n",
    "    log.info(\"Running: {}({!r}).main()\".format(app, argv))\n",
    "    \n",
    "    app_cls = importstr(*app.rsplit('.', 1))  # <2>\n",
    "    app_cls(argv).main()\n",
    "    \n",
    "    log.info(\"Finished: {}.{!r}).main()\".format(app, argv))"
   ]
  },
  {
   "cell_type": "code",
   "execution_count": null,
   "metadata": {},
   "outputs": [],
   "source": [
    "run('classification.prepcache.LunaPrepCacheApp')"
   ]
  },
  {
   "cell_type": "markdown",
   "metadata": {},
   "source": [
    "TRAINING BALANCED - Half Samples"
   ]
  },
  {
   "cell_type": "markdown",
   "metadata": {},
   "source": [
    "1 EPOCH"
   ]
  },
  {
   "cell_type": "code",
   "execution_count": 3,
   "metadata": {},
   "outputs": [
    {
     "name": "stderr",
     "output_type": "stream",
     "text": [
      "2022-04-24 17:52:23,919 INFO     pid:11988 nb:004:run Running: classification.training.LunaTrainingApp(['--num-workers=4', '--epochs=1', '--balanced']).main()\n",
      "2022-04-24 17:52:29,643 INFO     pid:11988 classification.training:093:initModel Using CUDA. 1 devices\n",
      "2022-04-24 17:52:29,769 INFO     pid:11988 classification.training:160:main Starting LunaTrainingApp, Namespace(num_workers=4, batch_size=32, epochs=1, balanced=True, tb_prefix='classification', comment='lcd-pt')\n",
      "2022-04-24 17:52:31,648 INFO     pid:11988 combining_data.combining_data:184:__init__ <combining_data.combining_data.LunaDataset object at 0x000001B5CA66B700>: 51244 training samples\n",
      "2022-04-24 17:52:31,649 INFO     pid:11988 combining_data.combining_data:190:__init__ <combining_data.combining_data.LunaDataset object at 0x000001B5CA66B700>: 51244 training samples, 51135 neg, 109 pos, 1:1 ratio\n",
      "2022-04-24 17:52:31,654 INFO     pid:11988 combining_data.combining_data:184:__init__ <combining_data.combining_data.LunaDataset object at 0x000001B5CA688370>: 5694 validation samples\n",
      "2022-04-24 17:52:31,655 INFO     pid:11988 combining_data.combining_data:190:__init__ <combining_data.combining_data.LunaDataset object at 0x000001B5CA688370>: 5694 validation samples, 5681 neg, 13 pos, unbalanced ratio\n",
      "2022-04-24 17:52:31,655 INFO     pid:11988 classification.training:166:main Epoch 1 of 1, 719/178 batches of size 32*1\n",
      "2022-04-24 17:52:32,723 WARNING  pid:11988 utill.util:126:enumerateWithEstimate E1 training ----/719, starting\n",
      "2022-04-24 17:53:08,829 INFO     pid:11988 utill.util:146:enumerateWithEstimate E1 training   16/719, done at 2022-04-24 17:57:12, 0:04:08\n",
      "2022-04-24 17:53:35,872 INFO     pid:11988 utill.util:146:enumerateWithEstimate E1 training   64/719, done at 2022-04-24 17:59:14, 0:06:09\n",
      "2022-04-24 17:55:14,007 INFO     pid:11988 utill.util:146:enumerateWithEstimate E1 training  256/719, done at 2022-04-24 17:59:10, 0:06:06\n",
      "2022-04-24 17:58:45,554 WARNING  pid:11988 utill.util:159:enumerateWithEstimate E1 training ----/719, done at 2022-04-24 17:58:45\n",
      "2022-04-24 17:58:45,614 INFO     pid:11988 classification.training:286:logMetrics E1 LunaTrainingApp\n",
      "2022-04-24 17:58:45,834 INFO     pid:11988 classification.training:329:logMetrics E1 train    0.4418 loss,  77.2% correct, 0.7790 precision, 0.7582 recall, 0.7684 f1 score\n",
      "2022-04-24 17:58:45,835 INFO     pid:11988 classification.training:341:logMetrics E1 train_neg 0.4533 loss,  78.5% correct (9026 of 11500)\n",
      "2022-04-24 17:58:45,835 INFO     pid:11988 classification.training:352:logMetrics E1 train_pos 0.4304 loss,  75.8% correct (8719 of 11500)\n",
      "2022-04-24 17:58:48,201 WARNING  pid:11988 utill.util:126:enumerateWithEstimate E1 Validation  ----/178, starting\n",
      "2022-04-24 17:59:48,122 INFO     pid:11988 utill.util:146:enumerateWithEstimate E1 Validation    16/178, done at 2022-04-24 18:04:14, 0:04:47\n",
      "2022-04-24 18:01:13,402 INFO     pid:11988 utill.util:146:enumerateWithEstimate E1 Validation    64/178, done at 2022-04-24 18:04:31, 0:05:04\n",
      "2022-04-24 18:05:57,184 WARNING  pid:11988 utill.util:159:enumerateWithEstimate E1 Validation  ----/178, done at 2022-04-24 18:05:57\n",
      "2022-04-24 18:05:57,185 INFO     pid:11988 classification.training:286:logMetrics E1 LunaTrainingApp\n",
      "2022-04-24 18:05:57,186 INFO     pid:11988 classification.training:329:logMetrics E1 val      0.4596 loss,  86.0% correct, 0.0124 precision, 0.7692 recall, 0.0245 f1 score\n",
      "2022-04-24 18:05:57,187 INFO     pid:11988 classification.training:341:logMetrics E1 val_neg  0.4591 loss,  86.0% correct (4887 of 5681)\n",
      "2022-04-24 18:05:57,188 INFO     pid:11988 classification.training:352:logMetrics E1 val_pos  0.7072 loss,  76.9% correct (10 of 13)\n",
      "2022-04-24 18:05:57,201 INFO     pid:11988 nb:009:run Finished: classification.training.LunaTrainingApp.['--num-workers=4', '--epochs=1', '--balanced']).main()\n"
     ]
    }
   ],
   "source": [
    "run('classification.training.LunaTrainingApp', '--epochs=1', '--balanced')"
   ]
  },
  {
   "cell_type": "markdown",
   "metadata": {},
   "source": [
    "6 EPOCHS"
   ]
  },
  {
   "cell_type": "code",
   "execution_count": 4,
   "metadata": {},
   "outputs": [
    {
     "name": "stderr",
     "output_type": "stream",
     "text": [
      "2022-04-24 18:07:16,607 INFO     pid:11988 nb:004:run Running: classification.training.LunaTrainingApp(['--num-workers=4', '--epochs=6', '--balanced']).main()\n",
      "2022-04-24 18:07:16,613 INFO     pid:11988 classification.training:093:initModel Using CUDA. 1 devices\n",
      "2022-04-24 18:07:16,618 INFO     pid:11988 classification.training:160:main Starting LunaTrainingApp, Namespace(num_workers=4, batch_size=32, epochs=6, balanced=True, tb_prefix='classification', comment='lcd-pt')\n",
      "2022-04-24 18:07:16,652 INFO     pid:11988 combining_data.combining_data:184:__init__ <combining_data.combining_data.LunaDataset object at 0x000001B5CA66B5B0>: 51244 training samples\n",
      "2022-04-24 18:07:16,653 INFO     pid:11988 combining_data.combining_data:190:__init__ <combining_data.combining_data.LunaDataset object at 0x000001B5CA66B5B0>: 51244 training samples, 51135 neg, 109 pos, 1:1 ratio\n",
      "2022-04-24 18:07:16,657 INFO     pid:11988 combining_data.combining_data:184:__init__ <combining_data.combining_data.LunaDataset object at 0x000001B5DF867B50>: 5694 validation samples\n",
      "2022-04-24 18:07:16,659 INFO     pid:11988 combining_data.combining_data:190:__init__ <combining_data.combining_data.LunaDataset object at 0x000001B5DF867B50>: 5694 validation samples, 5681 neg, 13 pos, unbalanced ratio\n",
      "2022-04-24 18:07:16,659 INFO     pid:11988 classification.training:166:main Epoch 1 of 6, 719/178 batches of size 32*1\n",
      "2022-04-24 18:07:16,683 WARNING  pid:11988 utill.util:126:enumerateWithEstimate E1 training ----/719, starting\n",
      "2022-04-24 18:07:50,893 INFO     pid:11988 utill.util:146:enumerateWithEstimate E1 training   16/719, done at 2022-04-24 18:25:53, 0:18:22\n",
      "2022-04-24 18:08:13,386 INFO     pid:11988 utill.util:146:enumerateWithEstimate E1 training   64/719, done at 2022-04-24 18:15:49, 0:08:18\n",
      "2022-04-24 18:10:03,807 INFO     pid:11988 utill.util:146:enumerateWithEstimate E1 training  256/719, done at 2022-04-24 18:14:43, 0:07:12\n",
      "2022-04-24 18:14:30,047 WARNING  pid:11988 utill.util:159:enumerateWithEstimate E1 training ----/719, done at 2022-04-24 18:14:30\n",
      "2022-04-24 18:14:30,088 INFO     pid:11988 classification.training:286:logMetrics E1 LunaTrainingApp\n",
      "2022-04-24 18:14:30,090 INFO     pid:11988 classification.training:329:logMetrics E1 train    0.3281 loss,  83.2% correct, 0.8361 precision, 0.8264 recall, 0.8312 f1 score\n",
      "2022-04-24 18:14:30,090 INFO     pid:11988 classification.training:341:logMetrics E1 train_neg 0.3365 loss,  83.8% correct (9637 of 11500)\n",
      "2022-04-24 18:14:30,091 INFO     pid:11988 classification.training:352:logMetrics E1 train_pos 0.3197 loss,  82.6% correct (9504 of 11500)\n",
      "2022-04-24 18:14:30,099 WARNING  pid:11988 utill.util:126:enumerateWithEstimate E1 Validation  ----/178, starting\n",
      "2022-04-24 18:16:29,967 INFO     pid:11988 utill.util:146:enumerateWithEstimate E1 Validation    16/178, done at 2022-04-24 18:20:55, 0:04:47\n",
      "2022-04-24 18:17:15,011 INFO     pid:11988 utill.util:146:enumerateWithEstimate E1 Validation    64/178, done at 2022-04-24 18:19:18, 0:03:09\n",
      "2022-04-24 18:18:42,393 WARNING  pid:11988 utill.util:159:enumerateWithEstimate E1 Validation  ----/178, done at 2022-04-24 18:18:42\n",
      "2022-04-24 18:18:42,394 INFO     pid:11988 classification.training:286:logMetrics E1 LunaTrainingApp\n",
      "2022-04-24 18:18:42,395 INFO     pid:11988 classification.training:329:logMetrics E1 val      0.1835 loss,  93.9% correct, 0.0255 precision, 0.6923 recall, 0.0492 f1 score\n",
      "2022-04-24 18:18:42,395 INFO     pid:11988 classification.training:341:logMetrics E1 val_neg  0.1812 loss,  93.9% correct (5337 of 5681)\n",
      "2022-04-24 18:18:42,396 INFO     pid:11988 classification.training:352:logMetrics E1 val_pos  1.1871 loss,  69.2% correct (9 of 13)\n",
      "2022-04-24 18:18:42,400 INFO     pid:11988 classification.training:166:main Epoch 2 of 6, 719/178 batches of size 32*1\n",
      "2022-04-24 18:18:42,433 WARNING  pid:11988 utill.util:126:enumerateWithEstimate E2 training ----/719, starting\n",
      "2022-04-24 18:19:06,884 INFO     pid:11988 utill.util:146:enumerateWithEstimate E2 training   16/719, done at 2022-04-24 18:30:19, 0:11:24\n",
      "2022-04-24 18:19:25,981 INFO     pid:11988 utill.util:146:enumerateWithEstimate E2 training   64/719, done at 2022-04-24 18:25:04, 0:06:09\n",
      "2022-04-24 18:20:44,912 INFO     pid:11988 utill.util:146:enumerateWithEstimate E2 training  256/719, done at 2022-04-24 18:24:06, 0:05:12\n",
      "2022-04-24 18:24:29,250 WARNING  pid:11988 utill.util:159:enumerateWithEstimate E2 training ----/719, done at 2022-04-24 18:24:29\n",
      "2022-04-24 18:24:29,252 INFO     pid:11988 classification.training:286:logMetrics E2 LunaTrainingApp\n",
      "2022-04-24 18:24:29,254 INFO     pid:11988 classification.training:329:logMetrics E2 train    0.2067 loss,  93.6% correct, 0.9416 precision, 0.9289 recall, 0.9352 f1 score\n",
      "2022-04-24 18:24:29,255 INFO     pid:11988 classification.training:341:logMetrics E2 train_neg 0.2245 loss,  94.2% correct (10838 of 11500)\n",
      "2022-04-24 18:24:29,255 INFO     pid:11988 classification.training:352:logMetrics E2 train_pos 0.1888 loss,  92.9% correct (10682 of 11500)\n",
      "2022-04-24 18:24:29,271 WARNING  pid:11988 utill.util:126:enumerateWithEstimate E2 Validation  ----/178, starting\n",
      "2022-04-24 18:25:02,728 INFO     pid:11988 utill.util:146:enumerateWithEstimate E2 Validation    16/178, done at 2022-04-24 18:27:07, 0:02:15\n",
      "2022-04-24 18:25:29,693 INFO     pid:11988 utill.util:146:enumerateWithEstimate E2 Validation    64/178, done at 2022-04-24 18:26:38, 0:01:45\n",
      "2022-04-24 18:26:46,477 WARNING  pid:11988 utill.util:159:enumerateWithEstimate E2 Validation  ----/178, done at 2022-04-24 18:26:46\n",
      "2022-04-24 18:26:46,478 INFO     pid:11988 classification.training:286:logMetrics E2 LunaTrainingApp\n",
      "2022-04-24 18:26:46,479 INFO     pid:11988 classification.training:329:logMetrics E2 val      0.1816 loss,  95.1% correct, 0.0347 precision, 0.7692 recall, 0.0664 f1 score\n",
      "2022-04-24 18:26:46,480 INFO     pid:11988 classification.training:341:logMetrics E2 val_neg  0.1797 loss,  95.1% correct (5403 of 5681)\n",
      "2022-04-24 18:26:46,480 INFO     pid:11988 classification.training:352:logMetrics E2 val_pos  1.0341 loss,  76.9% correct (10 of 13)\n",
      "2022-04-24 18:26:46,494 INFO     pid:11988 classification.training:166:main Epoch 3 of 6, 719/178 batches of size 32*1\n",
      "2022-04-24 18:26:46,538 WARNING  pid:11988 utill.util:126:enumerateWithEstimate E3 training ----/719, starting\n",
      "2022-04-24 18:26:59,134 INFO     pid:11988 utill.util:146:enumerateWithEstimate E3 training   16/719, done at 2022-04-24 18:31:59, 0:05:05\n",
      "2022-04-24 18:27:21,903 INFO     pid:11988 utill.util:146:enumerateWithEstimate E3 training   64/719, done at 2022-04-24 18:32:25, 0:05:31\n",
      "2022-04-24 18:28:37,662 INFO     pid:11988 utill.util:146:enumerateWithEstimate E3 training  256/719, done at 2022-04-24 18:31:47, 0:04:54\n",
      "2022-04-24 18:32:02,114 WARNING  pid:11988 utill.util:159:enumerateWithEstimate E3 training ----/719, done at 2022-04-24 18:32:02\n",
      "2022-04-24 18:32:02,116 INFO     pid:11988 classification.training:286:logMetrics E3 LunaTrainingApp\n",
      "2022-04-24 18:32:02,214 INFO     pid:11988 classification.training:329:logMetrics E3 train    0.1452 loss,  96.1% correct, 0.9629 precision, 0.9581 recall, 0.9605 f1 score\n",
      "2022-04-24 18:32:02,215 INFO     pid:11988 classification.training:341:logMetrics E3 train_neg 0.1767 loss,  96.3% correct (11076 of 11500)\n",
      "2022-04-24 18:32:02,215 INFO     pid:11988 classification.training:352:logMetrics E3 train_pos 0.1137 loss,  95.8% correct (11018 of 11500)\n",
      "2022-04-24 18:32:02,383 WARNING  pid:11988 utill.util:126:enumerateWithEstimate E3 Validation  ----/178, starting\n",
      "2022-04-24 18:32:40,233 INFO     pid:11988 utill.util:146:enumerateWithEstimate E3 Validation    16/178, done at 2022-04-24 18:35:03, 0:02:34\n",
      "2022-04-24 18:33:35,272 INFO     pid:11988 utill.util:146:enumerateWithEstimate E3 Validation    64/178, done at 2022-04-24 18:35:38, 0:03:09\n",
      "2022-04-24 18:35:24,459 WARNING  pid:11988 utill.util:159:enumerateWithEstimate E3 Validation  ----/178, done at 2022-04-24 18:35:24\n",
      "2022-04-24 18:35:24,460 INFO     pid:11988 classification.training:286:logMetrics E3 LunaTrainingApp\n",
      "2022-04-24 18:35:24,461 INFO     pid:11988 classification.training:329:logMetrics E3 val      0.4689 loss,  92.8% correct, 0.0216 precision, 0.6923 recall, 0.0420 f1 score\n",
      "2022-04-24 18:35:24,462 INFO     pid:11988 classification.training:341:logMetrics E3 val_neg  0.4613 loss,  92.8% correct (5274 of 5681)\n",
      "2022-04-24 18:35:24,462 INFO     pid:11988 classification.training:352:logMetrics E3 val_pos  3.7780 loss,  69.2% correct (9 of 13)\n",
      "2022-04-24 18:35:24,471 INFO     pid:11988 classification.training:166:main Epoch 4 of 6, 719/178 batches of size 32*1\n",
      "2022-04-24 18:35:24,508 WARNING  pid:11988 utill.util:126:enumerateWithEstimate E4 training ----/719, starting\n",
      "2022-04-24 18:35:47,666 INFO     pid:11988 utill.util:146:enumerateWithEstimate E4 training   16/719, done at 2022-04-24 18:48:53, 0:13:20\n",
      "2022-04-24 18:36:04,433 INFO     pid:11988 utill.util:146:enumerateWithEstimate E4 training   64/719, done at 2022-04-24 18:41:40, 0:06:07\n",
      "2022-04-24 18:37:46,947 INFO     pid:11988 utill.util:146:enumerateWithEstimate E4 training  256/719, done at 2022-04-24 18:41:51, 0:06:18\n",
      "2022-04-24 18:42:13,271 WARNING  pid:11988 utill.util:159:enumerateWithEstimate E4 training ----/719, done at 2022-04-24 18:42:13\n",
      "2022-04-24 18:42:13,273 INFO     pid:11988 classification.training:286:logMetrics E4 LunaTrainingApp\n",
      "2022-04-24 18:42:13,275 INFO     pid:11988 classification.training:329:logMetrics E4 train    0.3111 loss,  88.4% correct, 0.8943 precision, 0.8707 recall, 0.8824 f1 score\n",
      "2022-04-24 18:42:13,275 INFO     pid:11988 classification.training:341:logMetrics E4 train_neg 0.3147 loss,  89.7% correct (10317 of 11500)\n",
      "2022-04-24 18:42:13,276 INFO     pid:11988 classification.training:352:logMetrics E4 train_pos 0.3075 loss,  87.1% correct (10013 of 11500)\n",
      "2022-04-24 18:42:13,324 WARNING  pid:11988 utill.util:126:enumerateWithEstimate E4 Validation  ----/178, starting\n",
      "2022-04-24 18:42:46,293 INFO     pid:11988 utill.util:146:enumerateWithEstimate E4 Validation    16/178, done at 2022-04-24 18:45:38, 0:03:06\n",
      "2022-04-24 18:43:14,316 INFO     pid:11988 utill.util:146:enumerateWithEstimate E4 Validation    64/178, done at 2022-04-24 18:44:32, 0:01:59\n",
      "2022-04-24 18:44:56,475 WARNING  pid:11988 utill.util:159:enumerateWithEstimate E4 Validation  ----/178, done at 2022-04-24 18:44:56\n",
      "2022-04-24 18:44:56,476 INFO     pid:11988 classification.training:286:logMetrics E4 LunaTrainingApp\n",
      "2022-04-24 18:44:56,477 INFO     pid:11988 classification.training:329:logMetrics E4 val      0.1604 loss,  95.6% correct, 0.0315 precision, 0.6154 recall, 0.0599 f1 score\n",
      "2022-04-24 18:44:56,478 INFO     pid:11988 classification.training:341:logMetrics E4 val_neg  0.1522 loss,  95.7% correct (5435 of 5681)\n",
      "2022-04-24 18:44:56,478 INFO     pid:11988 classification.training:352:logMetrics E4 val_pos  3.7378 loss,  61.5% correct (8 of 13)\n",
      "2022-04-24 18:44:56,488 INFO     pid:11988 classification.training:166:main Epoch 5 of 6, 719/178 batches of size 32*1\n",
      "2022-04-24 18:44:56,527 WARNING  pid:11988 utill.util:126:enumerateWithEstimate E5 training ----/719, starting\n",
      "2022-04-24 18:45:49,824 INFO     pid:11988 utill.util:146:enumerateWithEstimate E5 training   16/719, done at 2022-04-24 18:49:53, 0:04:08\n",
      "2022-04-24 18:46:06,014 INFO     pid:11988 utill.util:146:enumerateWithEstimate E5 training   64/719, done at 2022-04-24 18:49:47, 0:04:02\n",
      "2022-04-24 18:47:57,583 INFO     pid:11988 utill.util:146:enumerateWithEstimate E5 training  256/719, done at 2022-04-24 18:51:59, 0:06:13\n",
      "2022-04-24 18:51:24,567 WARNING  pid:11988 utill.util:159:enumerateWithEstimate E5 training ----/719, done at 2022-04-24 18:51:24\n",
      "2022-04-24 18:51:25,533 INFO     pid:11988 classification.training:286:logMetrics E5 LunaTrainingApp\n",
      "2022-04-24 18:51:25,534 INFO     pid:11988 classification.training:329:logMetrics E5 train    0.2172 loss,  92.0% correct, 0.9313 precision, 0.9060 recall, 0.9185 f1 score\n",
      "2022-04-24 18:51:25,535 INFO     pid:11988 classification.training:341:logMetrics E5 train_neg 0.2284 loss,  93.3% correct (10732 of 11500)\n",
      "2022-04-24 18:51:25,535 INFO     pid:11988 classification.training:352:logMetrics E5 train_pos 0.2061 loss,  90.6% correct (10419 of 11500)\n",
      "2022-04-24 18:51:25,560 WARNING  pid:11988 utill.util:126:enumerateWithEstimate E5 Validation  ----/178, starting\n",
      "2022-04-24 18:52:16,937 INFO     pid:11988 utill.util:146:enumerateWithEstimate E5 Validation    16/178, done at 2022-04-24 18:54:27, 0:02:20\n",
      "2022-04-24 18:53:10,060 INFO     pid:11988 utill.util:146:enumerateWithEstimate E5 Validation    64/178, done at 2022-04-24 18:55:07, 0:03:01\n",
      "2022-04-24 18:54:29,860 WARNING  pid:11988 utill.util:159:enumerateWithEstimate E5 Validation  ----/178, done at 2022-04-24 18:54:29\n",
      "2022-04-24 18:54:29,861 INFO     pid:11988 classification.training:286:logMetrics E5 LunaTrainingApp\n",
      "2022-04-24 18:54:29,862 INFO     pid:11988 classification.training:329:logMetrics E5 val      0.2474 loss,  93.4% correct, 0.0236 precision, 0.6923 recall, 0.0457 f1 score\n",
      "2022-04-24 18:54:29,862 INFO     pid:11988 classification.training:341:logMetrics E5 val_neg  0.2449 loss,  93.5% correct (5309 of 5681)\n",
      "2022-04-24 18:54:29,863 INFO     pid:11988 classification.training:352:logMetrics E5 val_pos  1.3472 loss,  69.2% correct (9 of 13)\n",
      "2022-04-24 18:54:29,885 INFO     pid:11988 classification.training:166:main Epoch 6 of 6, 719/178 batches of size 32*1\n",
      "2022-04-24 18:54:29,920 WARNING  pid:11988 utill.util:126:enumerateWithEstimate E6 training ----/719, starting\n",
      "2022-04-24 18:55:04,756 INFO     pid:11988 utill.util:146:enumerateWithEstimate E6 training   16/719, done at 2022-04-24 18:59:50, 0:04:50\n",
      "2022-04-24 18:55:18,265 INFO     pid:11988 utill.util:146:enumerateWithEstimate E6 training   64/719, done at 2022-04-24 18:58:39, 0:03:40\n",
      "2022-04-24 18:56:49,350 INFO     pid:11988 utill.util:146:enumerateWithEstimate E6 training  256/719, done at 2022-04-24 19:00:09, 0:05:10\n",
      "2022-04-24 19:00:36,895 WARNING  pid:11988 utill.util:159:enumerateWithEstimate E6 training ----/719, done at 2022-04-24 19:00:36\n",
      "2022-04-24 19:00:37,198 INFO     pid:11988 classification.training:286:logMetrics E6 LunaTrainingApp\n",
      "2022-04-24 19:00:37,199 INFO     pid:11988 classification.training:329:logMetrics E6 train    0.1237 loss,  95.9% correct, 0.9626 precision, 0.9543 recall, 0.9584 f1 score\n",
      "2022-04-24 19:00:37,200 INFO     pid:11988 classification.training:341:logMetrics E6 train_neg 0.1385 loss,  96.3% correct (11074 of 11500)\n",
      "2022-04-24 19:00:37,200 INFO     pid:11988 classification.training:352:logMetrics E6 train_pos 0.1088 loss,  95.4% correct (10974 of 11500)\n",
      "2022-04-24 19:00:37,216 WARNING  pid:11988 utill.util:126:enumerateWithEstimate E6 Validation  ----/178, starting\n",
      "2022-04-24 19:01:32,195 INFO     pid:11988 utill.util:146:enumerateWithEstimate E6 Validation    16/178, done at 2022-04-24 19:03:43, 0:02:21\n",
      "2022-04-24 19:02:17,055 INFO     pid:11988 utill.util:146:enumerateWithEstimate E6 Validation    64/178, done at 2022-04-24 19:03:59, 0:02:38\n",
      "2022-04-24 19:04:07,205 WARNING  pid:11988 utill.util:159:enumerateWithEstimate E6 Validation  ----/178, done at 2022-04-24 19:04:07\n",
      "2022-04-24 19:04:07,304 INFO     pid:11988 classification.training:286:logMetrics E6 LunaTrainingApp\n",
      "2022-04-24 19:04:07,305 INFO     pid:11988 classification.training:329:logMetrics E6 val      0.1289 loss,  96.1% correct, 0.0317 precision, 0.5385 recall, 0.0598 f1 score\n",
      "2022-04-24 19:04:07,306 INFO     pid:11988 classification.training:341:logMetrics E6 val_neg  0.1237 loss,  96.2% correct (5467 of 5681)\n",
      "2022-04-24 19:04:07,306 INFO     pid:11988 classification.training:352:logMetrics E6 val_pos  2.4284 loss,  53.8% correct (7 of 13)\n",
      "2022-04-24 19:04:07,328 INFO     pid:11988 nb:009:run Finished: classification.training.LunaTrainingApp.['--num-workers=4', '--epochs=6', '--balanced']).main()\n"
     ]
    }
   ],
   "source": [
    "run('classification.training.LunaTrainingApp', '--epochs=6', '--balanced')"
   ]
  },
  {
   "cell_type": "code",
   "execution_count": null,
   "metadata": {},
   "outputs": [],
   "source": []
  }
 ],
 "metadata": {
  "interpreter": {
   "hash": "f3904b11df65f49a712f96f2b92dd3016842e7104d4970a6db409b3c05b202a0"
  },
  "kernelspec": {
   "display_name": "Python 3.9.7 ('TorchGPU')",
   "language": "python",
   "name": "python3"
  },
  "language_info": {
   "codemirror_mode": {
    "name": "ipython",
    "version": 3
   },
   "file_extension": ".py",
   "mimetype": "text/x-python",
   "name": "python",
   "nbconvert_exporter": "python",
   "pygments_lexer": "ipython3",
   "version": "3.9.7"
  },
  "orig_nbformat": 4
 },
 "nbformat": 4,
 "nbformat_minor": 2
}
