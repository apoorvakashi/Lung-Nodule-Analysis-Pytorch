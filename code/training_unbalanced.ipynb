{
 "cells": [
  {
   "cell_type": "code",
   "execution_count": 1,
   "metadata": {},
   "outputs": [],
   "source": [
    "from classification.model import *\n",
    "from classification.prepcache import *"
   ]
  },
  {
   "cell_type": "code",
   "execution_count": 3,
   "metadata": {},
   "outputs": [],
   "source": [
    "test_model = LunaModel()"
   ]
  },
  {
   "cell_type": "code",
   "execution_count": 4,
   "metadata": {},
   "outputs": [
    {
     "data": {
      "text/plain": [
       "LunaModel(\n",
       "  (tail_batchnorm): BatchNorm3d(1, eps=1e-05, momentum=0.1, affine=True, track_running_stats=True)\n",
       "  (block1): LunaBlock(\n",
       "    (conv1): Conv3d(1, 8, kernel_size=(3, 3, 3), stride=(1, 1, 1), padding=(1, 1, 1))\n",
       "    (relu1): ReLU(inplace=True)\n",
       "    (conv2): Conv3d(8, 8, kernel_size=(3, 3, 3), stride=(1, 1, 1), padding=(1, 1, 1))\n",
       "    (relu2): ReLU(inplace=True)\n",
       "    (maxpool): MaxPool3d(kernel_size=2, stride=2, padding=0, dilation=1, ceil_mode=False)\n",
       "  )\n",
       "  (block2): LunaBlock(\n",
       "    (conv1): Conv3d(8, 16, kernel_size=(3, 3, 3), stride=(1, 1, 1), padding=(1, 1, 1))\n",
       "    (relu1): ReLU(inplace=True)\n",
       "    (conv2): Conv3d(16, 16, kernel_size=(3, 3, 3), stride=(1, 1, 1), padding=(1, 1, 1))\n",
       "    (relu2): ReLU(inplace=True)\n",
       "    (maxpool): MaxPool3d(kernel_size=2, stride=2, padding=0, dilation=1, ceil_mode=False)\n",
       "  )\n",
       "  (block3): LunaBlock(\n",
       "    (conv1): Conv3d(16, 32, kernel_size=(3, 3, 3), stride=(1, 1, 1), padding=(1, 1, 1))\n",
       "    (relu1): ReLU(inplace=True)\n",
       "    (conv2): Conv3d(32, 32, kernel_size=(3, 3, 3), stride=(1, 1, 1), padding=(1, 1, 1))\n",
       "    (relu2): ReLU(inplace=True)\n",
       "    (maxpool): MaxPool3d(kernel_size=2, stride=2, padding=0, dilation=1, ceil_mode=False)\n",
       "  )\n",
       "  (block4): LunaBlock(\n",
       "    (conv1): Conv3d(32, 64, kernel_size=(3, 3, 3), stride=(1, 1, 1), padding=(1, 1, 1))\n",
       "    (relu1): ReLU(inplace=True)\n",
       "    (conv2): Conv3d(64, 64, kernel_size=(3, 3, 3), stride=(1, 1, 1), padding=(1, 1, 1))\n",
       "    (relu2): ReLU(inplace=True)\n",
       "    (maxpool): MaxPool3d(kernel_size=2, stride=2, padding=0, dilation=1, ceil_mode=False)\n",
       "  )\n",
       "  (head_linear): Linear(in_features=1152, out_features=2, bias=True)\n",
       "  (head_softmax): Softmax(dim=1)\n",
       ")"
      ]
     },
     "execution_count": 4,
     "metadata": {},
     "output_type": "execute_result"
    }
   ],
   "source": [
    "test_model"
   ]
  },
  {
   "cell_type": "code",
   "execution_count": 2,
   "metadata": {},
   "outputs": [],
   "source": [
    "import datetime\n",
    "\n",
    "from utill.util import importstr\n",
    "from utill.logconf import logging\n",
    "\n",
    "\n",
    "log = logging.getLogger('nb')"
   ]
  },
  {
   "cell_type": "code",
   "execution_count": 3,
   "metadata": {},
   "outputs": [],
   "source": [
    "def run(app, *argv):\n",
    "    argv = list(argv)\n",
    "    argv.insert(0, '--num-workers=4')  # <1>\n",
    "    log.info(\"Running: {}({!r}).main()\".format(app, argv))\n",
    "    \n",
    "    app_cls = importstr(*app.rsplit('.', 1))  # <2>\n",
    "    app_cls(argv).main()\n",
    "    \n",
    "    log.info(\"Finished: {}.{!r}).main()\".format(app, argv))"
   ]
  },
  {
   "cell_type": "code",
   "execution_count": 4,
   "metadata": {},
   "outputs": [],
   "source": [
    "import os\n",
    "import shutil\n",
    "\n",
    "# clean up any old data that might be around.\n",
    "# We don't call this by default because it's destructive, \n",
    "# and would waste a lot of time if it ran when nothing \n",
    "# on the application side had changed.\n",
    "\n",
    "def cleanCache():\n",
    "    shutil.rmtree('data/cache')\n",
    "    os.mkdir('data/cache')\n",
    "\n",
    "\n",
    "# cleanCache()"
   ]
  },
  {
   "cell_type": "markdown",
   "metadata": {},
   "source": [
    "INITIAL TRAINING - UNBALANCED"
   ]
  },
  {
   "cell_type": "markdown",
   "metadata": {},
   "source": [
    "Stuffing Cache"
   ]
  },
  {
   "cell_type": "code",
   "execution_count": 7,
   "metadata": {},
   "outputs": [
    {
     "name": "stderr",
     "output_type": "stream",
     "text": [
      "2022-04-21 21:00:14,603 INFO     pid:13788 nb:004:run Running: classification.prepcache.LunaPrepCacheApp(['--num-workers=4']).main()\n",
      "2022-04-21 21:00:14,604 INFO     pid:13788 classification.prepcache:043:main Starting LunaPrepCacheApp, Namespace(batch_size=1024, num_workers=4)\n",
      "2022-04-21 21:00:16,862 INFO     pid:13788 combining_data.combining_data:175:__init__ <combining_data.combining_data.LunaDataset object at 0x000002C44B3EAE80>: 56938 training samples\n",
      "2022-04-21 21:00:16,891 WARNING  pid:13788 utill.util:126:enumerateWithEstimate Stuffing cache ----/56, starting\n",
      "2022-04-21 21:04:39,599 INFO     pid:13788 utill.util:146:enumerateWithEstimate Stuffing cache    8/56, done at 2022-04-21 21:38:42, 0:37:40\n",
      "2022-04-21 21:10:45,297 INFO     pid:13788 utill.util:146:enumerateWithEstimate Stuffing cache   16/56, done at 2022-04-21 21:39:54, 0:38:52\n",
      "2022-04-21 21:28:28,579 INFO     pid:13788 utill.util:146:enumerateWithEstimate Stuffing cache   32/56, done at 2022-04-21 21:50:14, 0:49:12\n",
      "2022-04-21 21:47:58,122 WARNING  pid:13788 utill.util:159:enumerateWithEstimate Stuffing cache ----/56, done at 2022-04-21 21:47:58\n",
      "2022-04-21 21:47:58,156 INFO     pid:13788 nb:009:run Finished: classification.prepcache.LunaPrepCacheApp.['--num-workers=4']).main()\n"
     ]
    }
   ],
   "source": [
    "run('classification.prepcache.LunaPrepCacheApp')"
   ]
  },
  {
   "cell_type": "markdown",
   "metadata": {},
   "source": [
    "1 EPOCHS"
   ]
  },
  {
   "cell_type": "code",
   "execution_count": 8,
   "metadata": {},
   "outputs": [
    {
     "name": "stderr",
     "output_type": "stream",
     "text": [
      "2022-04-21 23:38:11,615 INFO     pid:22756 nb:004:run Running: classification.training.LunaTrainingApp(['--num-workers=4', '--epochs=1']).main()\n",
      "2022-04-21 23:38:14,247 INFO     pid:22756 classification.training:087:initModel Using CUDA. 1 devices\n",
      "2022-04-21 23:38:14,355 INFO     pid:22756 classification.training:153:main Starting LunaTrainingApp, Namespace(num_workers=4, batch_size=32, epochs=1, tb_prefix='classification', comment='lcd-pt')\n",
      "2022-04-21 23:38:18,184 INFO     pid:22756 combining_data.combining_data:175:__init__ <combining_data.combining_data.LunaDataset object at 0x000001CFC6570850>: 51244 training samples\n",
      "2022-04-21 23:38:18,190 INFO     pid:22756 combining_data.combining_data:175:__init__ <combining_data.combining_data.LunaDataset object at 0x000001CFCE49C460>: 5694 validation samples\n",
      "2022-04-21 23:38:18,192 INFO     pid:22756 classification.training:159:main Epoch 1 of 1, 1602/178 batches of size 32*1\n",
      "2022-04-21 23:38:19,565 WARNING  pid:22756 utill.util:126:enumerateWithEstimate E1 training ----/1602, starting\n",
      "2022-04-21 23:38:48,534 INFO     pid:22756 utill.util:146:enumerateWithEstimate E1 training   16/1602, done at 2022-04-21 23:52:08, 0:13:26\n",
      "2022-04-21 23:39:25,969 INFO     pid:22756 utill.util:146:enumerateWithEstimate E1 training   64/1602, done at 2022-04-21 23:57:54, 0:19:12\n",
      "2022-04-21 23:41:58,303 INFO     pid:22756 utill.util:146:enumerateWithEstimate E1 training  256/1602, done at 2022-04-21 23:59:22, 0:20:40\n",
      "2022-04-21 23:53:25,618 INFO     pid:22756 utill.util:146:enumerateWithEstimate E1 training 1024/1602, done at 2022-04-22 00:01:44, 0:23:03\n",
      "2022-04-22 00:02:52,055 WARNING  pid:22756 utill.util:159:enumerateWithEstimate E1 training ----/1602, done at 2022-04-22 00:02:52\n",
      "2022-04-22 00:02:52,102 INFO     pid:22756 classification.training:277:logMetrics E1 LunaTrainingApp\n",
      "2022-04-22 00:02:52,366 INFO     pid:22756 classification.training:308:logMetrics E1 train    0.0181 loss,  99.8% correct, \n",
      "2022-04-22 00:02:52,367 INFO     pid:22756 classification.training:317:logMetrics E1 train_neg 0.0024 loss, 100.0% correct (51134 of 51135)\n",
      "2022-04-22 00:02:52,367 INFO     pid:22756 classification.training:328:logMetrics E1 train_pos 7.3977 loss,   0.0% correct (0 of 109)\n",
      "2022-04-22 00:02:54,324 WARNING  pid:22756 utill.util:126:enumerateWithEstimate E1 Validation  ----/178, starting\n",
      "2022-04-22 00:06:54,351 INFO     pid:22756 utill.util:146:enumerateWithEstimate E1 Validation    16/178, done at 2022-04-22 00:09:35, 0:02:54\n",
      "2022-04-22 00:07:43,532 INFO     pid:22756 utill.util:146:enumerateWithEstimate E1 Validation    64/178, done at 2022-04-22 00:09:38, 0:02:57\n",
      "2022-04-22 00:10:05,776 WARNING  pid:22756 utill.util:159:enumerateWithEstimate E1 Validation  ----/178, done at 2022-04-22 00:10:05\n",
      "2022-04-22 00:10:05,778 INFO     pid:22756 classification.training:277:logMetrics E1 LunaTrainingApp\n",
      "2022-04-22 00:10:05,780 INFO     pid:22756 classification.training:308:logMetrics E1 val      0.0175 loss,  99.8% correct, \n",
      "2022-04-22 00:10:05,780 INFO     pid:22756 classification.training:317:logMetrics E1 val_neg  0.0057 loss, 100.0% correct (5681 of 5681)\n",
      "2022-04-22 00:10:05,781 INFO     pid:22756 classification.training:328:logMetrics E1 val_pos  5.1742 loss,   0.0% correct (0 of 13)\n",
      "2022-04-22 00:10:05,789 INFO     pid:22756 nb:009:run Finished: classification.training.LunaTrainingApp.['--num-workers=4', '--epochs=1']).main()\n"
     ]
    }
   ],
   "source": [
    "run('classification.training.LunaTrainingApp', '--epochs=1')"
   ]
  },
  {
   "cell_type": "markdown",
   "metadata": {},
   "source": [
    "5 EPOCHS"
   ]
  },
  {
   "cell_type": "code",
   "execution_count": 8,
   "metadata": {},
   "outputs": [
    {
     "name": "stderr",
     "output_type": "stream",
     "text": [
      "2022-04-22 22:32:47,557 INFO     pid:17864 nb:004:run Running: classification.training.LunaTrainingApp(['--num-workers=4', '--epochs=5']).main()\n",
      "2022-04-22 22:32:48,114 INFO     pid:17864 classification.training:087:initModel Using CUDA. 1 devices\n",
      "2022-04-22 22:32:48,313 INFO     pid:17864 classification.training:153:main Starting LunaTrainingApp, Namespace(num_workers=4, batch_size=32, epochs=5, tb_prefix='classification', comment='lcd-pt')\n",
      "2022-04-22 22:32:49,975 INFO     pid:17864 combining_data.combining_data:175:__init__ <combining_data.combining_data.LunaDataset object at 0x000002E34AC1EC40>: 51244 training samples\n",
      "2022-04-22 22:32:49,978 INFO     pid:17864 combining_data.combining_data:175:__init__ <combining_data.combining_data.LunaDataset object at 0x000002E34BFAB970>: 5694 validation samples\n",
      "2022-04-22 22:32:49,979 INFO     pid:17864 classification.training:159:main Epoch 1 of 5, 1602/178 batches of size 32*1\n",
      "2022-04-22 22:32:58,363 WARNING  pid:17864 utill.util:126:enumerateWithEstimate E1 training ----/1602, starting\n",
      "2022-04-22 22:33:40,009 INFO     pid:17864 utill.util:146:enumerateWithEstimate E1 training   16/1602, done at 2022-04-22 22:47:16, 0:13:43\n",
      "2022-04-22 22:34:15,391 INFO     pid:17864 utill.util:146:enumerateWithEstimate E1 training   64/1602, done at 2022-04-22 22:51:55, 0:18:22\n",
      "2022-04-22 22:36:31,279 INFO     pid:17864 utill.util:146:enumerateWithEstimate E1 training  256/1602, done at 2022-04-22 22:52:17, 0:18:44\n",
      "2022-04-22 22:49:11,965 INFO     pid:17864 utill.util:146:enumerateWithEstimate E1 training 1024/1602, done at 2022-04-22 22:58:02, 0:24:29\n",
      "2022-04-22 22:59:06,427 WARNING  pid:17864 utill.util:159:enumerateWithEstimate E1 training ----/1602, done at 2022-04-22 22:59:06\n",
      "2022-04-22 22:59:06,488 INFO     pid:17864 classification.training:277:logMetrics E1 LunaTrainingApp\n",
      "2022-04-22 22:59:09,514 INFO     pid:17864 classification.training:308:logMetrics E1 train    0.0210 loss,  99.8% correct, \n",
      "2022-04-22 22:59:09,515 INFO     pid:17864 classification.training:317:logMetrics E1 train_neg 0.0026 loss, 100.0% correct (51117 of 51135)\n",
      "2022-04-22 22:59:09,516 INFO     pid:17864 classification.training:328:logMetrics E1 train_pos 8.6927 loss,   0.0% correct (0 of 109)\n",
      "2022-04-22 22:59:11,804 WARNING  pid:17864 utill.util:126:enumerateWithEstimate E1 Validation  ----/178, starting\n",
      "2022-04-22 23:03:06,160 INFO     pid:17864 utill.util:146:enumerateWithEstimate E1 Validation    16/178, done at 2022-04-22 23:08:43, 0:06:04\n",
      "2022-04-22 23:04:11,291 INFO     pid:17864 utill.util:146:enumerateWithEstimate E1 Validation    64/178, done at 2022-04-22 23:07:02, 0:04:23\n",
      "2022-04-22 23:06:15,805 WARNING  pid:17864 utill.util:159:enumerateWithEstimate E1 Validation  ----/178, done at 2022-04-22 23:06:15\n",
      "2022-04-22 23:06:15,807 INFO     pid:17864 classification.training:277:logMetrics E1 LunaTrainingApp\n",
      "2022-04-22 23:06:15,808 INFO     pid:17864 classification.training:308:logMetrics E1 val      0.0163 loss,  99.8% correct, \n",
      "2022-04-22 23:06:15,809 INFO     pid:17864 classification.training:317:logMetrics E1 val_neg  0.0030 loss, 100.0% correct (5681 of 5681)\n",
      "2022-04-22 23:06:15,809 INFO     pid:17864 classification.training:328:logMetrics E1 val_pos  5.7989 loss,   0.0% correct (0 of 13)\n",
      "2022-04-22 23:06:15,812 INFO     pid:17864 classification.training:159:main Epoch 2 of 5, 1602/178 batches of size 32*1\n",
      "2022-04-22 23:06:15,813 WARNING  pid:17864 utill.util:126:enumerateWithEstimate E2 training ----/1602, starting\n",
      "2022-04-22 23:06:46,755 INFO     pid:17864 utill.util:146:enumerateWithEstimate E2 training   16/1602, done at 2022-04-22 23:36:37, 0:30:05\n",
      "2022-04-22 23:07:24,095 INFO     pid:17864 utill.util:146:enumerateWithEstimate E2 training   64/1602, done at 2022-04-22 23:29:15, 0:22:43\n",
      "2022-04-22 23:09:12,587 INFO     pid:17864 utill.util:146:enumerateWithEstimate E2 training  256/1602, done at 2022-04-22 23:23:25, 0:16:53\n",
      "2022-04-22 23:17:18,746 INFO     pid:17864 utill.util:146:enumerateWithEstimate E2 training 1024/1602, done at 2022-04-22 23:23:24, 0:16:52\n",
      "2022-04-22 23:24:23,469 WARNING  pid:17864 utill.util:159:enumerateWithEstimate E2 training ----/1602, done at 2022-04-22 23:24:23\n",
      "2022-04-22 23:24:23,471 INFO     pid:17864 classification.training:277:logMetrics E2 LunaTrainingApp\n",
      "2022-04-22 23:24:23,487 INFO     pid:17864 classification.training:308:logMetrics E2 train    0.0159 loss,  99.8% correct, \n",
      "2022-04-22 23:24:23,488 INFO     pid:17864 classification.training:317:logMetrics E2 train_neg 0.0021 loss, 100.0% correct (51135 of 51135)\n",
      "2022-04-22 23:24:23,488 INFO     pid:17864 classification.training:328:logMetrics E2 train_pos 6.4668 loss,   0.0% correct (0 of 109)\n",
      "2022-04-22 23:24:23,504 WARNING  pid:17864 utill.util:126:enumerateWithEstimate E2 Validation  ----/178, starting\n",
      "2022-04-22 23:24:50,010 INFO     pid:17864 utill.util:146:enumerateWithEstimate E2 Validation    16/178, done at 2022-04-22 23:26:28, 0:01:46\n",
      "2022-04-22 23:25:45,518 INFO     pid:17864 utill.util:146:enumerateWithEstimate E2 Validation    64/178, done at 2022-04-22 23:27:43, 0:03:01\n",
      "2022-04-22 23:27:15,650 WARNING  pid:17864 utill.util:159:enumerateWithEstimate E2 Validation  ----/178, done at 2022-04-22 23:27:15\n",
      "2022-04-22 23:27:15,651 INFO     pid:17864 classification.training:277:logMetrics E2 LunaTrainingApp\n",
      "2022-04-22 23:27:15,653 INFO     pid:17864 classification.training:308:logMetrics E2 val      0.0163 loss,  99.8% correct, \n",
      "2022-04-22 23:27:15,653 INFO     pid:17864 classification.training:317:logMetrics E2 val_neg  0.0030 loss, 100.0% correct (5681 of 5681)\n",
      "2022-04-22 23:27:15,654 INFO     pid:17864 classification.training:328:logMetrics E2 val_pos  5.8165 loss,   0.0% correct (0 of 13)\n",
      "2022-04-22 23:27:15,657 INFO     pid:17864 classification.training:159:main Epoch 3 of 5, 1602/178 batches of size 32*1\n",
      "2022-04-22 23:27:15,658 WARNING  pid:17864 utill.util:126:enumerateWithEstimate E3 training ----/1602, starting\n",
      "2022-04-22 23:27:34,054 INFO     pid:17864 utill.util:146:enumerateWithEstimate E3 training   16/1602, done at 2022-04-22 23:46:36, 0:19:11\n",
      "2022-04-22 23:28:30,637 INFO     pid:17864 utill.util:146:enumerateWithEstimate E3 training   64/1602, done at 2022-04-22 23:56:12, 0:28:47\n",
      "2022-04-22 23:30:59,269 INFO     pid:17864 utill.util:146:enumerateWithEstimate E3 training  256/1602, done at 2022-04-22 23:50:00, 0:22:35\n",
      "2022-04-22 23:40:51,442 INFO     pid:17864 utill.util:146:enumerateWithEstimate E3 training 1024/1602, done at 2022-04-22 23:48:27, 0:21:02\n",
      "2022-04-22 23:48:25,804 WARNING  pid:17864 utill.util:159:enumerateWithEstimate E3 training ----/1602, done at 2022-04-22 23:48:25\n",
      "2022-04-22 23:48:25,806 INFO     pid:17864 classification.training:277:logMetrics E3 LunaTrainingApp\n",
      "2022-04-22 23:48:25,807 INFO     pid:17864 classification.training:308:logMetrics E3 train    0.0157 loss,  99.8% correct, \n",
      "2022-04-22 23:48:25,808 INFO     pid:17864 classification.training:317:logMetrics E3 train_neg 0.0021 loss, 100.0% correct (51135 of 51135)\n",
      "2022-04-22 23:48:25,808 INFO     pid:17864 classification.training:328:logMetrics E3 train_pos 6.3624 loss,   0.0% correct (0 of 109)\n",
      "2022-04-22 23:48:25,814 WARNING  pid:17864 utill.util:126:enumerateWithEstimate E3 Validation  ----/178, starting\n",
      "2022-04-22 23:48:56,418 INFO     pid:17864 utill.util:146:enumerateWithEstimate E3 Validation    16/178, done at 2022-04-22 23:51:03, 0:02:16\n",
      "2022-04-22 23:49:23,874 INFO     pid:17864 utill.util:146:enumerateWithEstimate E3 Validation    64/178, done at 2022-04-22 23:50:33, 0:01:47\n",
      "2022-04-22 23:51:04,983 WARNING  pid:17864 utill.util:159:enumerateWithEstimate E3 Validation  ----/178, done at 2022-04-22 23:51:04\n",
      "2022-04-22 23:51:05,013 INFO     pid:17864 classification.training:277:logMetrics E3 LunaTrainingApp\n",
      "2022-04-22 23:51:05,015 INFO     pid:17864 classification.training:308:logMetrics E3 val      0.0167 loss,  99.8% correct, \n",
      "2022-04-22 23:51:05,015 INFO     pid:17864 classification.training:317:logMetrics E3 val_neg  0.0043 loss, 100.0% correct (5681 of 5681)\n",
      "2022-04-22 23:51:05,016 INFO     pid:17864 classification.training:328:logMetrics E3 val_pos  5.4475 loss,   0.0% correct (0 of 13)\n",
      "2022-04-22 23:51:05,018 INFO     pid:17864 classification.training:159:main Epoch 4 of 5, 1602/178 batches of size 32*1\n",
      "2022-04-22 23:51:05,020 WARNING  pid:17864 utill.util:126:enumerateWithEstimate E4 training ----/1602, starting\n",
      "2022-04-22 23:51:23,235 INFO     pid:17864 utill.util:146:enumerateWithEstimate E4 training   16/1602, done at 2022-04-23 00:09:48, 0:18:34\n",
      "2022-04-22 23:52:09,426 INFO     pid:17864 utill.util:146:enumerateWithEstimate E4 training   64/1602, done at 2022-04-23 00:15:21, 0:24:07\n",
      "2022-04-22 23:55:19,091 INFO     pid:17864 utill.util:146:enumerateWithEstimate E4 training  256/1602, done at 2022-04-23 00:17:01, 0:25:46\n",
      "2022-04-23 00:09:08,706 INFO     pid:17864 utill.util:146:enumerateWithEstimate E4 training 1024/1602, done at 2022-04-23 00:19:15, 0:28:01\n",
      "2022-04-23 00:19:15,458 WARNING  pid:17864 utill.util:159:enumerateWithEstimate E4 training ----/1602, done at 2022-04-23 00:19:15\n",
      "2022-04-23 00:19:15,462 INFO     pid:17864 classification.training:277:logMetrics E4 LunaTrainingApp\n",
      "2022-04-23 00:19:15,464 INFO     pid:17864 classification.training:308:logMetrics E4 train    0.0155 loss,  99.8% correct, \n",
      "2022-04-23 00:19:15,465 INFO     pid:17864 classification.training:317:logMetrics E4 train_neg 0.0021 loss, 100.0% correct (51135 of 51135)\n",
      "2022-04-23 00:19:15,465 INFO     pid:17864 classification.training:328:logMetrics E4 train_pos 6.2849 loss,   0.0% correct (0 of 109)\n",
      "2022-04-23 00:19:15,472 WARNING  pid:17864 utill.util:126:enumerateWithEstimate E4 Validation  ----/178, starting\n",
      "2022-04-23 00:19:56,918 INFO     pid:17864 utill.util:146:enumerateWithEstimate E4 Validation    16/178, done at 2022-04-23 00:23:01, 0:03:19\n",
      "2022-04-23 00:20:42,582 INFO     pid:17864 utill.util:146:enumerateWithEstimate E4 Validation    64/178, done at 2022-04-23 00:22:34, 0:02:52\n",
      "2022-04-23 00:22:48,458 WARNING  pid:17864 utill.util:159:enumerateWithEstimate E4 Validation  ----/178, done at 2022-04-23 00:22:48\n",
      "2022-04-23 00:22:48,459 INFO     pid:17864 classification.training:277:logMetrics E4 LunaTrainingApp\n",
      "2022-04-23 00:22:48,460 INFO     pid:17864 classification.training:308:logMetrics E4 val      0.0157 loss,  99.8% correct, \n",
      "2022-04-23 00:22:48,461 INFO     pid:17864 classification.training:317:logMetrics E4 val_neg  0.0029 loss, 100.0% correct (5681 of 5681)\n",
      "2022-04-23 00:22:48,462 INFO     pid:17864 classification.training:328:logMetrics E4 val_pos  5.6090 loss,   0.0% correct (0 of 13)\n",
      "2022-04-23 00:22:48,465 INFO     pid:17864 classification.training:159:main Epoch 5 of 5, 1602/178 batches of size 32*1\n",
      "2022-04-23 00:22:48,466 WARNING  pid:17864 utill.util:126:enumerateWithEstimate E5 training ----/1602, starting\n",
      "2022-04-23 00:23:10,848 INFO     pid:17864 utill.util:146:enumerateWithEstimate E5 training   16/1602, done at 2022-04-23 00:47:36, 0:24:37\n",
      "2022-04-23 00:23:45,862 INFO     pid:17864 utill.util:146:enumerateWithEstimate E5 training   64/1602, done at 2022-04-23 00:43:31, 0:20:32\n",
      "2022-04-23 00:25:38,986 INFO     pid:17864 utill.util:146:enumerateWithEstimate E5 training  256/1602, done at 2022-04-23 00:39:50, 0:16:51\n",
      "2022-04-23 00:33:00,120 INFO     pid:17864 utill.util:146:enumerateWithEstimate E5 training 1024/1602, done at 2022-04-23 00:38:39, 0:15:41\n",
      "2022-04-23 00:39:35,419 WARNING  pid:17864 utill.util:159:enumerateWithEstimate E5 training ----/1602, done at 2022-04-23 00:39:35\n",
      "2022-04-23 00:39:35,558 INFO     pid:17864 classification.training:277:logMetrics E5 LunaTrainingApp\n",
      "2022-04-23 00:39:35,560 INFO     pid:17864 classification.training:308:logMetrics E5 train    0.0153 loss,  99.8% correct, \n",
      "2022-04-23 00:39:35,560 INFO     pid:17864 classification.training:317:logMetrics E5 train_neg 0.0021 loss, 100.0% correct (51135 of 51135)\n",
      "2022-04-23 00:39:35,561 INFO     pid:17864 classification.training:328:logMetrics E5 train_pos 6.1893 loss,   0.0% correct (0 of 109)\n",
      "2022-04-23 00:39:35,567 WARNING  pid:17864 utill.util:126:enumerateWithEstimate E5 Validation  ----/178, starting\n",
      "2022-04-23 00:40:15,288 INFO     pid:17864 utill.util:146:enumerateWithEstimate E5 Validation    16/178, done at 2022-04-23 00:44:49, 0:04:56\n",
      "2022-04-23 00:40:44,473 INFO     pid:17864 utill.util:146:enumerateWithEstimate E5 Validation    64/178, done at 2022-04-23 00:42:19, 0:02:26\n",
      "2022-04-23 00:42:10,523 WARNING  pid:17864 utill.util:159:enumerateWithEstimate E5 Validation  ----/178, done at 2022-04-23 00:42:10\n",
      "2022-04-23 00:42:10,524 INFO     pid:17864 classification.training:277:logMetrics E5 LunaTrainingApp\n",
      "2022-04-23 00:42:10,526 INFO     pid:17864 classification.training:308:logMetrics E5 val      0.0157 loss,  99.8% correct, \n",
      "2022-04-23 00:42:10,526 INFO     pid:17864 classification.training:317:logMetrics E5 val_neg  0.0047 loss, 100.0% correct (5681 of 5681)\n",
      "2022-04-23 00:42:10,527 INFO     pid:17864 classification.training:328:logMetrics E5 val_pos  4.8277 loss,   0.0% correct (0 of 13)\n",
      "2022-04-23 00:42:10,545 INFO     pid:17864 nb:009:run Finished: classification.training.LunaTrainingApp.['--num-workers=4', '--epochs=5']).main()\n"
     ]
    }
   ],
   "source": [
    "run('classification.training.LunaTrainingApp', '--epochs=5')"
   ]
  },
  {
   "cell_type": "markdown",
   "metadata": {},
   "source": []
  },
  {
   "cell_type": "code",
   "execution_count": null,
   "metadata": {},
   "outputs": [],
   "source": []
  }
 ],
 "metadata": {
  "interpreter": {
   "hash": "f3904b11df65f49a712f96f2b92dd3016842e7104d4970a6db409b3c05b202a0"
  },
  "kernelspec": {
   "display_name": "Python 3.9.7 ('TorchGPU')",
   "language": "python",
   "name": "python3"
  },
  "language_info": {
   "codemirror_mode": {
    "name": "ipython",
    "version": 3
   },
   "file_extension": ".py",
   "mimetype": "text/x-python",
   "name": "python",
   "nbconvert_exporter": "python",
   "pygments_lexer": "ipython3",
   "version": "3.9.7"
  },
  "orig_nbformat": 4
 },
 "nbformat": 4,
 "nbformat_minor": 2
}
