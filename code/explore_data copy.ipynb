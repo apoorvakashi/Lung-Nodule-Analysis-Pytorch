{
 "cells": [
  {
   "cell_type": "code",
   "execution_count": 1,
   "metadata": {},
   "outputs": [],
   "source": [
    "import matplotlib_inline\n",
    "import numpy as np"
   ]
  },
  {
   "cell_type": "code",
   "execution_count": 2,
   "metadata": {},
   "outputs": [],
   "source": [
    "from combining_data.combining_data import getCandidatesList, getCt, LunaDataset\n",
    "\n",
    "# # getCandidatesList.cache_clear()\n",
    "# print(getCandidatesList(reqOnDisk = True))\n",
    "\n",
    "candidates_list = getCandidatesList(reqOnDisk = True)\n",
    "positive_candidates_list = [x for x in candidates_list if x[0]]\n",
    "diameter_list = [x[1] for x in positive_candidates_list]"
   ]
  },
  {
   "cell_type": "code",
   "execution_count": 3,
   "metadata": {},
   "outputs": [
    {
     "name": "stdout",
     "output_type": "stream",
     "text": [
      "122\n",
      "CandidateTuple(isNodule=True, diameter_mm=25.23320204, series_uid='1.3.6.1.4.1.14519.5.2.1.6279.6001.511347030803753100045216493273', center_xyz=(63.4740118048, 73.9174523314, -213.736128767))\n"
     ]
    }
   ],
   "source": [
    "print(len(positive_candidates_list))\n",
    "print(positive_candidates_list[0])"
   ]
  },
  {
   "cell_type": "code",
   "execution_count": 4,
   "metadata": {},
   "outputs": [
    {
     "data": {
      "text/plain": [
       "56938"
      ]
     },
     "execution_count": 4,
     "metadata": {},
     "output_type": "execute_result"
    }
   ],
   "source": [
    "len(candidates_list)"
   ]
  },
  {
   "cell_type": "code",
   "execution_count": 5,
   "metadata": {},
   "outputs": [
    {
     "name": "stdout",
     "output_type": "stream",
     "text": [
      "   0  25.2 mm\n",
      " 100   0.0 mm\n"
     ]
    }
   ],
   "source": [
    "for i in range(0, len(diameter_list), 100):\n",
    "    print('{:4}  {:4.1f} mm'.format(i, diameter_list[i]))"
   ]
  },
  {
   "cell_type": "code",
   "execution_count": 6,
   "metadata": {},
   "outputs": [
    {
     "data": {
      "text/plain": [
       "(array([26, 11, 41, 15, 11,  8,  3,  5,  1,  1], dtype=int64),\n",
       " array([ 0.        ,  2.5233202 ,  5.04664041,  7.56996061, 10.09328082,\n",
       "        12.61660102, 15.13992122, 17.66324143, 20.18656163, 22.70988184,\n",
       "        25.23320204]))"
      ]
     },
     "execution_count": 6,
     "metadata": {},
     "output_type": "execute_result"
    }
   ],
   "source": [
    "np.histogram(diameter_list)"
   ]
  },
  {
   "cell_type": "code",
   "execution_count": 7,
   "metadata": {},
   "outputs": [
    {
     "name": "stderr",
     "output_type": "stream",
     "text": [
      "2022-05-24 12:35:24,352 INFO     pid:18548 combining_data.combining_data:288:__init__ <combining_data.combining_data.LunaDataset object at 0x0000017743F12FD0>: 56938 training samples\n",
      "2022-05-24 12:35:24,353 INFO     pid:18548 combining_data.combining_data:294:__init__ <combining_data.combining_data.LunaDataset object at 0x0000017743F12FD0>: 56938 training samples, 56816 neg, 122 pos, unbalanced ratio\n"
     ]
    }
   ],
   "source": [
    "from combining_data.visualization import findPositiveSamples, showCandidate\n",
    "positiveSample_list = findPositiveSamples()"
   ]
  },
  {
   "cell_type": "code",
   "execution_count": 8,
   "metadata": {},
   "outputs": [
    {
     "name": "stderr",
     "output_type": "stream",
     "text": [
      "2022-05-24 12:35:31,042 INFO     pid:18548 combining_data.combining_data:288:__init__ <combining_data.combining_data.LunaDataset object at 0x0000017743F12CA0>: 678 training samples\n",
      "2022-05-24 12:35:31,043 INFO     pid:18548 combining_data.combining_data:294:__init__ <combining_data.combining_data.LunaDataset object at 0x0000017743F12CA0>: 678 training samples, 675 neg, 3 pos, unbalanced ratio\n"
     ]
    },
    {
     "name": "stdout",
     "output_type": "stream",
     "text": [
      "1.3.6.1.4.1.14519.5.2.1.6279.6001.868211851413924881662621747734 187 True [187, 365, 557]\n"
     ]
    }
   ],
   "source": [
    "series_uid = positiveSample_list[11][2]\n",
    "showCandidate(series_uid)"
   ]
  },
  {
   "cell_type": "code",
   "execution_count": 10,
   "metadata": {},
   "outputs": [],
   "source": [
    "from combining_data.combining_data import getCtRawCandidate"
   ]
  },
  {
   "cell_type": "code",
   "execution_count": 2,
   "metadata": {},
   "outputs": [],
   "source": [
    "from combining_data.combining_data import getCandidatesList, getCt, LunaDataset\n",
    "\n",
    "# # getCandidatesList.cache_clear()\n",
    "# print(getCandidatesList(reqOnDisk = True))\n",
    "\n",
    "candidates_list = getCandidatesList(reqOnDisk = True)"
   ]
  },
  {
   "cell_type": "code",
   "execution_count": 3,
   "metadata": {},
   "outputs": [],
   "source": [
    "candidate_tuple = candidates_list[1]"
   ]
  },
  {
   "cell_type": "code",
   "execution_count": 4,
   "metadata": {},
   "outputs": [
    {
     "data": {
      "text/plain": [
       "CandidateTuple(isNodule=True, diameter_mm=21.58311204, series_uid='1.3.6.1.4.1.14519.5.2.1.6279.6001.905371958588660410240398317235', center_xyz=(109.142472723, 49.6356928166, -121.183579092))"
      ]
     },
     "execution_count": 4,
     "metadata": {},
     "output_type": "execute_result"
    }
   ],
   "source": [
    "candidate_tuple"
   ]
  },
  {
   "cell_type": "code",
   "execution_count": 5,
   "metadata": {},
   "outputs": [],
   "source": [
    "width_irc = (32, 48, 48)\n",
    "\n",
    "candidate_arr, center_irc = getCtRawCandidate(\n",
    "    candidate_tuple.series_uid,\n",
    "    candidate_tuple.center_xyz,\n",
    "    width_irc,\n",
    ")"
   ]
  },
  {
   "cell_type": "code",
   "execution_count": 9,
   "metadata": {},
   "outputs": [
    {
     "data": {
      "text/plain": [
       "(32, 48, 48)"
      ]
     },
     "execution_count": 9,
     "metadata": {},
     "output_type": "execute_result"
    }
   ],
   "source": [
    "candidate_arr.shape"
   ]
  },
  {
   "cell_type": "code",
   "execution_count": 10,
   "metadata": {},
   "outputs": [],
   "source": [
    "import torch\n",
    "candidate_tensor = torch.from_numpy(candidate_arr)"
   ]
  },
  {
   "cell_type": "code",
   "execution_count": 11,
   "metadata": {},
   "outputs": [
    {
     "data": {
      "text/plain": [
       "torch.Size([32, 48, 48])"
      ]
     },
     "execution_count": 11,
     "metadata": {},
     "output_type": "execute_result"
    }
   ],
   "source": [
    "candidate_tensor.shape"
   ]
  },
  {
   "cell_type": "code",
   "execution_count": 15,
   "metadata": {},
   "outputs": [
    {
     "data": {
      "text/plain": [
       "torch.Size([1, 32, 48, 48])"
      ]
     },
     "execution_count": 15,
     "metadata": {},
     "output_type": "execute_result"
    }
   ],
   "source": [
    "candidate_tensor.unsqueeze(0).shape"
   ]
  },
  {
   "cell_type": "code",
   "execution_count": null,
   "metadata": {},
   "outputs": [],
   "source": [
    "# from tvtk.api import tvtk\n",
    "# import numpy as np\n",
    "# from mayavi import mlab\n",
    "# X, Y, Z = np.mgrid[-10:10:100j, -10:10:100j, -10:10:100j]\n",
    "# data = np.sin(X*Y*Z)/(X*Y*Z)\n",
    "# i = tvtk.ImageData(spacing=(1, 1, 1), origin=(0, 0, 0))\n",
    "# i.point_data.scalars = data.ravel()\n",
    "# i.point_data.scalars.name = 'scalars'\n",
    "# i.dimensions = data.shape\n",
    "# mlab.pipeline.surface(i)\n",
    "# mlab.colorbar(orientation='vertical')\n",
    "# mlab.show()"
   ]
  }
 ],
 "metadata": {
  "interpreter": {
   "hash": "f3904b11df65f49a712f96f2b92dd3016842e7104d4970a6db409b3c05b202a0"
  },
  "kernelspec": {
   "display_name": "Python 3 (ipykernel)",
   "language": "python",
   "name": "python3"
  },
  "language_info": {
   "codemirror_mode": {
    "name": "ipython",
    "version": 3
   },
   "file_extension": ".py",
   "mimetype": "text/x-python",
   "name": "python",
   "nbconvert_exporter": "python",
   "pygments_lexer": "ipython3",
   "version": "3.9.7"
  }
 },
 "nbformat": 4,
 "nbformat_minor": 2
}
