{
 "cells": [
  {
   "cell_type": "code",
   "execution_count": 1,
   "metadata": {},
   "outputs": [],
   "source": [
    "# from noduleAnalysis.model import *\n",
    "from noduleAnalysis.prepcache import *\n",
    "\n",
    "import datetime\n",
    "\n",
    "from utill.util import importstr\n",
    "from utill.logconf import logging\n",
    "\n",
    "\n",
    "log = logging.getLogger('nb')"
   ]
  },
  {
   "cell_type": "code",
   "execution_count": 2,
   "metadata": {},
   "outputs": [],
   "source": [
    "def run(app, *argv):\n",
    "    argv = list(argv)\n",
    "    argv.insert(0, '--num-workers=4')  # <1>\n",
    "    log.info(\"Running: {}({!r}).main()\".format(app, argv))\n",
    "    \n",
    "    app_cls = importstr(*app.rsplit('.', 1))  # <2>\n",
    "    app_cls(argv).main()\n",
    "    \n",
    "    log.info(\"Finished: {}.{!r}).main()\".format(app, argv))"
   ]
  },
  {
   "cell_type": "markdown",
   "metadata": {},
   "source": [
    "PREPARE CACHE"
   ]
  },
  {
   "cell_type": "code",
   "execution_count": 4,
   "metadata": {},
   "outputs": [
    {
     "name": "stderr",
     "output_type": "stream",
     "text": [
      "2022-06-03 00:14:44,935 INFO     pid:20060 nb:004:run Running: noduleAnalysis.prepcache.LunaPrepCacheApp(['--num-workers=4']).main()\n",
      "2022-06-03 00:14:44,936 INFO     pid:20060 noduleAnalysis.prepcache:048:main Starting LunaPrepCacheApp, Namespace(batch_size=1024, num_workers=4)\n",
      "2022-06-03 00:14:47,002 INFO     pid:20060 combining_data.analysis_data:316:__init__ <combining_data.analysis_data.LunaDataset object at 0x0000022F57280FA0>: 56928 training samples, 56816 neg, 112 pos, unbalanced ratio\n",
      "2022-06-03 00:14:47,003 WARNING  pid:20060 utill.util:126:enumerateWithEstimate Stuffing cache ----/56, starting\n",
      "2022-06-03 00:36:29,431 INFO     pid:20060 utill.util:147:enumerateWithEstimate Stuffing cache    8/56, done at 2022-06-03 03:19:00, 2:59:48\n",
      "2022-06-03 00:59:34,101 INFO     pid:20060 utill.util:147:enumerateWithEstimate Stuffing cache   16/56, done at 2022-06-03 03:00:40, 2:41:28\n",
      "2022-06-03 01:12:48,389 INFO     pid:20060 utill.util:147:enumerateWithEstimate Stuffing cache   32/56, done at 2022-06-03 01:55:19, 1:36:07\n",
      "2022-06-03 01:28:04,927 WARNING  pid:20060 utill.util:160:enumerateWithEstimate Stuffing cache ----/56, done at 2022-06-03 01:28:04\n",
      "2022-06-03 01:28:04,951 INFO     pid:20060 nb:009:run Finished: noduleAnalysis.prepcache.LunaPrepCacheApp.['--num-workers=4']).main()\n"
     ]
    }
   ],
   "source": [
    "run('noduleAnalysis.prepcache.LunaPrepCacheApp')"
   ]
  },
  {
   "cell_type": "markdown",
   "metadata": {},
   "source": [
    "CLASSIFICATION TRAINING - NODULE-NONNODULE"
   ]
  },
  {
   "cell_type": "code",
   "execution_count": 3,
   "metadata": {},
   "outputs": [
    {
     "name": "stderr",
     "output_type": "stream",
     "text": [
      "2022-06-03 11:39:41,961 INFO     pid:13152 nb:004:run Running: noduleAnalysis.training.ClassificationTrainingApp(['--num-workers=4', '--epochs=2', 'nodule-nonnodule']).main()\n",
      "2022-06-03 11:39:42,453 INFO     pid:13152 noduleAnalysis.training:144:initModel Using CUDA; 1 devices.\n",
      "2022-06-03 11:39:42,527 INFO     pid:13152 noduleAnalysis.training:210:main Starting ClassificationTrainingApp, Namespace(batch_size=24, num_workers=4, epochs=2, dataset='LunaDataset', model='LunaModel', malignant=False, finetune='', finetune_depth=1, tb_prefix='NoduleAnalysis', comment='nodule-nonnodule')\n",
      "2022-06-03 11:39:44,302 INFO     pid:13152 combining_data.analysis_data:316:__init__ <combining_data.analysis_data.LunaDataset object at 0x0000020F0C124BB0>: 50616 training samples, 50515 neg, 101 pos, 1:1 ratio\n",
      "2022-06-03 11:39:44,322 INFO     pid:13152 combining_data.analysis_data:316:__init__ <combining_data.analysis_data.LunaDataset object at 0x0000020F0DF18250>: 6312 validation samples, 6301 neg, 11 pos, unbalanced ratio\n",
      "2022-06-03 11:39:44,323 INFO     pid:13152 noduleAnalysis.training:219:main Epoch 1 of 2, 959/263 batches of size 24*1\n",
      "2022-06-03 11:39:45,381 WARNING  pid:13152 utill.util:126:enumerateWithEstimate E1 Training ----/959, starting\n",
      "2022-06-03 11:40:02,335 INFO     pid:13152 utill.util:147:enumerateWithEstimate E1 Training   16/959, done at 2022-06-03 11:44:19, 0:04:20\n",
      "2022-06-03 11:40:15,429 INFO     pid:13152 utill.util:147:enumerateWithEstimate E1 Training   64/959, done at 2022-06-03 11:44:19, 0:04:20\n",
      "2022-06-03 11:41:25,842 INFO     pid:13152 utill.util:147:enumerateWithEstimate E1 Training  256/959, done at 2022-06-03 11:45:27, 0:05:28\n",
      "2022-06-03 11:45:50,705 WARNING  pid:13152 utill.util:160:enumerateWithEstimate E1 Training ----/959, done at 2022-06-03 11:45:50\n",
      "2022-06-03 11:45:50,727 INFO     pid:13152 noduleAnalysis.training:347:logMetrics E1 ClassificationTrainingApp\n",
      "2022-06-03 11:45:50,856 INFO     pid:13152 noduleAnalysis.training:420:logMetrics E1 trn      0.5609 loss,  70.8% correct, 0.7115 precision, 0.6982 recall, 0.7048 f1 score, 0.7682 auc\n",
      "2022-06-03 11:45:50,857 INFO     pid:13152 noduleAnalysis.training:433:logMetrics E1 trn_neg  0.5395 loss,  71.7% correct (8245 of 11500)\n",
      "2022-06-03 11:45:50,858 INFO     pid:13152 noduleAnalysis.training:444:logMetrics E1 trn_pos  0.5824 loss,  69.8% correct (8029 of 11500)\n",
      "2022-06-03 11:45:51,944 WARNING  pid:13152 utill.util:126:enumerateWithEstimate E1 Validation  ----/263, starting\n",
      "2022-06-03 11:46:22,360 INFO     pid:13152 utill.util:147:enumerateWithEstimate E1 Validation    16/263, done at 2022-06-03 11:50:47, 0:04:39\n",
      "2022-06-03 11:46:57,006 INFO     pid:13152 utill.util:147:enumerateWithEstimate E1 Validation    64/263, done at 2022-06-03 11:49:34, 0:03:26\n",
      "2022-06-03 11:50:16,057 INFO     pid:13152 utill.util:147:enumerateWithEstimate E1 Validation   256/263, done at 2022-06-03 11:50:21, 0:04:13\n",
      "2022-06-03 11:50:18,955 WARNING  pid:13152 utill.util:160:enumerateWithEstimate E1 Validation  ----/263, done at 2022-06-03 11:50:18\n",
      "2022-06-03 11:50:19,100 INFO     pid:13152 noduleAnalysis.training:347:logMetrics E1 ClassificationTrainingApp\n",
      "2022-06-03 11:50:19,101 INFO     pid:13152 noduleAnalysis.training:420:logMetrics E1 val      0.3555 loss,  85.5% correct, 0.0076 precision, 0.6364 recall, 0.0150 f1 score, 0.8387 auc\n",
      "2022-06-03 11:50:19,102 INFO     pid:13152 noduleAnalysis.training:433:logMetrics E1 val_neg  0.3547 loss,  85.5% correct (5388 of 6301)\n",
      "2022-06-03 11:50:19,102 INFO     pid:13152 noduleAnalysis.training:444:logMetrics E1 val_pos  0.8213 loss,  63.6% correct (7 of 11)\n",
      "2022-06-03 11:50:19,910 DEBUG    pid:13152 noduleAnalysis.training:550:saveModel Saved model params to data\\models\\NoduleAnalysis\\cls_2022-06-03_11.39.42_nodule-nonnodule.23000.state\n",
      "2022-06-03 11:50:19,912 DEBUG    pid:13152 noduleAnalysis.training:565:saveModel Saved model params to data\\models\\NoduleAnalysis\\cls_2022-06-03_11.39.42_nodule-nonnodule.best.state\n",
      "2022-06-03 11:50:19,935 INFO     pid:13152 noduleAnalysis.training:568:saveModel SHA1: 231f6d2c98acdf2eb7a7b94cebe7680d83206d38\n",
      "2022-06-03 11:50:19,936 INFO     pid:13152 noduleAnalysis.training:219:main Epoch 2 of 2, 959/263 batches of size 24*1\n",
      "2022-06-03 11:50:19,995 WARNING  pid:13152 utill.util:126:enumerateWithEstimate E2 Training ----/959, starting\n",
      "2022-06-03 11:50:47,043 INFO     pid:13152 utill.util:147:enumerateWithEstimate E2 Training   16/959, done at 2022-06-03 11:58:35, 0:07:55\n",
      "2022-06-03 11:51:09,978 INFO     pid:13152 utill.util:147:enumerateWithEstimate E2 Training   64/959, done at 2022-06-03 11:58:20, 0:07:40\n",
      "2022-06-03 11:53:08,343 INFO     pid:13152 utill.util:147:enumerateWithEstimate E2 Training  256/959, done at 2022-06-03 11:59:58, 0:09:17\n",
      "2022-06-03 11:58:50,545 WARNING  pid:13152 utill.util:160:enumerateWithEstimate E2 Training ----/959, done at 2022-06-03 11:58:50\n",
      "2022-06-03 11:58:51,139 INFO     pid:13152 noduleAnalysis.training:347:logMetrics E2 ClassificationTrainingApp\n",
      "2022-06-03 11:58:51,141 INFO     pid:13152 noduleAnalysis.training:420:logMetrics E2 trn      0.3837 loss,  83.1% correct, 0.8466 precision, 0.8079 recall, 0.8268 f1 score, 0.8919 auc\n",
      "2022-06-03 11:58:51,141 INFO     pid:13152 noduleAnalysis.training:433:logMetrics E2 trn_neg  0.3661 loss,  85.4% correct (9817 of 11500)\n",
      "2022-06-03 11:58:51,141 INFO     pid:13152 noduleAnalysis.training:444:logMetrics E2 trn_pos  0.4013 loss,  80.8% correct (9291 of 11500)\n",
      "2022-06-03 11:58:51,231 INFO     pid:13152 nb:009:run Finished: noduleAnalysis.training.ClassificationTrainingApp.['--num-workers=4', '--epochs=2', 'nodule-nonnodule']).main()\n"
     ]
    }
   ],
   "source": [
    "run('noduleAnalysis.training.ClassificationTrainingApp', f'--epochs=2', 'nodule-nonnodule')"
   ]
  },
  {
   "cell_type": "markdown",
   "metadata": {},
   "source": [
    "PERFORMANCE ON VALIDATION DATA"
   ]
  },
  {
   "cell_type": "code",
   "execution_count": 3,
   "metadata": {},
   "outputs": [
    {
     "name": "stderr",
     "output_type": "stream",
     "text": [
      "2022-06-03 12:21:06,045 INFO     pid:21768 nb:004:run Running: noduleAnalysis.nodule_analysis.NoduleAnalysisApp(['--num-workers=4', '--run-validation']).main()\n",
      "2022-06-03 12:21:19,997 DEBUG    pid:21768 noduleAnalysis.nodule_analysis:211:initModels data/models/segmentation/seg_2022-05-25_11.11.48_none.best.state\n",
      "2022-06-03 12:21:20,106 DEBUG    pid:21768 noduleAnalysis.nodule_analysis:227:initModels data/models/NoduleAnalysis/cls_2022-06-03_11.39.42_nodule-nonnodule.best.state\n",
      "2022-06-03 12:21:20,123 INFO     pid:21768 noduleAnalysis.nodule_analysis:287:main Starting NoduleAnalysisApp, Namespace(batch_size=4, num_workers=4, run_validation=True, include_train=False, segmentation_path='data/models/segmentation/seg_2022-05-25_11.11.48_none.best.state', cls_model='LunaModel', classification_path='data/models/NoduleAnalysis/cls_2022-06-03_11.39.42_nodule-nonnodule.best.state', malignancy_model='LunaModel', malignancy_path=None, tb_prefix='NoduleAnalysis', series_uid=None)\n",
      "2022-06-03 12:21:22,707 INFO     pid:21768 combining_data.analysis_data:316:__init__ <combining_data.analysis_data.LunaDataset object at 0x000001C804D24A00>: 6312 validation samples, 6301 neg, 11 pos, unbalanced ratio\n",
      "2022-06-03 12:21:24,285 WARNING  pid:21768 utill.util:126:enumerateWithEstimate Series ----/9, starting\n",
      "2022-06-03 12:21:29,430 INFO     pid:21768 combining_data.segm_data:293:__init__ <combining_data.segm_data.Luna2dSegmentationDataset object at 0x000001C8067AE9A0>: 1 general series, 121 slices, 0 nodules\n",
      "2022-06-03 12:21:53,770 INFO     pid:21768 combining_data.analysis_data:316:__init__ <combining_data.analysis_data.LunaDataset object at 0x000001C806782E20>: 702 training samples, 702 neg, 0 pos, unbalanced ratio\n"
     ]
    },
    {
     "name": "stdout",
     "output_type": "stream",
     "text": [
      "1.3.6.1.4.1.14519.5.2.1.6279.6001.105756658031515062000744821260\n",
      "                 |    Complete Miss |     Filtered Out |     Pred. Nodule\n",
      "     Non-Nodules |                  |              612 |               90\n",
      "          Benign |                0 |                0 |                0\n",
      "       Malignant |                0 |                0 |                0\n"
     ]
    },
    {
     "name": "stderr",
     "output_type": "stream",
     "text": [
      "2022-06-03 12:22:23,835 INFO     pid:21768 combining_data.segm_data:293:__init__ <combining_data.segm_data.Luna2dSegmentationDataset object at 0x000001C806786070>: 1 general series, 274 slices, 1 nodules\n",
      "2022-06-03 12:22:43,583 INFO     pid:21768 combining_data.analysis_data:316:__init__ <combining_data.analysis_data.LunaDataset object at 0x000001C806786460>: 2506 training samples, 2506 neg, 0 pos, unbalanced ratio\n"
     ]
    },
    {
     "name": "stdout",
     "output_type": "stream",
     "text": [
      "1.3.6.1.4.1.14519.5.2.1.6279.6001.130438550890816550994739120843\n",
      "                 |    Complete Miss |     Filtered Out |     Pred. Nodule\n",
      "     Non-Nodules |                  |             1803 |              702\n",
      "          Benign |                0 |                0 |                1\n",
      "       Malignant |                0 |                0 |                0\n"
     ]
    },
    {
     "name": "stderr",
     "output_type": "stream",
     "text": [
      "2022-06-03 12:23:03,339 INFO     pid:21768 combining_data.segm_data:293:__init__ <combining_data.segm_data.Luna2dSegmentationDataset object at 0x000001C806784970>: 1 general series, 125 slices, 2 nodules\n",
      "2022-06-03 12:23:13,093 INFO     pid:21768 combining_data.analysis_data:316:__init__ <combining_data.analysis_data.LunaDataset object at 0x000001C8067A5940>: 1021 training samples, 1021 neg, 0 pos, unbalanced ratio\n"
     ]
    },
    {
     "name": "stdout",
     "output_type": "stream",
     "text": [
      "1.3.6.1.4.1.14519.5.2.1.6279.6001.187451715205085403623595258748\n",
      "                 |    Complete Miss |     Filtered Out |     Pred. Nodule\n",
      "     Non-Nodules |                  |              843 |              176\n",
      "          Benign |                1 |                0 |                0\n",
      "       Malignant |                0 |                0 |                1\n"
     ]
    },
    {
     "name": "stderr",
     "output_type": "stream",
     "text": [
      "2022-06-03 12:23:21,868 INFO     pid:21768 combining_data.segm_data:293:__init__ <combining_data.segm_data.Luna2dSegmentationDataset object at 0x000001C806784B80>: 1 general series, 141 slices, 2 nodules\n",
      "2022-06-03 12:23:37,279 INFO     pid:21768 combining_data.analysis_data:316:__init__ <combining_data.analysis_data.LunaDataset object at 0x000001C8067860A0>: 1554 training samples, 1554 neg, 0 pos, unbalanced ratio\n"
     ]
    },
    {
     "name": "stdout",
     "output_type": "stream",
     "text": [
      "1.3.6.1.4.1.14519.5.2.1.6279.6001.219909753224298157409438012179\n",
      "                 |    Complete Miss |     Filtered Out |     Pred. Nodule\n",
      "     Non-Nodules |                  |             1395 |              157\n",
      "          Benign |                0 |                0 |                0\n",
      "       Malignant |                0 |                1 |                1\n"
     ]
    },
    {
     "name": "stderr",
     "output_type": "stream",
     "text": [
      "2022-06-03 12:23:48,349 INFO     pid:21768 combining_data.segm_data:293:__init__ <combining_data.segm_data.Luna2dSegmentationDataset object at 0x000001C806784DF0>: 1 general series, 177 slices, 2 nodules\n",
      "2022-06-03 12:24:00,565 INFO     pid:21768 combining_data.analysis_data:316:__init__ <combining_data.analysis_data.LunaDataset object at 0x000001C8067A5940>: 1161 training samples, 1161 neg, 0 pos, unbalanced ratio\n",
      "2022-06-03 12:24:08,994 INFO     pid:21768 utill.util:147:enumerateWithEstimate Series    4/9, done at 2022-06-03 12:26:20, 0:04:56\n"
     ]
    },
    {
     "name": "stdout",
     "output_type": "stream",
     "text": [
      "1.3.6.1.4.1.14519.5.2.1.6279.6001.277445975068759205899107114231\n",
      "                 |    Complete Miss |     Filtered Out |     Pred. Nodule\n",
      "     Non-Nodules |                  |             1007 |              154\n",
      "          Benign |                2 |                0 |                0\n",
      "       Malignant |                0 |                0 |                0\n"
     ]
    },
    {
     "name": "stderr",
     "output_type": "stream",
     "text": [
      "2022-06-03 12:24:11,105 INFO     pid:21768 combining_data.segm_data:293:__init__ <combining_data.segm_data.Luna2dSegmentationDataset object at 0x000001C806784DF0>: 1 general series, 290 slices, 2 nodules\n",
      "2022-06-03 12:24:31,321 INFO     pid:21768 combining_data.analysis_data:316:__init__ <combining_data.analysis_data.LunaDataset object at 0x000001C8067867C0>: 1879 training samples, 1879 neg, 0 pos, unbalanced ratio\n"
     ]
    },
    {
     "name": "stdout",
     "output_type": "stream",
     "text": [
      "1.3.6.1.4.1.14519.5.2.1.6279.6001.305858704835252413616501469037\n",
      "                 |    Complete Miss |     Filtered Out |     Pred. Nodule\n",
      "     Non-Nodules |                  |             1495 |              383\n",
      "          Benign |                1 |                0 |                1\n",
      "       Malignant |                0 |                0 |                0\n"
     ]
    },
    {
     "name": "stderr",
     "output_type": "stream",
     "text": [
      "2022-06-03 12:24:45,288 INFO     pid:21768 combining_data.segm_data:293:__init__ <combining_data.segm_data.Luna2dSegmentationDataset object at 0x000001C806772730>: 1 general series, 204 slices, 0 nodules\n",
      "2022-06-03 12:25:01,461 INFO     pid:21768 combining_data.analysis_data:316:__init__ <combining_data.analysis_data.LunaDataset object at 0x000001C8067727F0>: 1518 training samples, 1518 neg, 0 pos, unbalanced ratio\n"
     ]
    },
    {
     "name": "stdout",
     "output_type": "stream",
     "text": [
      "1.3.6.1.4.1.14519.5.2.1.6279.6001.332453873575389860371315979768\n",
      "                 |    Complete Miss |     Filtered Out |     Pred. Nodule\n",
      "     Non-Nodules |                  |             1286 |              232\n",
      "          Benign |                0 |                0 |                0\n",
      "       Malignant |                0 |                0 |                0\n"
     ]
    },
    {
     "name": "stderr",
     "output_type": "stream",
     "text": [
      "2022-06-03 12:25:14,674 INFO     pid:21768 combining_data.segm_data:293:__init__ <combining_data.segm_data.Luna2dSegmentationDataset object at 0x000001C806784970>: 1 general series, 516 slices, 1 nodules\n",
      "2022-06-03 12:26:08,680 INFO     pid:21768 combining_data.analysis_data:316:__init__ <combining_data.analysis_data.LunaDataset object at 0x000001C806784970>: 1869 training samples, 1869 neg, 0 pos, unbalanced ratio\n"
     ]
    },
    {
     "name": "stdout",
     "output_type": "stream",
     "text": [
      "1.3.6.1.4.1.14519.5.2.1.6279.6001.525937963993475482158828421281\n",
      "                 |    Complete Miss |     Filtered Out |     Pred. Nodule\n",
      "     Non-Nodules |                  |             1363 |              504\n",
      "          Benign |                0 |                0 |                0\n",
      "       Malignant |                0 |                0 |                1\n"
     ]
    },
    {
     "name": "stderr",
     "output_type": "stream",
     "text": [
      "2022-06-03 12:26:35,279 INFO     pid:21768 combining_data.segm_data:293:__init__ <combining_data.segm_data.Luna2dSegmentationDataset object at 0x000001C8067867C0>: 1 general series, 127 slices, 1 nodules\n",
      "2022-06-03 12:26:52,804 INFO     pid:21768 combining_data.analysis_data:316:__init__ <combining_data.analysis_data.LunaDataset object at 0x000001C806786070>: 1264 training samples, 1264 neg, 0 pos, unbalanced ratio\n",
      "2022-06-03 12:27:00,940 INFO     pid:21768 utill.util:147:enumerateWithEstimate Series    8/9, done at 2022-06-03 12:27:00, 0:05:36\n",
      "2022-06-03 12:27:00,941 WARNING  pid:21768 utill.util:160:enumerateWithEstimate Series ----/9, done at 2022-06-03 12:27:00\n",
      "2022-06-03 12:27:00,946 INFO     pid:21768 nb:009:run Finished: noduleAnalysis.nodule_analysis.NoduleAnalysisApp.['--num-workers=4', '--run-validation']).main()\n"
     ]
    },
    {
     "name": "stdout",
     "output_type": "stream",
     "text": [
      "1.3.6.1.4.1.14519.5.2.1.6279.6001.752756872840730509471096155114\n",
      "                 |    Complete Miss |     Filtered Out |     Pred. Nodule\n",
      "     Non-Nodules |                  |             1111 |              149\n",
      "          Benign |                0 |                0 |                0\n",
      "       Malignant |                0 |                0 |                1\n",
      "Total\n",
      "                 |    Complete Miss |     Filtered Out |     Pred. Nodule\n",
      "     Non-Nodules |                  |            10915 |             2547\n",
      "          Benign |                4 |                0 |                2\n",
      "       Malignant |                0 |                1 |                4\n"
     ]
    }
   ],
   "source": [
    "run('noduleAnalysis.nodule_analysis.NoduleAnalysisApp', '--run-validation')"
   ]
  },
  {
   "cell_type": "code",
   "execution_count": 5,
   "metadata": {},
   "outputs": [
    {
     "name": "stderr",
     "output_type": "stream",
     "text": [
      "2022-06-03 12:52:01,743 INFO     pid:22176 nb:004:run Running: noduleAnalysis.nodule_analysis.NoduleAnalysisApp(['--num-workers=4', '1.3.6.1.4.1.14519.5.2.1.6279.6001.187451715205085403623595258748']).main()\n",
      "2022-06-03 12:52:01,745 DEBUG    pid:22176 noduleAnalysis.nodule_analysis:211:initModels data/models/segmentation/seg_2022-05-25_11.11.48_none.best.state\n",
      "2022-06-03 12:52:01,854 DEBUG    pid:22176 noduleAnalysis.nodule_analysis:227:initModels data/models/NoduleAnalysis/cls_2022-06-03_11.39.42_nodule-nonnodule.best.state\n",
      "2022-06-03 12:52:01,886 INFO     pid:22176 noduleAnalysis.nodule_analysis:287:main Starting NoduleAnalysisApp, Namespace(batch_size=4, num_workers=4, run_validation=False, include_train=False, segmentation_path='data/models/segmentation/seg_2022-05-25_11.11.48_none.best.state', cls_model='LunaModel', classification_path='data/models/NoduleAnalysis/cls_2022-06-03_11.39.42_nodule-nonnodule.best.state', malignancy_model='LunaModel', malignancy_path=None, tb_prefix='NoduleAnalysis', series_uid='1.3.6.1.4.1.14519.5.2.1.6279.6001.187451715205085403623595258748')\n",
      "2022-06-03 12:52:01,904 INFO     pid:22176 combining_data.analysis_data:316:__init__ <combining_data.analysis_data.LunaDataset object at 0x0000020B414675E0>: 6312 validation samples, 6301 neg, 11 pos, unbalanced ratio\n",
      "2022-06-03 12:52:01,911 INFO     pid:22176 noduleAnalysis.nodule_analysis:305:main series_set = {'1.3.6.1.4.1.14519.5.2.1.6279.6001.187451715205085403623595258748'}\n",
      "2022-06-03 12:52:01,912 INFO     pid:22176 noduleAnalysis.nodule_analysis:317:main val_list = ['1.3.6.1.4.1.14519.5.2.1.6279.6001.187451715205085403623595258748']\n",
      "2022-06-03 12:52:01,913 WARNING  pid:22176 utill.util:126:enumerateWithEstimate Series ----/1, starting\n",
      "2022-06-03 12:52:01,958 INFO     pid:22176 combining_data.segm_data:293:__init__ <combining_data.segm_data.Luna2dSegmentationDataset object at 0x0000020B653C3760>: 1 general series, 125 slices, 2 nodules\n",
      "2022-06-03 12:52:12,131 INFO     pid:22176 combining_data.analysis_data:316:__init__ <combining_data.analysis_data.LunaDataset object at 0x0000020B4A5E3580>: 1021 training samples, 1021 neg, 0 pos, unbalanced ratio\n",
      "2022-06-03 12:52:19,779 WARNING  pid:22176 utill.util:160:enumerateWithEstimate Series ----/1, done at 2022-06-03 12:52:19\n",
      "2022-06-03 12:52:19,783 INFO     pid:22176 nb:009:run Finished: noduleAnalysis.nodule_analysis.NoduleAnalysisApp.['--num-workers=4', '1.3.6.1.4.1.14519.5.2.1.6279.6001.187451715205085403623595258748']).main()\n"
     ]
    },
    {
     "name": "stdout",
     "output_type": "stream",
     "text": [
      "found nodule candidates in 1.3.6.1.4.1.14519.5.2.1.6279.6001.187451715205085403623595258748:\n",
      "nodule prob 0.644, center xyz XyzTuple(x=-156.509369, y=8.087493999999992, z=-64.75)\n",
      "nodule prob 0.689, center xyz XyzTuple(x=-150.181244, y=-55.89688100000001, z=-214.75)\n",
      "nodule prob 0.586, center xyz XyzTuple(x=-148.071869, y=107.22811899999999, z=-269.75)\n",
      "nodule prob 0.661, center xyz XyzTuple(x=-147.368744, y=108.63436899999999, z=-242.25)\n",
      "nodule prob 0.629, center xyz XyzTuple(x=-146.665619, y=109.33749399999999, z=-134.75)\n",
      "nodule prob 0.610, center xyz XyzTuple(x=-146.665619, y=109.33749399999999, z=-89.75)\n",
      "nodule prob 0.624, center xyz XyzTuple(x=-146.665619, y=108.63436899999999, z=-272.25)\n",
      "nodule prob 0.613, center xyz XyzTuple(x=-146.665619, y=109.33749399999999, z=-212.25)\n",
      "nodule prob 0.662, center xyz XyzTuple(x=-145.962494, y=109.33749399999999, z=-242.25)\n",
      "nodule prob 0.751, center xyz XyzTuple(x=-145.962494, y=110.04061899999999, z=-104.75)\n",
      "nodule prob 0.548, center xyz XyzTuple(x=-145.259369, y=109.33749399999999, z=-272.25)\n",
      "nodule prob 0.654, center xyz XyzTuple(x=-118.54061899999999, y=22.853118999999992, z=-287.25)\n",
      "nodule prob 0.575, center xyz XyzTuple(x=-117.13436899999999, y=62.22811899999999, z=-342.25)\n",
      "nodule prob 0.578, center xyz XyzTuple(x=-116.43124399999999, y=-5.271881000000008, z=-277.25)\n",
      "nodule prob 0.532, center xyz XyzTuple(x=-115.72811899999999, y=8.790618999999992, z=-267.25)\n",
      "nodule prob 0.793, center xyz XyzTuple(x=-115.02499399999999, y=40.43124399999999, z=-244.75)\n",
      "nodule prob 0.596, center xyz XyzTuple(x=-114.32186899999999, y=-3.8656310000000076, z=-322.25)\n",
      "nodule prob 0.526, center xyz XyzTuple(x=-114.32186899999999, y=1.0562439999999924, z=-272.25)\n",
      "nodule prob 0.622, center xyz XyzTuple(x=-114.32186899999999, y=117.07186899999999, z=-89.75)\n",
      "nodule prob 0.519, center xyz XyzTuple(x=-113.61874399999999, y=-3.1625060000000076, z=-274.75)\n",
      "nodule prob 0.650, center xyz XyzTuple(x=-111.50936899999999, y=-13.709381000000008, z=-257.25)\n",
      "nodule prob 0.643, center xyz XyzTuple(x=-110.10311899999999, y=-16.521881000000008, z=-259.75)\n",
      "nodule prob 0.566, center xyz XyzTuple(x=-109.39999399999999, y=69.25936899999999, z=-342.25)\n",
      "nodule prob 0.797, center xyz XyzTuple(x=-100.96249399999999, y=-40.42813100000001, z=-322.25)\n",
      "nodule prob 0.662, center xyz XyzTuple(x=-99.55624399999999, y=-41.13125600000001, z=-322.25)\n",
      "nodule prob 0.704, center xyz XyzTuple(x=-98.85311899999999, y=-42.53750600000001, z=-322.25)\n",
      "nodule prob 0.701, center xyz XyzTuple(x=-97.44686899999999, y=-43.24063100000001, z=-322.25)\n",
      "nodule prob 0.537, center xyz XyzTuple(x=-94.63436899999999, y=127.61874399999999, z=-107.25)\n",
      "nodule prob 0.560, center xyz XyzTuple(x=-89.00936899999999, y=84.72811899999999, z=-159.75)\n",
      "nodule prob 0.690, center xyz XyzTuple(x=-86.19686899999999, y=86.83749399999999, z=-157.25)\n",
      "nodule prob 0.766, center xyz XyzTuple(x=-84.79061899999999, y=1.0562439999999924, z=-274.75)\n",
      "nodule prob 0.558, center xyz XyzTuple(x=-84.08749399999999, y=29.884368999999992, z=-247.25)\n",
      "nodule prob 0.763, center xyz XyzTuple(x=-82.68124399999999, y=3.8687439999999924, z=-272.25)\n",
      "nodule prob 0.703, center xyz XyzTuple(x=-82.68124399999999, y=87.54061899999999, z=-154.75)\n",
      "nodule prob 0.768, center xyz XyzTuple(x=-80.57186899999999, y=88.94686899999999, z=-152.25)\n",
      "nodule prob 0.587, center xyz XyzTuple(x=-77.75936899999999, y=11.603118999999992, z=-169.75)\n",
      "nodule prob 0.519, center xyz XyzTuple(x=-77.05624399999999, y=88.94686899999999, z=-149.75)\n",
      "nodule prob 0.801, center xyz XyzTuple(x=-74.24374399999999, y=89.64999399999999, z=-147.25)\n",
      "nodule prob 0.602, center xyz XyzTuple(x=-73.54061899999999, y=13.009368999999992, z=-172.25)\n",
      "nodule prob 0.746, center xyz XyzTuple(x=-71.43124399999999, y=0.3531189999999924, z=-219.75)\n",
      "nodule prob 0.506, center xyz XyzTuple(x=-70.02499399999999, y=-73.47500600000001, z=-317.25)\n",
      "nodule prob 0.608, center xyz XyzTuple(x=-67.21249399999999, y=-13.709381000000008, z=-229.75)\n",
      "nodule prob 0.780, center xyz XyzTuple(x=-66.50936899999999, y=89.64999399999999, z=-144.75)\n",
      "nodule prob 0.762, center xyz XyzTuple(x=-65.80624399999999, y=-12.303131000000008, z=-227.25)\n",
      "nodule prob 0.727, center xyz XyzTuple(x=-62.29061899999999, y=-1.0531310000000076, z=-179.75)\n",
      "nodule prob 0.518, center xyz XyzTuple(x=-60.88436899999999, y=132.540619, z=-89.75)\n",
      "nodule prob 0.682, center xyz XyzTuple(x=-59.47811899999999, y=3.8687439999999924, z=-214.75)\n",
      "nodule prob 0.782, center xyz XyzTuple(x=-59.47811899999999, y=13.009368999999992, z=-252.25)\n",
      "nodule prob 0.544, center xyz XyzTuple(x=-58.07186899999999, y=20.743743999999992, z=-177.25)\n",
      "nodule prob 0.658, center xyz XyzTuple(x=-56.66561899999999, y=137.462494, z=-122.25)\n",
      "nodule prob 0.789, center xyz XyzTuple(x=-50.33749399999999, y=138.165619, z=-124.75)\n",
      "nodule prob 0.821, center xyz XyzTuple(x=-49.63436899999999, y=86.83749399999999, z=-344.75)\n",
      "nodule prob 0.631, center xyz XyzTuple(x=-49.63436899999999, y=-29.881256000000008, z=-199.75)\n",
      "nodule prob 0.754, center xyz XyzTuple(x=-48.93124399999999, y=3.8687439999999924, z=-179.75)\n",
      "nodule prob 0.663, center xyz XyzTuple(x=-48.22811899999999, y=-7.381256000000008, z=-147.25)\n",
      "nodule prob 0.608, center xyz XyzTuple(x=-46.82186899999999, y=-0.3500060000000076, z=-154.75)\n",
      "nodule prob 0.625, center xyz XyzTuple(x=-46.11874399999999, y=38.32186899999999, z=-249.75)\n",
      "nodule prob 0.891, center xyz XyzTuple(x=-44.71249399999999, y=24.962493999999992, z=-184.75)\n",
      "nodule prob 0.785, center xyz XyzTuple(x=-44.71249399999999, y=138.868744, z=-127.25)\n",
      "nodule prob 0.798, center xyz XyzTuple(x=-41.19686899999999, y=4.571868999999992, z=-192.25)\n",
      "nodule prob 0.619, center xyz XyzTuple(x=-39.08749399999999, y=139.571869, z=-129.75)\n",
      "nodule prob 0.632, center xyz XyzTuple(x=-37.68124399999999, y=15.821868999999992, z=-147.25)\n",
      "nodule prob 0.596, center xyz XyzTuple(x=-36.97811899999999, y=139.571869, z=-129.75)\n",
      "nodule prob 0.589, center xyz XyzTuple(x=-30.649993999999992, y=25.665618999999992, z=-217.25)\n",
      "nodule prob 0.704, center xyz XyzTuple(x=-22.212493999999992, y=67.85311899999999, z=-299.75)\n",
      "nodule prob 0.504, center xyz XyzTuple(x=-20.103118999999992, y=-55.19375600000001, z=-92.25)\n",
      "nodule prob 0.821, center xyz XyzTuple(x=-17.993743999999992, y=58.00936899999999, z=-249.75)\n",
      "nodule prob 0.606, center xyz XyzTuple(x=-17.290618999999992, y=54.49374399999999, z=-182.25)\n",
      "nodule prob 0.532, center xyz XyzTuple(x=-14.478118999999992, y=126.91561899999999, z=-82.25)\n",
      "nodule prob 0.742, center xyz XyzTuple(x=-14.478118999999992, y=-59.41250600000001, z=-244.75)\n",
      "nodule prob 0.882, center xyz XyzTuple(x=-13.071868999999992, y=59.41561899999999, z=-252.25)\n",
      "nodule prob 0.794, center xyz XyzTuple(x=-12.368743999999992, y=58.00936899999999, z=-247.25)\n",
      "nodule prob 0.570, center xyz XyzTuple(x=-12.368743999999992, y=126.91561899999999, z=-82.25)\n",
      "nodule prob 0.593, center xyz XyzTuple(x=-12.368743999999992, y=134.649994, z=-199.75)\n",
      "nodule prob 0.554, center xyz XyzTuple(x=-8.853118999999992, y=46.75936899999999, z=-219.75)\n",
      "nodule prob 0.656, center xyz XyzTuple(x=3.8031310000000076, y=-47.45938100000001, z=-172.25)\n",
      "nodule prob 0.661, center xyz XyzTuple(x=8.725006000000008, y=-48.86563100000001, z=-182.25)\n",
      "nodule prob 0.976, center xyz XyzTuple(x=11.537506000000008, y=31.290618999999992, z=-97.25)\n",
      "nodule prob 0.530, center xyz XyzTuple(x=14.350006000000008, y=110.74374399999999, z=-94.75)\n",
      "nodule prob 0.619, center xyz XyzTuple(x=21.381256000000008, y=-42.53750600000001, z=-82.25)\n",
      "nodule prob 0.548, center xyz XyzTuple(x=21.381256000000008, y=-43.94375600000001, z=-57.25)\n",
      "nodule prob 0.649, center xyz XyzTuple(x=29.115631000000008, y=135.353119, z=-104.75)\n",
      "nodule prob 0.567, center xyz XyzTuple(x=30.521881000000008, y=-46.05313100000001, z=-184.75)\n",
      "nodule prob 0.727, center xyz XyzTuple(x=31.928131000000008, y=-3.8656310000000076, z=-204.75)\n",
      "nodule prob 0.525, center xyz XyzTuple(x=31.928131000000008, y=-2.4593810000000076, z=-204.75)\n",
      "nodule prob 0.932, center xyz XyzTuple(x=31.928131000000008, y=35.50936899999999, z=-202.25)\n",
      "nodule prob 0.537, center xyz XyzTuple(x=32.63125600000001, y=-1.0531310000000076, z=-204.75)\n",
      "nodule prob 0.506, center xyz XyzTuple(x=32.63125600000001, y=69.25936899999999, z=-304.75)\n",
      "nodule prob 0.698, center xyz XyzTuple(x=32.63125600000001, y=135.353119, z=-107.25)\n",
      "nodule prob 0.504, center xyz XyzTuple(x=32.63125600000001, y=133.946869, z=-212.25)\n",
      "nodule prob 0.630, center xyz XyzTuple(x=34.03750600000001, y=42.54061899999999, z=-164.75)\n",
      "nodule prob 0.537, center xyz XyzTuple(x=34.03750600000001, y=134.649994, z=-107.25)\n",
      "nodule prob 0.693, center xyz XyzTuple(x=34.74063100000001, y=135.353119, z=-107.25)\n",
      "nodule prob 0.635, center xyz XyzTuple(x=35.44375600000001, y=135.353119, z=-109.75)\n",
      "nodule prob 0.675, center xyz XyzTuple(x=37.55313100000001, y=3.8687439999999924, z=-147.25)\n",
      "nodule prob 0.853, center xyz XyzTuple(x=37.55313100000001, y=-36.20938100000001, z=-207.25)\n",
      "nodule prob 0.821, center xyz XyzTuple(x=37.55313100000001, y=-34.80313100000001, z=-207.25)\n",
      "nodule prob 0.528, center xyz XyzTuple(x=45.28750600000001, y=16.524993999999992, z=-272.25)\n",
      "nodule prob 0.555, center xyz XyzTuple(x=48.80313100000001, y=28.478118999999992, z=-272.25)\n",
      "nodule prob 0.613, center xyz XyzTuple(x=49.50625600000001, y=61.52499399999999, z=-179.75)\n",
      "nodule prob 0.780, center xyz XyzTuple(x=51.61563100000001, y=24.259368999999992, z=-272.25)\n",
      "nodule prob 0.718, center xyz XyzTuple(x=60.75625600000001, y=-24.256256000000008, z=-199.75)\n",
      "nodule prob 0.555, center xyz XyzTuple(x=63.56875600000001, y=10.899993999999992, z=-162.25)\n",
      "nodule prob 0.618, center xyz XyzTuple(x=65.67813100000001, y=73.47811899999999, z=-217.25)\n",
      "nodule prob 0.623, center xyz XyzTuple(x=67.78750600000001, y=-60.81875600000001, z=-272.25)\n",
      "nodule prob 0.559, center xyz XyzTuple(x=70.60000600000001, y=83.32186899999999, z=-324.75)\n",
      "nodule prob 0.618, center xyz XyzTuple(x=72.00625600000001, y=-62.22500600000001, z=-272.25)\n",
      "nodule prob 0.772, center xyz XyzTuple(x=76.22500600000001, y=136.759369, z=-184.75)\n",
      "nodule prob 0.527, center xyz XyzTuple(x=77.63125600000001, y=26.368743999999992, z=-164.75)\n",
      "nodule prob 0.859, center xyz XyzTuple(x=77.63125600000001, y=136.056244, z=-187.25)\n",
      "nodule prob 0.544, center xyz XyzTuple(x=78.33438100000001, y=116.36874399999999, z=-94.75)\n",
      "nodule prob 0.617, center xyz XyzTuple(x=79.74063100000001, y=93.86874399999999, z=-337.25)\n",
      "nodule prob 0.551, center xyz XyzTuple(x=81.14688100000001, y=24.259368999999992, z=-232.25)\n",
      "nodule prob 0.519, center xyz XyzTuple(x=83.25625600000001, y=-1.0531310000000076, z=-287.25)\n",
      "nodule prob 0.776, center xyz XyzTuple(x=85.36563100000001, y=133.243744, z=-187.25)\n",
      "nodule prob 0.726, center xyz XyzTuple(x=86.06875600000001, y=-3.1625060000000076, z=-289.75)\n",
      "nodule prob 0.513, center xyz XyzTuple(x=87.47500600000001, y=133.243744, z=-189.75)\n",
      "nodule prob 0.556, center xyz XyzTuple(x=88.17813100000001, y=-5.975006000000008, z=-292.25)\n",
      "nodule prob 0.552, center xyz XyzTuple(x=89.58438100000001, y=132.540619, z=-189.75)\n",
      "nodule prob 0.502, center xyz XyzTuple(x=90.99063100000001, y=117.77499399999999, z=-147.25)\n",
      "nodule prob 0.606, center xyz XyzTuple(x=90.99063100000001, y=131.837494, z=-189.75)\n",
      "nodule prob 0.551, center xyz XyzTuple(x=92.39688100000001, y=131.134369, z=-189.75)\n",
      "nodule prob 0.954, center xyz XyzTuple(x=94.50625600000001, y=-16.521881000000008, z=-204.75)\n",
      "nodule prob 0.618, center xyz XyzTuple(x=96.61563100000001, y=129.024994, z=-192.25)\n",
      "nodule prob 0.559, center xyz XyzTuple(x=105.05313100000001, y=73.47811899999999, z=-339.75)\n",
      "nodule prob 0.540, center xyz XyzTuple(x=108.56875600000001, y=112.14999399999999, z=-179.75)\n",
      "nodule prob 0.538, center xyz XyzTuple(x=112.08438100000001, y=110.74374399999999, z=-167.25)\n",
      "nodule prob 0.681, center xyz XyzTuple(x=119.11563100000001, y=111.44686899999999, z=-294.75)\n",
      "nodule prob 0.628, center xyz XyzTuple(x=119.11563100000001, y=119.88436899999999, z=-294.75)\n",
      "nodule prob 0.544, center xyz XyzTuple(x=120.52188100000001, y=119.18124399999999, z=-294.75)\n",
      "nodule prob 0.621, center xyz XyzTuple(x=121.22500600000001, y=112.85311899999999, z=-292.25)\n",
      "nodule prob 0.704, center xyz XyzTuple(x=121.92813100000001, y=93.86874399999999, z=-74.75)\n",
      "nodule prob 0.723, center xyz XyzTuple(x=122.63125600000001, y=110.04061899999999, z=-159.75)\n",
      "nodule prob 0.729, center xyz XyzTuple(x=122.63125600000001, y=108.63436899999999, z=-157.25)\n",
      "nodule prob 0.571, center xyz XyzTuple(x=122.63125600000001, y=118.47811899999999, z=-112.25)\n",
      "nodule prob 0.508, center xyz XyzTuple(x=123.33438100000001, y=92.46249399999999, z=-74.75)\n",
      "nodule prob 0.706, center xyz XyzTuple(x=124.03750600000001, y=117.77499399999999, z=-204.75)\n",
      "nodule prob 0.621, center xyz XyzTuple(x=124.74063100000001, y=117.77499399999999, z=-117.25)\n",
      "nodule prob 0.569, center xyz XyzTuple(x=126.14688100000001, y=117.07186899999999, z=-354.75)\n",
      "nodule prob 0.514, center xyz XyzTuple(x=126.14688100000001, y=117.07186899999999, z=-109.75)\n",
      "nodule prob 0.553, center xyz XyzTuple(x=126.14688100000001, y=117.07186899999999, z=-117.25)\n",
      "nodule prob 0.658, center xyz XyzTuple(x=127.55313100000001, y=50.27499399999999, z=-339.75)\n",
      "nodule prob 0.611, center xyz XyzTuple(x=128.256256, y=103.71249399999999, z=-187.25)\n",
      "nodule prob 0.583, center xyz XyzTuple(x=128.256256, y=112.14999399999999, z=-354.75)\n",
      "nodule prob 0.691, center xyz XyzTuple(x=128.959381, y=48.16561899999999, z=-339.75)\n",
      "nodule prob 0.578, center xyz XyzTuple(x=128.959381, y=103.71249399999999, z=-232.25)\n",
      "nodule prob 0.777, center xyz XyzTuple(x=129.662506, y=103.00936899999999, z=-79.75)\n",
      "nodule prob 0.576, center xyz XyzTuple(x=130.365631, y=48.16561899999999, z=-339.75)\n",
      "nodule prob 0.549, center xyz XyzTuple(x=131.771881, y=103.00936899999999, z=-174.75)\n",
      "nodule prob 0.507, center xyz XyzTuple(x=133.178131, y=111.44686899999999, z=-112.25)\n",
      "nodule prob 0.676, center xyz XyzTuple(x=133.178131, y=107.22811899999999, z=-352.25)\n",
      "nodule prob 0.599, center xyz XyzTuple(x=134.584381, y=-62.22500600000001, z=-304.75)\n",
      "nodule prob 0.538, center xyz XyzTuple(x=135.287506, y=-61.52188100000001, z=-304.75)\n",
      "nodule prob 0.558, center xyz XyzTuple(x=135.990631, y=100.89999399999999, z=-232.25)\n",
      "nodule prob 0.590, center xyz XyzTuple(x=136.693756, y=100.89999399999999, z=-249.75)\n",
      "nodule prob 0.575, center xyz XyzTuple(x=136.693756, y=100.89999399999999, z=-262.25)\n",
      "nodule prob 0.533, center xyz XyzTuple(x=136.693756, y=-60.11563100000001, z=-302.25)\n",
      "nodule prob 0.528, center xyz XyzTuple(x=137.396881, y=-59.41250600000001, z=-302.25)\n",
      "nodule prob 0.599, center xyz XyzTuple(x=139.506256, y=111.44686899999999, z=-317.25)\n",
      "nodule prob 0.615, center xyz XyzTuple(x=140.209381, y=100.19686899999999, z=-264.75)\n",
      "nodule prob 0.975, center xyz XyzTuple(x=142.318756, y=-69.25625600000001, z=-212.25)\n",
      "nodule prob 0.637, center xyz XyzTuple(x=142.318756, y=101.60311899999999, z=-189.75)\n",
      "nodule prob 0.699, center xyz XyzTuple(x=145.131256, y=101.60311899999999, z=-322.25)\n",
      "nodule prob 0.532, center xyz XyzTuple(x=145.834381, y=96.68124399999999, z=-344.75)\n",
      "nodule prob 0.617, center xyz XyzTuple(x=148.646881, y=96.68124399999999, z=-264.75)\n",
      "nodule prob 0.595, center xyz XyzTuple(x=148.646881, y=95.97811899999999, z=-247.25)\n",
      "nodule prob 0.546, center xyz XyzTuple(x=148.646881, y=95.27499399999999, z=-262.25)\n",
      "nodule prob 0.545, center xyz XyzTuple(x=149.350006, y=95.27499399999999, z=-257.25)\n",
      "nodule prob 0.519, center xyz XyzTuple(x=150.053131, y=95.27499399999999, z=-204.75)\n",
      "nodule prob 0.545, center xyz XyzTuple(x=168.334381, y=-50.97500600000001, z=-227.25)\n",
      "nodule prob 0.510, center xyz XyzTuple(x=169.740631, y=38.32186899999999, z=-262.25)\n",
      "nodule prob 0.530, center xyz XyzTuple(x=173.256256, y=-36.91250600000001, z=-182.25)\n",
      "nodule prob 0.698, center xyz XyzTuple(x=176.068756, y=-27.771881000000008, z=-174.75)\n",
      "nodule prob 0.696, center xyz XyzTuple(x=176.068756, y=-24.256256000000008, z=-59.75)\n",
      "nodule prob 0.642, center xyz XyzTuple(x=176.771881, y=-23.553131000000008, z=-52.25)\n",
      "nodule prob 0.510, center xyz XyzTuple(x=176.771881, y=41.13436899999999, z=-262.25)\n",
      "nodule prob 0.500, center xyz XyzTuple(x=180.287506, y=35.50936899999999, z=-262.25)\n",
      "1.3.6.1.4.1.14519.5.2.1.6279.6001.187451715205085403623595258748\n",
      "                 |    Complete Miss |     Filtered Out |     Pred. Nodule\n",
      "     Non-Nodules |                  |              843 |              176\n",
      "          Benign |                1 |                0 |                0\n",
      "       Malignant |                0 |                0 |                1\n",
      "Total\n",
      "                 |    Complete Miss |     Filtered Out |     Pred. Nodule\n",
      "     Non-Nodules |                  |              843 |              176\n",
      "          Benign |                1 |                0 |                0\n",
      "       Malignant |                0 |                0 |                1\n"
     ]
    }
   ],
   "source": [
    "run('noduleAnalysis.nodule_analysis.NoduleAnalysisApp','1.3.6.1.4.1.14519.5.2.1.6279.6001.187451715205085403623595258748')"
   ]
  },
  {
   "cell_type": "markdown",
   "metadata": {},
   "source": [
    "MALIGNANCY CLASSIFIER"
   ]
  },
  {
   "cell_type": "code",
   "execution_count": 3,
   "metadata": {},
   "outputs": [
    {
     "name": "stderr",
     "output_type": "stream",
     "text": [
      "2022-06-03 14:11:23,752 INFO     pid:20264 nb:004:run Running: noduleAnalysis.training.ClassificationTrainingApp(['--num-workers=4', '--epochs=2', '--malignant', '--dataset=MalignantLunaDataset', '--finetune=data/models/NoduleAnalysis/cls_2022-06-03_11.39.42_nodule-nonnodule.best.state', 'finetune-head']).main()\n",
      "2022-06-03 14:11:24,894 INFO     pid:20264 noduleAnalysis.training:132:initModel finetuning from data/models/NoduleAnalysis/cls_2022-06-03_11.39.42_nodule-nonnodule.best.state, blocks head_linear\n",
      "2022-06-03 14:11:24,898 INFO     pid:20264 noduleAnalysis.training:144:initModel Using CUDA; 1 devices.\n",
      "2022-06-03 14:11:24,986 INFO     pid:20264 noduleAnalysis.training:210:main Starting ClassificationTrainingApp, Namespace(batch_size=24, num_workers=4, epochs=2, dataset='MalignantLunaDataset', model='LunaModel', malignant=True, finetune='data/models/NoduleAnalysis/cls_2022-06-03_11.39.42_nodule-nonnodule.best.state', finetune_depth=1, tb_prefix='NoduleAnalysis', comment='finetune-head')\n",
      "2022-06-03 14:11:27,158 INFO     pid:20264 combining_data.analysis_data:316:__init__ <combining_data.analysis_data.MalignantLunaDataset object at 0x000001EE92A08F40>: 50616 training samples, 50515 neg, 101 pos, 1:1 ratio\n",
      "2022-06-03 14:11:27,174 INFO     pid:20264 combining_data.analysis_data:316:__init__ <combining_data.analysis_data.MalignantLunaDataset object at 0x000001EE9B517070>: 6312 validation samples, 6301 neg, 11 pos, unbalanced ratio\n",
      "2022-06-03 14:11:27,174 INFO     pid:20264 noduleAnalysis.training:219:main Epoch 1 of 2, 959/1 batches of size 24*1\n",
      "2022-06-03 14:11:28,350 WARNING  pid:20264 utill.util:126:enumerateWithEstimate E1 Training ----/959, starting\n",
      "2022-06-03 14:11:47,917 INFO     pid:20264 utill.util:147:enumerateWithEstimate E1 Training   16/959, done at 2022-06-03 14:14:16, 0:02:31\n",
      "2022-06-03 14:11:55,230 INFO     pid:20264 utill.util:147:enumerateWithEstimate E1 Training   64/959, done at 2022-06-03 14:14:12, 0:02:26\n",
      "2022-06-03 14:12:25,038 INFO     pid:20264 utill.util:147:enumerateWithEstimate E1 Training  256/959, done at 2022-06-03 14:14:13, 0:02:27\n",
      "2022-06-03 14:14:06,781 WARNING  pid:20264 utill.util:160:enumerateWithEstimate E1 Training ----/959, done at 2022-06-03 14:14:06\n",
      "2022-06-03 14:14:08,948 INFO     pid:20264 noduleAnalysis.training:347:logMetrics E1 ClassificationTrainingApp\n",
      "2022-06-03 14:14:09,913 INFO     pid:20264 noduleAnalysis.training:420:logMetrics E1 trn      0.8899 loss,  52.4% correct, 0.5186 precision, 0.6612 recall, 0.5813 f1 score, 0.5284 auc\n",
      "2022-06-03 14:14:09,913 INFO     pid:20264 noduleAnalysis.training:433:logMetrics E1 trn_ben  1.1862 loss,  38.6% correct (4442 of 11500)\n",
      "2022-06-03 14:14:09,914 INFO     pid:20264 noduleAnalysis.training:444:logMetrics E1 trn_mal  0.5936 loss,  66.1% correct (7604 of 11500)\n",
      "2022-06-03 14:14:11,429 WARNING  pid:20264 utill.util:126:enumerateWithEstimate E1 Validation  ----/1, starting\n",
      "2022-06-03 14:14:19,104 WARNING  pid:20264 utill.util:160:enumerateWithEstimate E1 Validation  ----/1, done at 2022-06-03 14:14:19\n",
      "2022-06-03 14:14:19,106 INFO     pid:20264 noduleAnalysis.training:347:logMetrics E1 ClassificationTrainingApp\n",
      "2022-06-03 14:14:19,108 INFO     pid:20264 noduleAnalysis.training:420:logMetrics E1 val      0.7177 loss,  72.7% correct, 0.6667 precision, 0.8000 recall, 0.7273 f1 score, 0.7167 auc\n",
      "2022-06-03 14:14:19,108 INFO     pid:20264 noduleAnalysis.training:433:logMetrics E1 val_ben  0.7337 loss,  66.7% correct (4 of 6)\n",
      "2022-06-03 14:14:19,109 INFO     pid:20264 noduleAnalysis.training:444:logMetrics E1 val_mal  0.6985 loss,  80.0% correct (4 of 5)\n",
      "2022-06-03 14:14:19,274 DEBUG    pid:20264 noduleAnalysis.training:550:saveModel Saved model params to data\\models\\NoduleAnalysis\\cls_2022-06-03_14.11.24_finetune-head.23000.state\n",
      "2022-06-03 14:14:19,304 DEBUG    pid:20264 noduleAnalysis.training:565:saveModel Saved model params to data\\models\\NoduleAnalysis\\cls_2022-06-03_14.11.24_finetune-head.best.state\n",
      "2022-06-03 14:14:19,319 INFO     pid:20264 noduleAnalysis.training:568:saveModel SHA1: 6d78629e56a7935f96d97ae89063e6f694b10922\n",
      "2022-06-03 14:14:19,320 INFO     pid:20264 noduleAnalysis.training:219:main Epoch 2 of 2, 959/1 batches of size 24*1\n",
      "2022-06-03 14:14:19,395 WARNING  pid:20264 utill.util:126:enumerateWithEstimate E2 Training ----/959, starting\n",
      "2022-06-03 14:14:27,409 INFO     pid:20264 utill.util:147:enumerateWithEstimate E2 Training   16/959, done at 2022-06-03 14:15:42, 0:01:16\n",
      "2022-06-03 14:14:38,554 INFO     pid:20264 utill.util:147:enumerateWithEstimate E2 Training   64/959, done at 2022-06-03 14:17:37, 0:03:10\n",
      "2022-06-03 14:15:11,583 INFO     pid:20264 utill.util:147:enumerateWithEstimate E2 Training  256/959, done at 2022-06-03 14:17:17, 0:02:50\n",
      "2022-06-03 14:17:00,431 WARNING  pid:20264 utill.util:160:enumerateWithEstimate E2 Training ----/959, done at 2022-06-03 14:17:00\n",
      "2022-06-03 14:17:00,468 INFO     pid:20264 noduleAnalysis.training:347:logMetrics E2 ClassificationTrainingApp\n",
      "2022-06-03 14:17:00,471 INFO     pid:20264 noduleAnalysis.training:420:logMetrics E2 trn      0.7861 loss,  52.4% correct, 0.5252 precision, 0.4976 recall, 0.5110 f1 score, 0.5347 auc\n",
      "2022-06-03 14:17:00,472 INFO     pid:20264 noduleAnalysis.training:433:logMetrics E2 trn_ben  0.7820 loss,  55.0% correct (6327 of 11500)\n",
      "2022-06-03 14:17:00,473 INFO     pid:20264 noduleAnalysis.training:444:logMetrics E2 trn_mal  0.7901 loss,  49.8% correct (5722 of 11500)\n",
      "2022-06-03 14:17:00,571 WARNING  pid:20264 utill.util:126:enumerateWithEstimate E2 Validation  ----/1, starting\n",
      "2022-06-03 14:17:05,950 WARNING  pid:20264 utill.util:160:enumerateWithEstimate E2 Validation  ----/1, done at 2022-06-03 14:17:05\n",
      "2022-06-03 14:17:05,952 INFO     pid:20264 noduleAnalysis.training:347:logMetrics E2 ClassificationTrainingApp\n",
      "2022-06-03 14:17:05,953 INFO     pid:20264 noduleAnalysis.training:420:logMetrics E2 val      0.7089 loss,  72.7% correct, 0.6667 precision, 0.8000 recall, 0.7273 f1 score, 0.7167 auc\n",
      "2022-06-03 14:17:05,954 INFO     pid:20264 noduleAnalysis.training:433:logMetrics E2 val_ben  0.7244 loss,  66.7% correct (4 of 6)\n",
      "2022-06-03 14:17:05,954 INFO     pid:20264 noduleAnalysis.training:444:logMetrics E2 val_mal  0.6902 loss,  80.0% correct (4 of 5)\n",
      "2022-06-03 14:17:06,191 DEBUG    pid:20264 noduleAnalysis.training:550:saveModel Saved model params to data\\models\\NoduleAnalysis\\cls_2022-06-03_14.11.24_finetune-head.46000.state\n",
      "2022-06-03 14:17:06,194 DEBUG    pid:20264 noduleAnalysis.training:565:saveModel Saved model params to data\\models\\NoduleAnalysis\\cls_2022-06-03_14.11.24_finetune-head.best.state\n",
      "2022-06-03 14:17:06,197 INFO     pid:20264 noduleAnalysis.training:568:saveModel SHA1: fc426d96353dacf560075771e73c91abf462177d\n",
      "2022-06-03 14:17:06,207 INFO     pid:20264 nb:009:run Finished: noduleAnalysis.training.ClassificationTrainingApp.['--num-workers=4', '--epochs=2', '--malignant', '--dataset=MalignantLunaDataset', '--finetune=data/models/NoduleAnalysis/cls_2022-06-03_11.39.42_nodule-nonnodule.best.state', 'finetune-head']).main()\n"
     ]
    }
   ],
   "source": [
    "run('noduleAnalysis.training.ClassificationTrainingApp', f'--epochs=2', '--malignant', '--dataset=MalignantLunaDataset',\n",
    "    '--finetune=data/models/NoduleAnalysis/cls_2022-06-03_11.39.42_nodule-nonnodule.best.state','finetune-head')"
   ]
  },
  {
   "cell_type": "code",
   "execution_count": 6,
   "metadata": {},
   "outputs": [
    {
     "name": "stderr",
     "output_type": "stream",
     "text": [
      "2022-06-03 14:21:31,922 INFO     pid:20264 nb:004:run Running: noduleAnalysis.nodule_analysis.NoduleAnalysisApp(['--num-workers=4', '--run-validation']).main()\n",
      "2022-06-03 14:21:31,926 DEBUG    pid:20264 noduleAnalysis.nodule_analysis:211:initModels data/models/segmentation/seg_2022-05-25_11.11.48_none.best.state\n",
      "2022-06-03 14:21:32,114 DEBUG    pid:20264 noduleAnalysis.nodule_analysis:227:initModels data/models/NoduleAnalysis/cls_2022-06-03_11.39.42_nodule-nonnodule.best.state\n",
      "2022-06-03 14:21:32,164 INFO     pid:20264 noduleAnalysis.nodule_analysis:287:main Starting NoduleAnalysisApp, Namespace(batch_size=4, num_workers=4, run_validation=True, include_train=False, segmentation_path='data/models/segmentation/seg_2022-05-25_11.11.48_none.best.state', cls_model='LunaModel', classification_path='data/models/NoduleAnalysis/cls_2022-06-03_11.39.42_nodule-nonnodule.best.state', malignancy_model='LunaModel', malignancy_path=None, tb_prefix='NoduleAnalysis', series_uid=None)\n",
      "2022-06-03 14:21:32,184 INFO     pid:20264 combining_data.analysis_data:316:__init__ <combining_data.analysis_data.LunaDataset object at 0x000001EEB735B130>: 6312 validation samples, 6301 neg, 11 pos, unbalanced ratio\n",
      "2022-06-03 14:21:32,197 WARNING  pid:20264 utill.util:126:enumerateWithEstimate Series ----/9, starting\n",
      "2022-06-03 14:21:32,693 INFO     pid:20264 combining_data.segm_data:293:__init__ <combining_data.segm_data.Luna2dSegmentationDataset object at 0x000001EEB735B610>: 1 general series, 121 slices, 0 nodules\n",
      "2022-06-03 14:21:47,721 INFO     pid:20264 combining_data.analysis_data:316:__init__ <combining_data.analysis_data.LunaDataset object at 0x000001EE9B7C6070>: 702 training samples, 702 neg, 0 pos, unbalanced ratio\n"
     ]
    },
    {
     "name": "stdout",
     "output_type": "stream",
     "text": [
      "1.3.6.1.4.1.14519.5.2.1.6279.6001.105756658031515062000744821260\n",
      "                 |    Complete Miss |     Filtered Out |     Pred. Nodule\n",
      "     Non-Nodules |                  |              612 |               90\n",
      "          Benign |                0 |                0 |                0\n",
      "       Malignant |                0 |                0 |                0\n"
     ]
    },
    {
     "name": "stderr",
     "output_type": "stream",
     "text": [
      "2022-06-03 14:21:56,790 INFO     pid:20264 combining_data.segm_data:293:__init__ <combining_data.segm_data.Luna2dSegmentationDataset object at 0x000001EE9B805B20>: 1 general series, 274 slices, 1 nodules\n",
      "2022-06-03 14:22:18,362 INFO     pid:20264 combining_data.analysis_data:316:__init__ <combining_data.analysis_data.LunaDataset object at 0x000001EEB6CC0CA0>: 2506 training samples, 2506 neg, 0 pos, unbalanced ratio\n"
     ]
    },
    {
     "name": "stdout",
     "output_type": "stream",
     "text": [
      "1.3.6.1.4.1.14519.5.2.1.6279.6001.130438550890816550994739120843\n",
      "                 |    Complete Miss |     Filtered Out |     Pred. Nodule\n",
      "     Non-Nodules |                  |             1803 |              702\n",
      "          Benign |                0 |                0 |                1\n",
      "       Malignant |                0 |                0 |                0\n"
     ]
    },
    {
     "name": "stderr",
     "output_type": "stream",
     "text": [
      "2022-06-03 14:22:32,099 INFO     pid:20264 combining_data.segm_data:293:__init__ <combining_data.segm_data.Luna2dSegmentationDataset object at 0x000001EEB4406370>: 1 general series, 125 slices, 2 nodules\n",
      "2022-06-03 14:22:43,411 INFO     pid:20264 combining_data.analysis_data:316:__init__ <combining_data.analysis_data.LunaDataset object at 0x000001EEB5A08730>: 1021 training samples, 1021 neg, 0 pos, unbalanced ratio\n"
     ]
    },
    {
     "name": "stdout",
     "output_type": "stream",
     "text": [
      "1.3.6.1.4.1.14519.5.2.1.6279.6001.187451715205085403623595258748\n",
      "                 |    Complete Miss |     Filtered Out |     Pred. Nodule\n",
      "     Non-Nodules |                  |              843 |              176\n",
      "          Benign |                1 |                0 |                0\n",
      "       Malignant |                0 |                0 |                1\n"
     ]
    },
    {
     "name": "stderr",
     "output_type": "stream",
     "text": [
      "2022-06-03 14:22:58,747 INFO     pid:20264 combining_data.segm_data:293:__init__ <combining_data.segm_data.Luna2dSegmentationDataset object at 0x000001EEB6CC0E50>: 1 general series, 141 slices, 2 nodules\n",
      "2022-06-03 14:23:29,161 INFO     pid:20264 combining_data.analysis_data:316:__init__ <combining_data.analysis_data.LunaDataset object at 0x000001EEB2FD6F40>: 1554 training samples, 1554 neg, 0 pos, unbalanced ratio\n"
     ]
    },
    {
     "name": "stdout",
     "output_type": "stream",
     "text": [
      "1.3.6.1.4.1.14519.5.2.1.6279.6001.219909753224298157409438012179\n",
      "                 |    Complete Miss |     Filtered Out |     Pred. Nodule\n",
      "     Non-Nodules |                  |             1395 |              157\n",
      "          Benign |                0 |                0 |                0\n",
      "       Malignant |                0 |                1 |                1\n"
     ]
    },
    {
     "name": "stderr",
     "output_type": "stream",
     "text": [
      "2022-06-03 14:24:06,111 INFO     pid:20264 combining_data.segm_data:293:__init__ <combining_data.segm_data.Luna2dSegmentationDataset object at 0x000001EEB5A08A60>: 1 general series, 177 slices, 2 nodules\n",
      "2022-06-03 14:24:20,024 INFO     pid:20264 combining_data.analysis_data:316:__init__ <combining_data.analysis_data.LunaDataset object at 0x000001EEB68E1F40>: 1161 training samples, 1161 neg, 0 pos, unbalanced ratio\n",
      "2022-06-03 14:25:16,736 INFO     pid:20264 utill.util:147:enumerateWithEstimate Series    4/9, done at 2022-06-03 14:28:16, 0:06:44\n"
     ]
    },
    {
     "name": "stdout",
     "output_type": "stream",
     "text": [
      "1.3.6.1.4.1.14519.5.2.1.6279.6001.277445975068759205899107114231\n",
      "                 |    Complete Miss |     Filtered Out |     Pred. Nodule\n",
      "     Non-Nodules |                  |             1007 |              154\n",
      "          Benign |                2 |                0 |                0\n",
      "       Malignant |                0 |                0 |                0\n"
     ]
    },
    {
     "name": "stderr",
     "output_type": "stream",
     "text": [
      "2022-06-03 14:25:41,863 INFO     pid:20264 combining_data.segm_data:293:__init__ <combining_data.segm_data.Luna2dSegmentationDataset object at 0x000001EEB6CC0490>: 1 general series, 290 slices, 2 nodules\n",
      "2022-06-03 14:26:40,241 INFO     pid:20264 combining_data.analysis_data:316:__init__ <combining_data.analysis_data.LunaDataset object at 0x000001EE92A11580>: 1879 training samples, 1879 neg, 0 pos, unbalanced ratio\n"
     ]
    },
    {
     "name": "stdout",
     "output_type": "stream",
     "text": [
      "1.3.6.1.4.1.14519.5.2.1.6279.6001.305858704835252413616501469037\n",
      "                 |    Complete Miss |     Filtered Out |     Pred. Nodule\n",
      "     Non-Nodules |                  |             1495 |              383\n",
      "          Benign |                1 |                0 |                1\n",
      "       Malignant |                0 |                0 |                0\n"
     ]
    },
    {
     "name": "stderr",
     "output_type": "stream",
     "text": [
      "2022-06-03 14:29:35,629 INFO     pid:20264 combining_data.segm_data:293:__init__ <combining_data.segm_data.Luna2dSegmentationDataset object at 0x000001EEB4406EB0>: 1 general series, 204 slices, 0 nodules\n",
      "2022-06-03 14:29:59,553 INFO     pid:20264 combining_data.analysis_data:316:__init__ <combining_data.analysis_data.LunaDataset object at 0x000001EEB68E15E0>: 1518 training samples, 1518 neg, 0 pos, unbalanced ratio\n"
     ]
    },
    {
     "name": "stdout",
     "output_type": "stream",
     "text": [
      "1.3.6.1.4.1.14519.5.2.1.6279.6001.332453873575389860371315979768\n",
      "                 |    Complete Miss |     Filtered Out |     Pred. Nodule\n",
      "     Non-Nodules |                  |             1286 |              232\n",
      "          Benign |                0 |                0 |                0\n",
      "       Malignant |                0 |                0 |                0\n"
     ]
    },
    {
     "name": "stderr",
     "output_type": "stream",
     "text": [
      "2022-06-03 14:30:44,971 INFO     pid:20264 combining_data.segm_data:293:__init__ <combining_data.segm_data.Luna2dSegmentationDataset object at 0x000001EE9B805CA0>: 1 general series, 516 slices, 1 nodules\n",
      "2022-06-03 14:31:32,266 INFO     pid:20264 combining_data.analysis_data:316:__init__ <combining_data.analysis_data.LunaDataset object at 0x000001EE92A11580>: 1869 training samples, 1869 neg, 0 pos, unbalanced ratio\n"
     ]
    },
    {
     "name": "stdout",
     "output_type": "stream",
     "text": [
      "1.3.6.1.4.1.14519.5.2.1.6279.6001.525937963993475482158828421281\n",
      "                 |    Complete Miss |     Filtered Out |     Pred. Nodule\n",
      "     Non-Nodules |                  |             1363 |              504\n",
      "          Benign |                0 |                0 |                0\n",
      "       Malignant |                0 |                0 |                1\n"
     ]
    },
    {
     "name": "stderr",
     "output_type": "stream",
     "text": [
      "2022-06-03 14:32:20,580 INFO     pid:20264 combining_data.segm_data:293:__init__ <combining_data.segm_data.Luna2dSegmentationDataset object at 0x000001EEB44061C0>: 1 general series, 127 slices, 1 nodules\n",
      "2022-06-03 14:32:47,589 INFO     pid:20264 combining_data.analysis_data:316:__init__ <combining_data.analysis_data.LunaDataset object at 0x000001EEB5A08730>: 1264 training samples, 1264 neg, 0 pos, unbalanced ratio\n",
      "2022-06-03 14:33:11,927 INFO     pid:20264 utill.util:147:enumerateWithEstimate Series    8/9, done at 2022-06-03 14:33:11, 0:11:39\n",
      "2022-06-03 14:33:11,928 WARNING  pid:20264 utill.util:160:enumerateWithEstimate Series ----/9, done at 2022-06-03 14:33:11\n",
      "2022-06-03 14:33:11,937 INFO     pid:20264 nb:009:run Finished: noduleAnalysis.nodule_analysis.NoduleAnalysisApp.['--num-workers=4', '--run-validation']).main()\n"
     ]
    },
    {
     "name": "stdout",
     "output_type": "stream",
     "text": [
      "1.3.6.1.4.1.14519.5.2.1.6279.6001.752756872840730509471096155114\n",
      "                 |    Complete Miss |     Filtered Out |     Pred. Nodule\n",
      "     Non-Nodules |                  |             1111 |              149\n",
      "          Benign |                0 |                0 |                0\n",
      "       Malignant |                0 |                0 |                1\n",
      "Total\n",
      "                 |    Complete Miss |     Filtered Out |     Pred. Nodule\n",
      "     Non-Nodules |                  |            10915 |             2547\n",
      "          Benign |                4 |                0 |                2\n",
      "       Malignant |                0 |                1 |                4\n"
     ]
    }
   ],
   "source": [
    "run('noduleAnalysis.nodule_analysis.NoduleAnalysisApp', '--run-validation')"
   ]
  },
  {
   "cell_type": "code",
   "execution_count": 3,
   "metadata": {},
   "outputs": [
    {
     "name": "stderr",
     "output_type": "stream",
     "text": [
      "2022-06-03 15:20:24,499 INFO     pid:472 nb:004:run Running: noduleAnalysis.nodule_analysis.NoduleAnalysisApp(['--num-workers=4', '--run-validation', '--malignancy-path']).main()\n",
      "2022-06-03 15:20:37,092 DEBUG    pid:472 noduleAnalysis.nodule_analysis:214:initModels data/models/segmentation/seg_2022-05-25_11.11.48_none.best.state\n",
      "2022-06-03 15:20:37,243 DEBUG    pid:472 noduleAnalysis.nodule_analysis:230:initModels data/models/NoduleAnalysis/cls_2022-06-03_11.39.42_nodule-nonnodule.best.state\n",
      "2022-06-03 15:20:37,277 INFO     pid:472 noduleAnalysis.nodule_analysis:290:main Starting NoduleAnalysisApp, Namespace(batch_size=4, num_workers=4, run_validation=True, include_train=False, segmentation_path='data/models/segmentation/seg_2022-05-25_11.11.48_none.best.state', cls_model='LunaModel', classification_path='data/models/NoduleAnalysis/cls_2022-06-03_11.39.42_nodule-nonnodule.best.state', malignancy_model='LunaModel', malignancy_path='data\\\\models\\\\NoduleAnalysis\\\\mal_2022-06-03_14.11.24_finetune-head.best.state', tb_prefix='NoduleAnalysis', series_uid=None)\n",
      "2022-06-03 15:20:39,464 INFO     pid:472 combining_data.analysis_data:316:__init__ <combining_data.analysis_data.LunaDataset object at 0x00000217AA694D60>: 6312 validation samples, 6301 neg, 11 pos, unbalanced ratio\n",
      "2022-06-03 15:20:41,575 WARNING  pid:472 utill.util:126:enumerateWithEstimate Series ----/9, starting\n",
      "2022-06-03 15:20:44,227 INFO     pid:472 combining_data.segm_data:293:__init__ <combining_data.segm_data.Luna2dSegmentationDataset object at 0x00000217AC10F9A0>: 1 general series, 121 slices, 0 nodules\n",
      "2022-06-03 15:21:09,229 INFO     pid:472 combining_data.analysis_data:316:__init__ <combining_data.analysis_data.LunaDataset object at 0x00000217AC0E6E50>: 702 training samples, 702 neg, 0 pos, unbalanced ratio\n"
     ]
    },
    {
     "name": "stdout",
     "output_type": "stream",
     "text": [
      "1.3.6.1.4.1.14519.5.2.1.6279.6001.105756658031515062000744821260\n",
      "                 |    Complete Miss |     Filtered Out |     Pred. Benign |  Pred. Malignant\n",
      "     Non-Nodules |                  |              612 |               45 |               45\n",
      "          Benign |                0 |                0 |                0 |                0\n",
      "       Malignant |                0 |                0 |                0 |                0\n"
     ]
    },
    {
     "name": "stderr",
     "output_type": "stream",
     "text": [
      "2022-06-03 15:21:24,642 INFO     pid:472 combining_data.segm_data:293:__init__ <combining_data.segm_data.Luna2dSegmentationDataset object at 0x00000217AC10F640>: 1 general series, 274 slices, 1 nodules\n",
      "2022-06-03 15:21:47,005 INFO     pid:472 combining_data.analysis_data:316:__init__ <combining_data.analysis_data.LunaDataset object at 0x00000217AC0D3490>: 2506 training samples, 2506 neg, 0 pos, unbalanced ratio\n"
     ]
    },
    {
     "name": "stdout",
     "output_type": "stream",
     "text": [
      "1.3.6.1.4.1.14519.5.2.1.6279.6001.130438550890816550994739120843\n",
      "                 |    Complete Miss |     Filtered Out |     Pred. Benign |  Pred. Malignant\n",
      "     Non-Nodules |                  |             1803 |              367 |              335\n",
      "          Benign |                0 |                0 |                0 |                1\n",
      "       Malignant |                0 |                0 |                0 |                0\n"
     ]
    },
    {
     "name": "stderr",
     "output_type": "stream",
     "text": [
      "2022-06-03 15:22:07,318 INFO     pid:472 combining_data.segm_data:293:__init__ <combining_data.segm_data.Luna2dSegmentationDataset object at 0x00000217AC10FCA0>: 1 general series, 125 slices, 2 nodules\n",
      "2022-06-03 15:22:18,022 INFO     pid:472 combining_data.analysis_data:316:__init__ <combining_data.analysis_data.LunaDataset object at 0x00000217AC106220>: 1021 training samples, 1021 neg, 0 pos, unbalanced ratio\n"
     ]
    },
    {
     "name": "stdout",
     "output_type": "stream",
     "text": [
      "1.3.6.1.4.1.14519.5.2.1.6279.6001.187451715205085403623595258748\n",
      "                 |    Complete Miss |     Filtered Out |     Pred. Benign |  Pred. Malignant\n",
      "     Non-Nodules |                  |              843 |              100 |               76\n",
      "          Benign |                1 |                0 |                0 |                0\n",
      "       Malignant |                0 |                0 |                0 |                1\n"
     ]
    },
    {
     "name": "stderr",
     "output_type": "stream",
     "text": [
      "2022-06-03 15:22:29,282 INFO     pid:472 combining_data.segm_data:293:__init__ <combining_data.segm_data.Luna2dSegmentationDataset object at 0x00000217AC101220>: 1 general series, 141 slices, 2 nodules\n",
      "2022-06-03 15:22:45,471 INFO     pid:472 combining_data.analysis_data:316:__init__ <combining_data.analysis_data.LunaDataset object at 0x00000217AC101160>: 1554 training samples, 1554 neg, 0 pos, unbalanced ratio\n"
     ]
    },
    {
     "name": "stdout",
     "output_type": "stream",
     "text": [
      "1.3.6.1.4.1.14519.5.2.1.6279.6001.219909753224298157409438012179\n",
      "                 |    Complete Miss |     Filtered Out |     Pred. Benign |  Pred. Malignant\n",
      "     Non-Nodules |                  |             1395 |               84 |               73\n",
      "          Benign |                0 |                0 |                0 |                0\n",
      "       Malignant |                0 |                1 |                1 |                0\n"
     ]
    },
    {
     "name": "stderr",
     "output_type": "stream",
     "text": [
      "2022-06-03 15:22:58,680 INFO     pid:472 combining_data.segm_data:293:__init__ <combining_data.segm_data.Luna2dSegmentationDataset object at 0x00000217AC10F580>: 1 general series, 177 slices, 2 nodules\n",
      "2022-06-03 15:23:11,983 INFO     pid:472 combining_data.analysis_data:316:__init__ <combining_data.analysis_data.LunaDataset object at 0x00000217AC106220>: 1161 training samples, 1161 neg, 0 pos, unbalanced ratio\n",
      "2022-06-03 15:23:23,241 INFO     pid:472 utill.util:147:enumerateWithEstimate Series    4/9, done at 2022-06-03 15:25:32, 0:04:50\n"
     ]
    },
    {
     "name": "stdout",
     "output_type": "stream",
     "text": [
      "1.3.6.1.4.1.14519.5.2.1.6279.6001.277445975068759205899107114231\n",
      "                 |    Complete Miss |     Filtered Out |     Pred. Benign |  Pred. Malignant\n",
      "     Non-Nodules |                  |             1007 |               59 |               95\n",
      "          Benign |                2 |                0 |                0 |                0\n",
      "       Malignant |                0 |                0 |                0 |                0\n"
     ]
    },
    {
     "name": "stderr",
     "output_type": "stream",
     "text": [
      "2022-06-03 15:23:25,492 INFO     pid:472 combining_data.segm_data:293:__init__ <combining_data.segm_data.Luna2dSegmentationDataset object at 0x00000217AC101160>: 1 general series, 290 slices, 2 nodules\n",
      "2022-06-03 15:23:48,533 INFO     pid:472 combining_data.analysis_data:316:__init__ <combining_data.analysis_data.LunaDataset object at 0x00000217AC1012E0>: 1879 training samples, 1879 neg, 0 pos, unbalanced ratio\n"
     ]
    },
    {
     "name": "stdout",
     "output_type": "stream",
     "text": [
      "1.3.6.1.4.1.14519.5.2.1.6279.6001.305858704835252413616501469037\n",
      "                 |    Complete Miss |     Filtered Out |     Pred. Benign |  Pred. Malignant\n",
      "     Non-Nodules |                  |             1495 |              163 |              220\n",
      "          Benign |                1 |                0 |                0 |                1\n",
      "       Malignant |                0 |                0 |                0 |                0\n"
     ]
    },
    {
     "name": "stderr",
     "output_type": "stream",
     "text": [
      "2022-06-03 15:24:04,934 INFO     pid:472 combining_data.segm_data:293:__init__ <combining_data.segm_data.Luna2dSegmentationDataset object at 0x00000217AC10F880>: 1 general series, 204 slices, 0 nodules\n",
      "2022-06-03 15:24:25,127 INFO     pid:472 combining_data.analysis_data:316:__init__ <combining_data.analysis_data.LunaDataset object at 0x00000217AC10F880>: 1518 training samples, 1518 neg, 0 pos, unbalanced ratio\n"
     ]
    },
    {
     "name": "stdout",
     "output_type": "stream",
     "text": [
      "1.3.6.1.4.1.14519.5.2.1.6279.6001.332453873575389860371315979768\n",
      "                 |    Complete Miss |     Filtered Out |     Pred. Benign |  Pred. Malignant\n",
      "     Non-Nodules |                  |             1286 |              110 |              122\n",
      "          Benign |                0 |                0 |                0 |                0\n",
      "       Malignant |                0 |                0 |                0 |                0\n"
     ]
    },
    {
     "name": "stderr",
     "output_type": "stream",
     "text": [
      "2022-06-03 15:24:40,133 INFO     pid:472 combining_data.segm_data:293:__init__ <combining_data.segm_data.Luna2dSegmentationDataset object at 0x00000217AC0E28B0>: 1 general series, 516 slices, 1 nodules\n",
      "2022-06-03 15:25:15,805 INFO     pid:472 combining_data.analysis_data:316:__init__ <combining_data.analysis_data.LunaDataset object at 0x00000217AC1012E0>: 1869 training samples, 1869 neg, 0 pos, unbalanced ratio\n"
     ]
    },
    {
     "name": "stdout",
     "output_type": "stream",
     "text": [
      "1.3.6.1.4.1.14519.5.2.1.6279.6001.525937963993475482158828421281\n",
      "                 |    Complete Miss |     Filtered Out |     Pred. Benign |  Pred. Malignant\n",
      "     Non-Nodules |                  |             1363 |              249 |              255\n",
      "          Benign |                0 |                0 |                0 |                0\n",
      "       Malignant |                0 |                0 |                0 |                1\n"
     ]
    },
    {
     "name": "stderr",
     "output_type": "stream",
     "text": [
      "2022-06-03 15:25:34,119 INFO     pid:472 combining_data.segm_data:293:__init__ <combining_data.segm_data.Luna2dSegmentationDataset object at 0x00000217AC10F640>: 1 general series, 127 slices, 1 nodules\n",
      "2022-06-03 15:25:58,098 INFO     pid:472 combining_data.analysis_data:316:__init__ <combining_data.analysis_data.LunaDataset object at 0x00000217AC1012E0>: 1264 training samples, 1264 neg, 0 pos, unbalanced ratio\n",
      "2022-06-03 15:26:45,611 INFO     pid:472 utill.util:147:enumerateWithEstimate Series    8/9, done at 2022-06-03 15:26:45, 0:06:04\n",
      "2022-06-03 15:26:45,612 WARNING  pid:472 utill.util:160:enumerateWithEstimate Series ----/9, done at 2022-06-03 15:26:45\n",
      "2022-06-03 15:26:45,621 INFO     pid:472 nb:009:run Finished: noduleAnalysis.nodule_analysis.NoduleAnalysisApp.['--num-workers=4', '--run-validation', '--malignancy-path']).main()\n"
     ]
    },
    {
     "name": "stdout",
     "output_type": "stream",
     "text": [
      "1.3.6.1.4.1.14519.5.2.1.6279.6001.752756872840730509471096155114\n",
      "                 |    Complete Miss |     Filtered Out |     Pred. Benign |  Pred. Malignant\n",
      "     Non-Nodules |                  |             1111 |               52 |               97\n",
      "          Benign |                0 |                0 |                0 |                0\n",
      "       Malignant |                0 |                0 |                1 |                0\n",
      "Total\n",
      "                 |    Complete Miss |     Filtered Out |     Pred. Benign |  Pred. Malignant\n",
      "     Non-Nodules |                  |            10915 |             1229 |             1318\n",
      "          Benign |                4 |                0 |                0 |                2\n",
      "       Malignant |                0 |                1 |                2 |                2\n"
     ]
    }
   ],
   "source": [
    "run('noduleAnalysis.nodule_analysis.NoduleAnalysisApp', '--run-validation', '--malignancy-path')"
   ]
  },
  {
   "cell_type": "code",
   "execution_count": 3,
   "metadata": {},
   "outputs": [
    {
     "name": "stderr",
     "output_type": "stream",
     "text": [
      "2022-06-03 15:29:10,150 INFO     pid:19392 nb:004:run Running: noduleAnalysis.nodule_analysis.NoduleAnalysisApp(['--num-workers=4', '1.3.6.1.4.1.14519.5.2.1.6279.6001.187451715205085403623595258748']).main()\n",
      "2022-06-03 15:29:41,631 DEBUG    pid:19392 noduleAnalysis.nodule_analysis:214:initModels data/models/segmentation/seg_2022-05-25_11.11.48_none.best.state\n",
      "2022-06-03 15:29:41,797 DEBUG    pid:19392 noduleAnalysis.nodule_analysis:230:initModels data/models/NoduleAnalysis/cls_2022-06-03_11.39.42_nodule-nonnodule.best.state\n",
      "2022-06-03 15:29:41,870 INFO     pid:19392 noduleAnalysis.nodule_analysis:290:main Starting NoduleAnalysisApp, Namespace(batch_size=4, num_workers=4, run_validation=False, include_train=False, segmentation_path='data/models/segmentation/seg_2022-05-25_11.11.48_none.best.state', cls_model='LunaModel', classification_path='data/models/NoduleAnalysis/cls_2022-06-03_11.39.42_nodule-nonnodule.best.state', malignancy_model='LunaModel', malignancy_path='data/models/NoduleAnalysis/mal_2022-06-03_14.11.24_finetune-head.best.state', tb_prefix='NoduleAnalysis', series_uid='1.3.6.1.4.1.14519.5.2.1.6279.6001.187451715205085403623595258748')\n",
      "2022-06-03 15:29:44,539 INFO     pid:19392 combining_data.analysis_data:316:__init__ <combining_data.analysis_data.LunaDataset object at 0x0000026584D24850>: 6312 validation samples, 6301 neg, 11 pos, unbalanced ratio\n",
      "2022-06-03 15:29:47,068 WARNING  pid:19392 utill.util:126:enumerateWithEstimate Series ----/1, starting\n",
      "2022-06-03 15:29:50,696 INFO     pid:19392 combining_data.segm_data:293:__init__ <combining_data.segm_data.Luna2dSegmentationDataset object at 0x00000265867AD760>: 1 general series, 125 slices, 2 nodules\n",
      "2022-06-03 15:30:36,344 INFO     pid:19392 combining_data.analysis_data:316:__init__ <combining_data.analysis_data.LunaDataset object at 0x0000026586784BE0>: 1021 training samples, 1021 neg, 0 pos, unbalanced ratio\n",
      "2022-06-03 15:30:54,190 WARNING  pid:19392 utill.util:160:enumerateWithEstimate Series ----/1, done at 2022-06-03 15:30:54\n",
      "2022-06-03 15:30:54,195 INFO     pid:19392 nb:009:run Finished: noduleAnalysis.nodule_analysis.NoduleAnalysisApp.['--num-workers=4', '1.3.6.1.4.1.14519.5.2.1.6279.6001.187451715205085403623595258748']).main()\n"
     ]
    },
    {
     "name": "stdout",
     "output_type": "stream",
     "text": [
      "found nodule candidates in 1.3.6.1.4.1.14519.5.2.1.6279.6001.187451715205085403623595258748:\n",
      "nodule prob 0.644, malignancy prob 0.042, center xyz XyzTuple(x=-156.509369, y=8.087493999999992, z=-64.75)\n",
      "nodule prob 0.689, malignancy prob 0.482, center xyz XyzTuple(x=-150.181244, y=-55.89688100000001, z=-214.75)\n",
      "nodule prob 0.586, malignancy prob 0.522, center xyz XyzTuple(x=-148.071869, y=107.22811899999999, z=-269.75)\n",
      "nodule prob 0.661, malignancy prob 0.456, center xyz XyzTuple(x=-147.368744, y=108.63436899999999, z=-242.25)\n",
      "nodule prob 0.629, malignancy prob 0.415, center xyz XyzTuple(x=-146.665619, y=109.33749399999999, z=-134.75)\n",
      "nodule prob 0.610, malignancy prob 0.280, center xyz XyzTuple(x=-146.665619, y=109.33749399999999, z=-89.75)\n",
      "nodule prob 0.624, malignancy prob 0.353, center xyz XyzTuple(x=-146.665619, y=108.63436899999999, z=-272.25)\n",
      "nodule prob 0.613, malignancy prob 0.470, center xyz XyzTuple(x=-146.665619, y=109.33749399999999, z=-212.25)\n",
      "nodule prob 0.662, malignancy prob 0.428, center xyz XyzTuple(x=-145.962494, y=109.33749399999999, z=-242.25)\n",
      "nodule prob 0.751, malignancy prob 0.460, center xyz XyzTuple(x=-145.962494, y=110.04061899999999, z=-104.75)\n",
      "nodule prob 0.548, malignancy prob 0.409, center xyz XyzTuple(x=-145.259369, y=109.33749399999999, z=-272.25)\n",
      "nodule prob 0.654, malignancy prob 0.632, center xyz XyzTuple(x=-118.54061899999999, y=22.853118999999992, z=-287.25)\n",
      "nodule prob 0.575, malignancy prob 0.133, center xyz XyzTuple(x=-117.13436899999999, y=62.22811899999999, z=-342.25)\n",
      "nodule prob 0.578, malignancy prob 0.405, center xyz XyzTuple(x=-116.43124399999999, y=-5.271881000000008, z=-277.25)\n",
      "nodule prob 0.532, malignancy prob 0.399, center xyz XyzTuple(x=-115.72811899999999, y=8.790618999999992, z=-267.25)\n",
      "nodule prob 0.793, malignancy prob 0.266, center xyz XyzTuple(x=-115.02499399999999, y=40.43124399999999, z=-244.75)\n",
      "nodule prob 0.596, malignancy prob 0.977, center xyz XyzTuple(x=-114.32186899999999, y=-3.8656310000000076, z=-322.25)\n",
      "nodule prob 0.526, malignancy prob 0.605, center xyz XyzTuple(x=-114.32186899999999, y=1.0562439999999924, z=-272.25)\n",
      "nodule prob 0.622, malignancy prob 0.405, center xyz XyzTuple(x=-114.32186899999999, y=117.07186899999999, z=-89.75)\n",
      "nodule prob 0.519, malignancy prob 0.496, center xyz XyzTuple(x=-113.61874399999999, y=-3.1625060000000076, z=-274.75)\n",
      "nodule prob 0.650, malignancy prob 0.432, center xyz XyzTuple(x=-111.50936899999999, y=-13.709381000000008, z=-257.25)\n",
      "nodule prob 0.643, malignancy prob 0.327, center xyz XyzTuple(x=-110.10311899999999, y=-16.521881000000008, z=-259.75)\n",
      "nodule prob 0.566, malignancy prob 0.032, center xyz XyzTuple(x=-109.39999399999999, y=69.25936899999999, z=-342.25)\n",
      "nodule prob 0.797, malignancy prob 0.815, center xyz XyzTuple(x=-100.96249399999999, y=-40.42813100000001, z=-322.25)\n",
      "nodule prob 0.662, malignancy prob 0.823, center xyz XyzTuple(x=-99.55624399999999, y=-41.13125600000001, z=-322.25)\n",
      "nodule prob 0.704, malignancy prob 0.805, center xyz XyzTuple(x=-98.85311899999999, y=-42.53750600000001, z=-322.25)\n",
      "nodule prob 0.701, malignancy prob 0.824, center xyz XyzTuple(x=-97.44686899999999, y=-43.24063100000001, z=-322.25)\n",
      "nodule prob 0.537, malignancy prob 0.354, center xyz XyzTuple(x=-94.63436899999999, y=127.61874399999999, z=-107.25)\n",
      "nodule prob 0.560, malignancy prob 0.147, center xyz XyzTuple(x=-89.00936899999999, y=84.72811899999999, z=-159.75)\n",
      "nodule prob 0.690, malignancy prob 0.296, center xyz XyzTuple(x=-86.19686899999999, y=86.83749399999999, z=-157.25)\n",
      "nodule prob 0.766, malignancy prob 0.776, center xyz XyzTuple(x=-84.79061899999999, y=1.0562439999999924, z=-274.75)\n",
      "nodule prob 0.558, malignancy prob 0.626, center xyz XyzTuple(x=-84.08749399999999, y=29.884368999999992, z=-247.25)\n",
      "nodule prob 0.763, malignancy prob 0.469, center xyz XyzTuple(x=-82.68124399999999, y=3.8687439999999924, z=-272.25)\n",
      "nodule prob 0.703, malignancy prob 0.415, center xyz XyzTuple(x=-82.68124399999999, y=87.54061899999999, z=-154.75)\n",
      "nodule prob 0.768, malignancy prob 0.581, center xyz XyzTuple(x=-80.57186899999999, y=88.94686899999999, z=-152.25)\n",
      "nodule prob 0.587, malignancy prob 0.140, center xyz XyzTuple(x=-77.75936899999999, y=11.603118999999992, z=-169.75)\n",
      "nodule prob 0.519, malignancy prob 0.604, center xyz XyzTuple(x=-77.05624399999999, y=88.94686899999999, z=-149.75)\n",
      "nodule prob 0.801, malignancy prob 0.425, center xyz XyzTuple(x=-74.24374399999999, y=89.64999399999999, z=-147.25)\n",
      "nodule prob 0.602, malignancy prob 0.196, center xyz XyzTuple(x=-73.54061899999999, y=13.009368999999992, z=-172.25)\n",
      "nodule prob 0.746, malignancy prob 0.470, center xyz XyzTuple(x=-71.43124399999999, y=0.3531189999999924, z=-219.75)\n",
      "nodule prob 0.506, malignancy prob 0.312, center xyz XyzTuple(x=-70.02499399999999, y=-73.47500600000001, z=-317.25)\n",
      "nodule prob 0.608, malignancy prob 0.722, center xyz XyzTuple(x=-67.21249399999999, y=-13.709381000000008, z=-229.75)\n",
      "nodule prob 0.780, malignancy prob 0.246, center xyz XyzTuple(x=-66.50936899999999, y=89.64999399999999, z=-144.75)\n",
      "nodule prob 0.762, malignancy prob 0.746, center xyz XyzTuple(x=-65.80624399999999, y=-12.303131000000008, z=-227.25)\n",
      "nodule prob 0.727, malignancy prob 0.666, center xyz XyzTuple(x=-62.29061899999999, y=-1.0531310000000076, z=-179.75)\n",
      "nodule prob 0.518, malignancy prob 0.366, center xyz XyzTuple(x=-60.88436899999999, y=132.540619, z=-89.75)\n",
      "nodule prob 0.682, malignancy prob 0.904, center xyz XyzTuple(x=-59.47811899999999, y=3.8687439999999924, z=-214.75)\n",
      "nodule prob 0.782, malignancy prob 0.147, center xyz XyzTuple(x=-59.47811899999999, y=13.009368999999992, z=-252.25)\n",
      "nodule prob 0.544, malignancy prob 0.411, center xyz XyzTuple(x=-58.07186899999999, y=20.743743999999992, z=-177.25)\n",
      "nodule prob 0.658, malignancy prob 0.388, center xyz XyzTuple(x=-56.66561899999999, y=137.462494, z=-122.25)\n",
      "nodule prob 0.789, malignancy prob 0.365, center xyz XyzTuple(x=-50.33749399999999, y=138.165619, z=-124.75)\n",
      "nodule prob 0.821, malignancy prob 0.437, center xyz XyzTuple(x=-49.63436899999999, y=86.83749399999999, z=-344.75)\n",
      "nodule prob 0.631, malignancy prob 0.776, center xyz XyzTuple(x=-49.63436899999999, y=-29.881256000000008, z=-199.75)\n",
      "nodule prob 0.754, malignancy prob 0.995, center xyz XyzTuple(x=-48.93124399999999, y=3.8687439999999924, z=-179.75)\n",
      "nodule prob 0.663, malignancy prob 0.530, center xyz XyzTuple(x=-48.22811899999999, y=-7.381256000000008, z=-147.25)\n",
      "nodule prob 0.608, malignancy prob 0.233, center xyz XyzTuple(x=-46.82186899999999, y=-0.3500060000000076, z=-154.75)\n",
      "nodule prob 0.625, malignancy prob 0.652, center xyz XyzTuple(x=-46.11874399999999, y=38.32186899999999, z=-249.75)\n",
      "nodule prob 0.891, malignancy prob 0.996, center xyz XyzTuple(x=-44.71249399999999, y=24.962493999999992, z=-184.75)\n",
      "nodule prob 0.785, malignancy prob 0.474, center xyz XyzTuple(x=-44.71249399999999, y=138.868744, z=-127.25)\n",
      "nodule prob 0.798, malignancy prob 0.985, center xyz XyzTuple(x=-41.19686899999999, y=4.571868999999992, z=-192.25)\n",
      "nodule prob 0.619, malignancy prob 0.502, center xyz XyzTuple(x=-39.08749399999999, y=139.571869, z=-129.75)\n",
      "nodule prob 0.632, malignancy prob 0.992, center xyz XyzTuple(x=-37.68124399999999, y=15.821868999999992, z=-147.25)\n",
      "nodule prob 0.596, malignancy prob 0.495, center xyz XyzTuple(x=-36.97811899999999, y=139.571869, z=-129.75)\n",
      "nodule prob 0.589, malignancy prob 0.599, center xyz XyzTuple(x=-30.649993999999992, y=25.665618999999992, z=-217.25)\n",
      "nodule prob 0.704, malignancy prob 0.968, center xyz XyzTuple(x=-22.212493999999992, y=67.85311899999999, z=-299.75)\n",
      "nodule prob 0.504, malignancy prob 0.229, center xyz XyzTuple(x=-20.103118999999992, y=-55.19375600000001, z=-92.25)\n",
      "nodule prob 0.821, malignancy prob 0.697, center xyz XyzTuple(x=-17.993743999999992, y=58.00936899999999, z=-249.75)\n",
      "nodule prob 0.606, malignancy prob 0.187, center xyz XyzTuple(x=-17.290618999999992, y=54.49374399999999, z=-182.25)\n",
      "nodule prob 0.532, malignancy prob 0.262, center xyz XyzTuple(x=-14.478118999999992, y=126.91561899999999, z=-82.25)\n",
      "nodule prob 0.742, malignancy prob 0.573, center xyz XyzTuple(x=-14.478118999999992, y=-59.41250600000001, z=-244.75)\n",
      "nodule prob 0.882, malignancy prob 0.923, center xyz XyzTuple(x=-13.071868999999992, y=59.41561899999999, z=-252.25)\n",
      "nodule prob 0.794, malignancy prob 0.890, center xyz XyzTuple(x=-12.368743999999992, y=58.00936899999999, z=-247.25)\n",
      "nodule prob 0.570, malignancy prob 0.253, center xyz XyzTuple(x=-12.368743999999992, y=126.91561899999999, z=-82.25)\n",
      "nodule prob 0.593, malignancy prob 0.749, center xyz XyzTuple(x=-12.368743999999992, y=134.649994, z=-199.75)\n",
      "nodule prob 0.554, malignancy prob 0.387, center xyz XyzTuple(x=-8.853118999999992, y=46.75936899999999, z=-219.75)\n",
      "nodule prob 0.656, malignancy prob 0.152, center xyz XyzTuple(x=3.8031310000000076, y=-47.45938100000001, z=-172.25)\n",
      "nodule prob 0.661, malignancy prob 0.214, center xyz XyzTuple(x=8.725006000000008, y=-48.86563100000001, z=-182.25)\n",
      "nodule prob 0.976, malignancy prob 0.208, center xyz XyzTuple(x=11.537506000000008, y=31.290618999999992, z=-97.25)\n",
      "nodule prob 0.530, malignancy prob 0.623, center xyz XyzTuple(x=14.350006000000008, y=110.74374399999999, z=-94.75)\n",
      "nodule prob 0.619, malignancy prob 0.179, center xyz XyzTuple(x=21.381256000000008, y=-42.53750600000001, z=-82.25)\n",
      "nodule prob 0.548, malignancy prob 0.340, center xyz XyzTuple(x=21.381256000000008, y=-43.94375600000001, z=-57.25)\n",
      "nodule prob 0.649, malignancy prob 0.394, center xyz XyzTuple(x=29.115631000000008, y=135.353119, z=-104.75)\n",
      "nodule prob 0.567, malignancy prob 0.499, center xyz XyzTuple(x=30.521881000000008, y=-46.05313100000001, z=-184.75)\n",
      "nodule prob 0.727, malignancy prob 0.044, center xyz XyzTuple(x=31.928131000000008, y=-3.8656310000000076, z=-204.75)\n",
      "nodule prob 0.525, malignancy prob 0.054, center xyz XyzTuple(x=31.928131000000008, y=-2.4593810000000076, z=-204.75)\n",
      "nodule prob 0.932, malignancy prob 0.502, center xyz XyzTuple(x=31.928131000000008, y=35.50936899999999, z=-202.25)\n",
      "nodule prob 0.537, malignancy prob 0.030, center xyz XyzTuple(x=32.63125600000001, y=-1.0531310000000076, z=-204.75)\n",
      "nodule prob 0.506, malignancy prob 0.303, center xyz XyzTuple(x=32.63125600000001, y=69.25936899999999, z=-304.75)\n",
      "nodule prob 0.698, malignancy prob 0.387, center xyz XyzTuple(x=32.63125600000001, y=135.353119, z=-107.25)\n",
      "nodule prob 0.504, malignancy prob 0.821, center xyz XyzTuple(x=32.63125600000001, y=133.946869, z=-212.25)\n",
      "nodule prob 0.630, malignancy prob 0.263, center xyz XyzTuple(x=34.03750600000001, y=42.54061899999999, z=-164.75)\n",
      "nodule prob 0.537, malignancy prob 0.424, center xyz XyzTuple(x=34.03750600000001, y=134.649994, z=-107.25)\n",
      "nodule prob 0.693, malignancy prob 0.467, center xyz XyzTuple(x=34.74063100000001, y=135.353119, z=-107.25)\n",
      "nodule prob 0.635, malignancy prob 0.347, center xyz XyzTuple(x=35.44375600000001, y=135.353119, z=-109.75)\n",
      "nodule prob 0.675, malignancy prob 0.606, center xyz XyzTuple(x=37.55313100000001, y=3.8687439999999924, z=-147.25)\n",
      "nodule prob 0.853, malignancy prob 0.154, center xyz XyzTuple(x=37.55313100000001, y=-36.20938100000001, z=-207.25)\n",
      "nodule prob 0.821, malignancy prob 0.323, center xyz XyzTuple(x=37.55313100000001, y=-34.80313100000001, z=-207.25)\n",
      "nodule prob 0.528, malignancy prob 0.572, center xyz XyzTuple(x=45.28750600000001, y=16.524993999999992, z=-272.25)\n",
      "nodule prob 0.555, malignancy prob 0.599, center xyz XyzTuple(x=48.80313100000001, y=28.478118999999992, z=-272.25)\n",
      "nodule prob 0.613, malignancy prob 0.438, center xyz XyzTuple(x=49.50625600000001, y=61.52499399999999, z=-179.75)\n",
      "nodule prob 0.780, malignancy prob 0.453, center xyz XyzTuple(x=51.61563100000001, y=24.259368999999992, z=-272.25)\n",
      "nodule prob 0.718, malignancy prob 0.661, center xyz XyzTuple(x=60.75625600000001, y=-24.256256000000008, z=-199.75)\n",
      "nodule prob 0.555, malignancy prob 0.803, center xyz XyzTuple(x=63.56875600000001, y=10.899993999999992, z=-162.25)\n",
      "nodule prob 0.618, malignancy prob 0.339, center xyz XyzTuple(x=65.67813100000001, y=73.47811899999999, z=-217.25)\n",
      "nodule prob 0.623, malignancy prob 0.504, center xyz XyzTuple(x=67.78750600000001, y=-60.81875600000001, z=-272.25)\n",
      "nodule prob 0.559, malignancy prob 0.589, center xyz XyzTuple(x=70.60000600000001, y=83.32186899999999, z=-324.75)\n",
      "nodule prob 0.618, malignancy prob 0.771, center xyz XyzTuple(x=72.00625600000001, y=-62.22500600000001, z=-272.25)\n",
      "nodule prob 0.772, malignancy prob 0.381, center xyz XyzTuple(x=76.22500600000001, y=136.759369, z=-184.75)\n",
      "nodule prob 0.527, malignancy prob 0.100, center xyz XyzTuple(x=77.63125600000001, y=26.368743999999992, z=-164.75)\n",
      "nodule prob 0.859, malignancy prob 0.414, center xyz XyzTuple(x=77.63125600000001, y=136.056244, z=-187.25)\n",
      "nodule prob 0.544, malignancy prob 0.569, center xyz XyzTuple(x=78.33438100000001, y=116.36874399999999, z=-94.75)\n",
      "nodule prob 0.617, malignancy prob 0.481, center xyz XyzTuple(x=79.74063100000001, y=93.86874399999999, z=-337.25)\n",
      "nodule prob 0.551, malignancy prob 0.846, center xyz XyzTuple(x=81.14688100000001, y=24.259368999999992, z=-232.25)\n",
      "nodule prob 0.519, malignancy prob 0.793, center xyz XyzTuple(x=83.25625600000001, y=-1.0531310000000076, z=-287.25)\n",
      "nodule prob 0.776, malignancy prob 0.589, center xyz XyzTuple(x=85.36563100000001, y=133.243744, z=-187.25)\n",
      "nodule prob 0.726, malignancy prob 0.792, center xyz XyzTuple(x=86.06875600000001, y=-3.1625060000000076, z=-289.75)\n",
      "nodule prob 0.513, malignancy prob 0.484, center xyz XyzTuple(x=87.47500600000001, y=133.243744, z=-189.75)\n",
      "nodule prob 0.556, malignancy prob 0.606, center xyz XyzTuple(x=88.17813100000001, y=-5.975006000000008, z=-292.25)\n",
      "nodule prob 0.552, malignancy prob 0.574, center xyz XyzTuple(x=89.58438100000001, y=132.540619, z=-189.75)\n",
      "nodule prob 0.502, malignancy prob 0.706, center xyz XyzTuple(x=90.99063100000001, y=117.77499399999999, z=-147.25)\n",
      "nodule prob 0.606, malignancy prob 0.451, center xyz XyzTuple(x=90.99063100000001, y=131.837494, z=-189.75)\n",
      "nodule prob 0.551, malignancy prob 0.349, center xyz XyzTuple(x=92.39688100000001, y=131.134369, z=-189.75)\n",
      "nodule prob 0.954, malignancy prob 0.767, center xyz XyzTuple(x=94.50625600000001, y=-16.521881000000008, z=-204.75)\n",
      "nodule prob 0.618, malignancy prob 0.427, center xyz XyzTuple(x=96.61563100000001, y=129.024994, z=-192.25)\n",
      "nodule prob 0.559, malignancy prob 0.999, center xyz XyzTuple(x=105.05313100000001, y=73.47811899999999, z=-339.75)\n",
      "nodule prob 0.540, malignancy prob 0.582, center xyz XyzTuple(x=108.56875600000001, y=112.14999399999999, z=-179.75)\n",
      "nodule prob 0.538, malignancy prob 0.634, center xyz XyzTuple(x=112.08438100000001, y=110.74374399999999, z=-167.25)\n",
      "nodule prob 0.681, malignancy prob 0.365, center xyz XyzTuple(x=119.11563100000001, y=111.44686899999999, z=-294.75)\n",
      "nodule prob 0.628, malignancy prob 0.475, center xyz XyzTuple(x=119.11563100000001, y=119.88436899999999, z=-294.75)\n",
      "nodule prob 0.544, malignancy prob 0.511, center xyz XyzTuple(x=120.52188100000001, y=119.18124399999999, z=-294.75)\n",
      "nodule prob 0.621, malignancy prob 0.286, center xyz XyzTuple(x=121.22500600000001, y=112.85311899999999, z=-292.25)\n",
      "nodule prob 0.704, malignancy prob 0.374, center xyz XyzTuple(x=121.92813100000001, y=93.86874399999999, z=-74.75)\n",
      "nodule prob 0.723, malignancy prob 0.279, center xyz XyzTuple(x=122.63125600000001, y=110.04061899999999, z=-159.75)\n",
      "nodule prob 0.729, malignancy prob 0.449, center xyz XyzTuple(x=122.63125600000001, y=108.63436899999999, z=-157.25)\n",
      "nodule prob 0.571, malignancy prob 0.522, center xyz XyzTuple(x=122.63125600000001, y=118.47811899999999, z=-112.25)\n",
      "nodule prob 0.508, malignancy prob 0.319, center xyz XyzTuple(x=123.33438100000001, y=92.46249399999999, z=-74.75)\n",
      "nodule prob 0.706, malignancy prob 0.374, center xyz XyzTuple(x=124.03750600000001, y=117.77499399999999, z=-204.75)\n",
      "nodule prob 0.621, malignancy prob 0.478, center xyz XyzTuple(x=124.74063100000001, y=117.77499399999999, z=-117.25)\n",
      "nodule prob 0.569, malignancy prob 0.387, center xyz XyzTuple(x=126.14688100000001, y=117.07186899999999, z=-354.75)\n",
      "nodule prob 0.514, malignancy prob 0.254, center xyz XyzTuple(x=126.14688100000001, y=117.07186899999999, z=-109.75)\n",
      "nodule prob 0.553, malignancy prob 0.592, center xyz XyzTuple(x=126.14688100000001, y=117.07186899999999, z=-117.25)\n",
      "nodule prob 0.658, malignancy prob 0.995, center xyz XyzTuple(x=127.55313100000001, y=50.27499399999999, z=-339.75)\n",
      "nodule prob 0.611, malignancy prob 0.592, center xyz XyzTuple(x=128.256256, y=103.71249399999999, z=-187.25)\n",
      "nodule prob 0.583, malignancy prob 0.240, center xyz XyzTuple(x=128.256256, y=112.14999399999999, z=-354.75)\n",
      "nodule prob 0.691, malignancy prob 0.995, center xyz XyzTuple(x=128.959381, y=48.16561899999999, z=-339.75)\n",
      "nodule prob 0.578, malignancy prob 0.608, center xyz XyzTuple(x=128.959381, y=103.71249399999999, z=-232.25)\n",
      "nodule prob 0.777, malignancy prob 0.602, center xyz XyzTuple(x=129.662506, y=103.00936899999999, z=-79.75)\n",
      "nodule prob 0.576, malignancy prob 0.996, center xyz XyzTuple(x=130.365631, y=48.16561899999999, z=-339.75)\n",
      "nodule prob 0.549, malignancy prob 0.579, center xyz XyzTuple(x=131.771881, y=103.00936899999999, z=-174.75)\n",
      "nodule prob 0.507, malignancy prob 0.325, center xyz XyzTuple(x=133.178131, y=111.44686899999999, z=-112.25)\n",
      "nodule prob 0.676, malignancy prob 0.346, center xyz XyzTuple(x=133.178131, y=107.22811899999999, z=-352.25)\n",
      "nodule prob 0.599, malignancy prob 0.110, center xyz XyzTuple(x=134.584381, y=-62.22500600000001, z=-304.75)\n",
      "nodule prob 0.538, malignancy prob 0.118, center xyz XyzTuple(x=135.287506, y=-61.52188100000001, z=-304.75)\n",
      "nodule prob 0.558, malignancy prob 0.640, center xyz XyzTuple(x=135.990631, y=100.89999399999999, z=-232.25)\n",
      "nodule prob 0.590, malignancy prob 0.785, center xyz XyzTuple(x=136.693756, y=100.89999399999999, z=-249.75)\n",
      "nodule prob 0.575, malignancy prob 0.835, center xyz XyzTuple(x=136.693756, y=100.89999399999999, z=-262.25)\n",
      "nodule prob 0.533, malignancy prob 0.125, center xyz XyzTuple(x=136.693756, y=-60.11563100000001, z=-302.25)\n",
      "nodule prob 0.528, malignancy prob 0.119, center xyz XyzTuple(x=137.396881, y=-59.41250600000001, z=-302.25)\n",
      "nodule prob 0.599, malignancy prob 0.478, center xyz XyzTuple(x=139.506256, y=111.44686899999999, z=-317.25)\n",
      "nodule prob 0.615, malignancy prob 0.808, center xyz XyzTuple(x=140.209381, y=100.19686899999999, z=-264.75)\n",
      "nodule prob 0.975, malignancy prob 0.050, center xyz XyzTuple(x=142.318756, y=-69.25625600000001, z=-212.25)\n",
      "nodule prob 0.637, malignancy prob 0.359, center xyz XyzTuple(x=142.318756, y=101.60311899999999, z=-189.75)\n",
      "nodule prob 0.699, malignancy prob 0.309, center xyz XyzTuple(x=145.131256, y=101.60311899999999, z=-322.25)\n",
      "nodule prob 0.532, malignancy prob 0.666, center xyz XyzTuple(x=145.834381, y=96.68124399999999, z=-344.75)\n",
      "nodule prob 0.617, malignancy prob 0.730, center xyz XyzTuple(x=148.646881, y=96.68124399999999, z=-264.75)\n",
      "nodule prob 0.595, malignancy prob 0.731, center xyz XyzTuple(x=148.646881, y=95.97811899999999, z=-247.25)\n",
      "nodule prob 0.546, malignancy prob 0.756, center xyz XyzTuple(x=148.646881, y=95.27499399999999, z=-262.25)\n",
      "nodule prob 0.545, malignancy prob 0.752, center xyz XyzTuple(x=149.350006, y=95.27499399999999, z=-257.25)\n",
      "nodule prob 0.519, malignancy prob 0.764, center xyz XyzTuple(x=150.053131, y=95.27499399999999, z=-204.75)\n",
      "nodule prob 0.545, malignancy prob 0.209, center xyz XyzTuple(x=168.334381, y=-50.97500600000001, z=-227.25)\n",
      "nodule prob 0.510, malignancy prob 0.625, center xyz XyzTuple(x=169.740631, y=38.32186899999999, z=-262.25)\n",
      "nodule prob 0.530, malignancy prob 0.009, center xyz XyzTuple(x=173.256256, y=-36.91250600000001, z=-182.25)\n",
      "nodule prob 0.698, malignancy prob 0.061, center xyz XyzTuple(x=176.068756, y=-27.771881000000008, z=-174.75)\n",
      "nodule prob 0.696, malignancy prob 0.245, center xyz XyzTuple(x=176.068756, y=-24.256256000000008, z=-59.75)\n",
      "nodule prob 0.642, malignancy prob 0.258, center xyz XyzTuple(x=176.771881, y=-23.553131000000008, z=-52.25)\n",
      "nodule prob 0.510, malignancy prob 0.592, center xyz XyzTuple(x=176.771881, y=41.13436899999999, z=-262.25)\n",
      "nodule prob 0.500, malignancy prob 0.647, center xyz XyzTuple(x=180.287506, y=35.50936899999999, z=-262.25)\n",
      "1.3.6.1.4.1.14519.5.2.1.6279.6001.187451715205085403623595258748\n",
      "                 |    Complete Miss |     Filtered Out |     Pred. Benign |  Pred. Malignant\n",
      "     Non-Nodules |                  |              843 |              100 |               76\n",
      "          Benign |                1 |                0 |                0 |                0\n",
      "       Malignant |                0 |                0 |                0 |                1\n",
      "Total\n",
      "                 |    Complete Miss |     Filtered Out |     Pred. Benign |  Pred. Malignant\n",
      "     Non-Nodules |                  |              843 |              100 |               76\n",
      "          Benign |                1 |                0 |                0 |                0\n",
      "       Malignant |                0 |                0 |                0 |                1\n"
     ]
    }
   ],
   "source": [
    "run('noduleAnalysis.nodule_analysis.NoduleAnalysisApp','1.3.6.1.4.1.14519.5.2.1.6279.6001.187451715205085403623595258748')"
   ]
  },
  {
   "cell_type": "markdown",
   "metadata": {},
   "source": [
    "FINETUNING - DEPTH 2"
   ]
  },
  {
   "cell_type": "code",
   "execution_count": 3,
   "metadata": {},
   "outputs": [
    {
     "name": "stderr",
     "output_type": "stream",
     "text": [
      "2022-06-03 15:36:01,843 INFO     pid:18816 nb:004:run Running: noduleAnalysis.training.ClassificationTrainingApp(['--num-workers=4', '--epochs=2', '--malignant', '--dataset=MalignantLunaDataset', '--finetune=data/models/NoduleAnalysis/cls_2022-06-03_11.39.42_nodule-nonnodule.best.state', 'finetune-depth=2']).main()\n",
      "2022-06-03 15:36:02,333 INFO     pid:18816 noduleAnalysis.training:132:initModel finetuning from data/models/NoduleAnalysis/cls_2022-06-03_11.39.42_nodule-nonnodule.best.state, blocks head_linear\n",
      "2022-06-03 15:36:02,368 INFO     pid:18816 noduleAnalysis.training:144:initModel Using CUDA; 1 devices.\n",
      "2022-06-03 15:36:02,453 INFO     pid:18816 noduleAnalysis.training:210:main Starting ClassificationTrainingApp, Namespace(batch_size=24, num_workers=4, epochs=2, dataset='MalignantLunaDataset', model='LunaModel', malignant=True, finetune='data/models/NoduleAnalysis/cls_2022-06-03_11.39.42_nodule-nonnodule.best.state', finetune_depth=1, tb_prefix='NoduleAnalysis', comment='finetune-depth=2')\n",
      "2022-06-03 15:36:04,239 INFO     pid:18816 combining_data.analysis_data:316:__init__ <combining_data.analysis_data.MalignantLunaDataset object at 0x0000016EE01B6F40>: 50616 training samples, 50515 neg, 101 pos, 1:1 ratio\n",
      "2022-06-03 15:36:04,254 INFO     pid:18816 combining_data.analysis_data:316:__init__ <combining_data.analysis_data.MalignantLunaDataset object at 0x0000016ED82DD520>: 6312 validation samples, 6301 neg, 11 pos, unbalanced ratio\n",
      "2022-06-03 15:36:04,254 INFO     pid:18816 noduleAnalysis.training:219:main Epoch 1 of 2, 959/1 batches of size 24*1\n",
      "2022-06-03 15:36:05,351 WARNING  pid:18816 utill.util:126:enumerateWithEstimate E1 Training ----/959, starting\n",
      "2022-06-03 15:36:32,231 INFO     pid:18816 utill.util:147:enumerateWithEstimate E1 Training   16/959, done at 2022-06-03 15:39:45, 0:03:16\n",
      "2022-06-03 15:36:43,663 INFO     pid:18816 utill.util:147:enumerateWithEstimate E1 Training   64/959, done at 2022-06-03 15:40:10, 0:03:40\n",
      "2022-06-03 15:37:28,340 INFO     pid:18816 utill.util:147:enumerateWithEstimate E1 Training  256/959, done at 2022-06-03 15:40:11, 0:03:41\n",
      "2022-06-03 15:40:12,815 WARNING  pid:18816 utill.util:160:enumerateWithEstimate E1 Training ----/959, done at 2022-06-03 15:40:12\n",
      "2022-06-03 15:40:12,877 INFO     pid:18816 noduleAnalysis.training:348:logMetrics E1 ClassificationTrainingApp\n",
      "2022-06-03 15:40:13,251 INFO     pid:18816 noduleAnalysis.training:421:logMetrics E1 trn      0.9486 loss,  49.5% correct, 0.4958 precision, 0.6120 recall, 0.5478 f1 score, 0.4884 auc\n",
      "2022-06-03 15:40:13,252 INFO     pid:18816 noduleAnalysis.training:434:logMetrics E1 trn_ben  1.2290 loss,  37.8% correct (4343 of 11500)\n",
      "2022-06-03 15:40:13,252 INFO     pid:18816 noduleAnalysis.training:445:logMetrics E1 trn_mal  0.6681 loss,  61.2% correct (7038 of 11500)\n",
      "2022-06-03 15:40:14,286 WARNING  pid:18816 utill.util:126:enumerateWithEstimate E1 Validation  ----/1, starting\n",
      "2022-06-03 15:40:19,996 WARNING  pid:18816 utill.util:160:enumerateWithEstimate E1 Validation  ----/1, done at 2022-06-03 15:40:19\n",
      "2022-06-03 15:40:19,998 INFO     pid:18816 noduleAnalysis.training:348:logMetrics E1 ClassificationTrainingApp\n",
      "2022-06-03 15:40:19,999 INFO     pid:18816 noduleAnalysis.training:421:logMetrics E1 val      0.6472 loss,  72.7% correct, 0.6667 precision, 0.8000 recall, 0.7273 f1 score, 0.6333 auc\n",
      "2022-06-03 15:40:19,999 INFO     pid:18816 noduleAnalysis.training:434:logMetrics E1 val_ben  0.6134 loss,  66.7% correct (4 of 6)\n",
      "2022-06-03 15:40:20,000 INFO     pid:18816 noduleAnalysis.training:445:logMetrics E1 val_mal  0.6878 loss,  80.0% correct (4 of 5)\n",
      "2022-06-03 15:40:20,511 DEBUG    pid:18816 noduleAnalysis.training:551:saveModel Saved model params to data\\models\\NoduleAnalysis\\mal_2022-06-03_15.36.02_finetune-depth=2.23000.state\n",
      "2022-06-03 15:40:20,542 DEBUG    pid:18816 noduleAnalysis.training:566:saveModel Saved model params to data\\models\\NoduleAnalysis\\mal_2022-06-03_15.36.02_finetune-depth=2.best.state\n",
      "2022-06-03 15:40:20,744 INFO     pid:18816 noduleAnalysis.training:569:saveModel SHA1: fee7cd8058540a12b9a23813552b520b3509bb8e\n",
      "2022-06-03 15:40:20,744 INFO     pid:18816 noduleAnalysis.training:219:main Epoch 2 of 2, 959/1 batches of size 24*1\n",
      "2022-06-03 15:40:20,797 WARNING  pid:18816 utill.util:126:enumerateWithEstimate E2 Training ----/959, starting\n",
      "2022-06-03 15:40:29,846 INFO     pid:18816 utill.util:147:enumerateWithEstimate E2 Training   16/959, done at 2022-06-03 15:43:51, 0:03:24\n",
      "2022-06-03 15:40:40,392 INFO     pid:18816 utill.util:147:enumerateWithEstimate E2 Training   64/959, done at 2022-06-03 15:43:55, 0:03:28\n",
      "2022-06-03 15:41:20,812 INFO     pid:18816 utill.util:147:enumerateWithEstimate E2 Training  256/959, done at 2022-06-03 15:43:49, 0:03:22\n",
      "2022-06-03 15:43:48,250 WARNING  pid:18816 utill.util:160:enumerateWithEstimate E2 Training ----/959, done at 2022-06-03 15:43:48\n",
      "2022-06-03 15:43:48,591 INFO     pid:18816 noduleAnalysis.training:348:logMetrics E2 ClassificationTrainingApp\n",
      "2022-06-03 15:43:48,593 INFO     pid:18816 noduleAnalysis.training:421:logMetrics E2 trn      0.8476 loss,  49.7% correct, 0.4965 precision, 0.4697 recall, 0.4827 f1 score, 0.4984 auc\n",
      "2022-06-03 15:43:48,593 INFO     pid:18816 noduleAnalysis.training:434:logMetrics E2 trn_ben  0.8541 loss,  52.4% correct (6023 of 11500)\n",
      "2022-06-03 15:43:48,594 INFO     pid:18816 noduleAnalysis.training:445:logMetrics E2 trn_mal  0.8411 loss,  47.0% correct (5401 of 11500)\n",
      "2022-06-03 15:43:48,653 WARNING  pid:18816 utill.util:126:enumerateWithEstimate E2 Validation  ----/1, starting\n",
      "2022-06-03 15:43:52,977 WARNING  pid:18816 utill.util:160:enumerateWithEstimate E2 Validation  ----/1, done at 2022-06-03 15:43:52\n",
      "2022-06-03 15:43:52,979 INFO     pid:18816 noduleAnalysis.training:348:logMetrics E2 ClassificationTrainingApp\n",
      "2022-06-03 15:43:52,980 INFO     pid:18816 noduleAnalysis.training:421:logMetrics E2 val      0.6070 loss,  72.7% correct, 0.6667 precision, 0.8000 recall, 0.7273 f1 score, 0.7333 auc\n",
      "2022-06-03 15:43:52,981 INFO     pid:18816 noduleAnalysis.training:434:logMetrics E2 val_ben  0.6006 loss,  66.7% correct (4 of 6)\n",
      "2022-06-03 15:43:52,981 INFO     pid:18816 noduleAnalysis.training:445:logMetrics E2 val_mal  0.6147 loss,  80.0% correct (4 of 5)\n",
      "2022-06-03 15:43:53,111 DEBUG    pid:18816 noduleAnalysis.training:551:saveModel Saved model params to data\\models\\NoduleAnalysis\\mal_2022-06-03_15.36.02_finetune-depth=2.46000.state\n",
      "2022-06-03 15:43:53,114 DEBUG    pid:18816 noduleAnalysis.training:566:saveModel Saved model params to data\\models\\NoduleAnalysis\\mal_2022-06-03_15.36.02_finetune-depth=2.best.state\n",
      "2022-06-03 15:43:53,115 INFO     pid:18816 noduleAnalysis.training:569:saveModel SHA1: b223814478186b8fa8c85727e5776ef7c4b97dab\n",
      "2022-06-03 15:43:53,125 INFO     pid:18816 nb:009:run Finished: noduleAnalysis.training.ClassificationTrainingApp.['--num-workers=4', '--epochs=2', '--malignant', '--dataset=MalignantLunaDataset', '--finetune=data/models/NoduleAnalysis/cls_2022-06-03_11.39.42_nodule-nonnodule.best.state', 'finetune-depth=2']).main()\n"
     ]
    }
   ],
   "source": [
    "run('noduleAnalysis.training.ClassificationTrainingApp', f'--epochs=2', '--malignant', '--dataset=MalignantLunaDataset',\n",
    "    '--finetune=data/models/NoduleAnalysis/cls_2022-06-03_11.39.42_nodule-nonnodule.best.state','finetune-depth=2')"
   ]
  },
  {
   "cell_type": "code",
   "execution_count": null,
   "metadata": {},
   "outputs": [],
   "source": []
  }
 ],
 "metadata": {
  "interpreter": {
   "hash": "f3904b11df65f49a712f96f2b92dd3016842e7104d4970a6db409b3c05b202a0"
  },
  "kernelspec": {
   "display_name": "Python 3 (ipykernel)",
   "language": "python",
   "name": "python3"
  },
  "language_info": {
   "codemirror_mode": {
    "name": "ipython",
    "version": 3
   },
   "file_extension": ".py",
   "mimetype": "text/x-python",
   "name": "python",
   "nbconvert_exporter": "python",
   "pygments_lexer": "ipython3",
   "version": "3.9.7"
  }
 },
 "nbformat": 4,
 "nbformat_minor": 2
}
